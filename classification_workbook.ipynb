{
 "cells": [
  {
   "cell_type": "code",
   "execution_count": 1,
   "id": "ff58a97c",
   "metadata": {},
   "outputs": [],
   "source": [
    "# manipulations\n",
    "import pandas as pd\n",
    "import numpy as np\n",
    "\n",
    "# viz\n",
    "import seaborn as sns\n",
    "import matplotlib.pyplot as plt\n",
    "\n",
    "# math\n",
    "from scipy import stats\n",
    "import statistics\n",
    "import math\n",
    "\n",
    "# SQL access\n",
    "from env import host, user, password\n",
    "\n",
    "# local files\n",
    "from acquire import get_telco_data\n",
    "from prepare import prep_telco, telco_split\n",
    "import explore\n",
    "from model import more_clean\n",
    "\n",
    "# sklearn suite\n",
    "from sklearn.tree import DecisionTreeClassifier, plot_tree\n",
    "from sklearn.tree import export_graphviz, export_text\n",
    "from sklearn.metrics import classification_report, confusion_matrix, recall_score, precision_score\n",
    "from sklearn.metrics import f1_score, accuracy_score\n",
    "from sklearn.model_selection import train_test_split\n",
    "from sklearn.ensemble import RandomForestClassifier\n",
    "from sklearn.neighbors import KNeighborsClassifier\n",
    "from sklearn.linear_model import LogisticRegression"
   ]
  },
  {
   "cell_type": "markdown",
   "id": "b597e2cb",
   "metadata": {},
   "source": [
    "## Overall:\n",
    "1. Setup github repo - done\n",
    "2. Do initial planning stage of pipeline - done\n",
    "3. Create acquire module - done \n",
    "4. Create local env, check .gitignore - done\n",
    "5. Create prepare module - done\n",
    "6. Create train, validate, test split - done\n",
    "7. Explore the train set - \n",
    "8. Create models with train set\n",
    "9. Select best models and use validate test\n",
    "10. Create a csv with best model on test set\n",
    "11. Report conclusions, summary, recommendations"
   ]
  },
  {
   "cell_type": "markdown",
   "id": "130a71cd",
   "metadata": {},
   "source": [
    "## Planning:\n",
    "\n",
    "Goal - Identify drivers of churn, create models that address this, predict churn\n",
    "\n",
    "Deliverables - modules to interact with data (wrangling), workbook to see flow, final product to present to audience; README.md, Final_Report.ipynb, acquire.py & prepare.py, Predictions.csv, workbooks, etc..\n",
    "\n",
    "Questions:\n",
    "- End products: Github repo with emphasis on readme and final notebook\n",
    "- Format: mix of vscode and notebook\n",
    "- Audience: both non-data scientist oriented and peer oriented depending on section\n",
    "    - Emphasis on 'business decision' audience of executives at Telco\n",
    "- Use: To reduce Telco churn\n",
    "- MVP: Identified factors of churn, creatioin of a classification model that can predict churn, recommendations for        using model/reducing churn\n",
    "    - Final model must beat baseline (would hope for significant improvement), must be able to provide options           for reducing churn\n",
    "\n",
    "- Initial Data centric questions:\n",
    "    - What are my key drivers of churn? \n",
    "    - Does type of service impacts churn?\n",
    "    - Does internet type impact churn?\n",
    "    - Do demographic attributes impact churn?\n",
    "    - Does cost impact churn?\n",
    "    - Does tenure impact churn?\n",
    "    \n",
    "- Initial business centric questions:\n",
    "    - What is the cost of churn by:\n",
    "        - Customer breakdown? (CLV)\n",
    "        - Margins of profit by service or internet type?"
   ]
  },
  {
   "cell_type": "markdown",
   "id": "132e438a",
   "metadata": {},
   "source": [
    "## Acquisition:"
   ]
  },
  {
   "cell_type": "code",
   "execution_count": 2,
   "id": "57b9b45d",
   "metadata": {},
   "outputs": [
    {
     "name": "stdout",
     "output_type": "stream",
     "text": [
      "Using cached csv\n"
     ]
    },
    {
     "data": {
      "text/html": [
       "<div>\n",
       "<style scoped>\n",
       "    .dataframe tbody tr th:only-of-type {\n",
       "        vertical-align: middle;\n",
       "    }\n",
       "\n",
       "    .dataframe tbody tr th {\n",
       "        vertical-align: top;\n",
       "    }\n",
       "\n",
       "    .dataframe thead th {\n",
       "        text-align: right;\n",
       "    }\n",
       "</style>\n",
       "<table border=\"1\" class=\"dataframe\">\n",
       "  <thead>\n",
       "    <tr style=\"text-align: right;\">\n",
       "      <th></th>\n",
       "      <th>payment_type_id</th>\n",
       "      <th>contract_type_id</th>\n",
       "      <th>internet_service_type_id</th>\n",
       "      <th>customer_id</th>\n",
       "      <th>gender</th>\n",
       "      <th>senior_citizen</th>\n",
       "      <th>partner</th>\n",
       "      <th>dependents</th>\n",
       "      <th>tenure</th>\n",
       "      <th>phone_service</th>\n",
       "      <th>...</th>\n",
       "      <th>tech_support</th>\n",
       "      <th>streaming_tv</th>\n",
       "      <th>streaming_movies</th>\n",
       "      <th>paperless_billing</th>\n",
       "      <th>monthly_charges</th>\n",
       "      <th>total_charges</th>\n",
       "      <th>churn</th>\n",
       "      <th>internet_service_type</th>\n",
       "      <th>contract_type</th>\n",
       "      <th>payment_type</th>\n",
       "    </tr>\n",
       "  </thead>\n",
       "  <tbody>\n",
       "    <tr>\n",
       "      <th>0</th>\n",
       "      <td>2</td>\n",
       "      <td>2</td>\n",
       "      <td>1</td>\n",
       "      <td>0002-ORFBO</td>\n",
       "      <td>Female</td>\n",
       "      <td>0</td>\n",
       "      <td>Yes</td>\n",
       "      <td>Yes</td>\n",
       "      <td>9</td>\n",
       "      <td>Yes</td>\n",
       "      <td>...</td>\n",
       "      <td>Yes</td>\n",
       "      <td>Yes</td>\n",
       "      <td>No</td>\n",
       "      <td>Yes</td>\n",
       "      <td>65.6</td>\n",
       "      <td>593.3</td>\n",
       "      <td>No</td>\n",
       "      <td>DSL</td>\n",
       "      <td>One year</td>\n",
       "      <td>Mailed check</td>\n",
       "    </tr>\n",
       "    <tr>\n",
       "      <th>1</th>\n",
       "      <td>2</td>\n",
       "      <td>1</td>\n",
       "      <td>1</td>\n",
       "      <td>0003-MKNFE</td>\n",
       "      <td>Male</td>\n",
       "      <td>0</td>\n",
       "      <td>No</td>\n",
       "      <td>No</td>\n",
       "      <td>9</td>\n",
       "      <td>Yes</td>\n",
       "      <td>...</td>\n",
       "      <td>No</td>\n",
       "      <td>No</td>\n",
       "      <td>Yes</td>\n",
       "      <td>No</td>\n",
       "      <td>59.9</td>\n",
       "      <td>542.4</td>\n",
       "      <td>No</td>\n",
       "      <td>DSL</td>\n",
       "      <td>Month-to-month</td>\n",
       "      <td>Mailed check</td>\n",
       "    </tr>\n",
       "    <tr>\n",
       "      <th>2</th>\n",
       "      <td>1</td>\n",
       "      <td>1</td>\n",
       "      <td>2</td>\n",
       "      <td>0004-TLHLJ</td>\n",
       "      <td>Male</td>\n",
       "      <td>0</td>\n",
       "      <td>No</td>\n",
       "      <td>No</td>\n",
       "      <td>4</td>\n",
       "      <td>Yes</td>\n",
       "      <td>...</td>\n",
       "      <td>No</td>\n",
       "      <td>No</td>\n",
       "      <td>No</td>\n",
       "      <td>Yes</td>\n",
       "      <td>73.9</td>\n",
       "      <td>280.85</td>\n",
       "      <td>Yes</td>\n",
       "      <td>Fiber optic</td>\n",
       "      <td>Month-to-month</td>\n",
       "      <td>Electronic check</td>\n",
       "    </tr>\n",
       "    <tr>\n",
       "      <th>3</th>\n",
       "      <td>1</td>\n",
       "      <td>1</td>\n",
       "      <td>2</td>\n",
       "      <td>0011-IGKFF</td>\n",
       "      <td>Male</td>\n",
       "      <td>1</td>\n",
       "      <td>Yes</td>\n",
       "      <td>No</td>\n",
       "      <td>13</td>\n",
       "      <td>Yes</td>\n",
       "      <td>...</td>\n",
       "      <td>No</td>\n",
       "      <td>Yes</td>\n",
       "      <td>Yes</td>\n",
       "      <td>Yes</td>\n",
       "      <td>98.0</td>\n",
       "      <td>1237.85</td>\n",
       "      <td>Yes</td>\n",
       "      <td>Fiber optic</td>\n",
       "      <td>Month-to-month</td>\n",
       "      <td>Electronic check</td>\n",
       "    </tr>\n",
       "    <tr>\n",
       "      <th>4</th>\n",
       "      <td>2</td>\n",
       "      <td>1</td>\n",
       "      <td>2</td>\n",
       "      <td>0013-EXCHZ</td>\n",
       "      <td>Female</td>\n",
       "      <td>1</td>\n",
       "      <td>Yes</td>\n",
       "      <td>No</td>\n",
       "      <td>3</td>\n",
       "      <td>Yes</td>\n",
       "      <td>...</td>\n",
       "      <td>Yes</td>\n",
       "      <td>Yes</td>\n",
       "      <td>No</td>\n",
       "      <td>Yes</td>\n",
       "      <td>83.9</td>\n",
       "      <td>267.4</td>\n",
       "      <td>Yes</td>\n",
       "      <td>Fiber optic</td>\n",
       "      <td>Month-to-month</td>\n",
       "      <td>Mailed check</td>\n",
       "    </tr>\n",
       "  </tbody>\n",
       "</table>\n",
       "<p>5 rows × 24 columns</p>\n",
       "</div>"
      ],
      "text/plain": [
       "   payment_type_id  contract_type_id  internet_service_type_id customer_id  \\\n",
       "0                2                 2                         1  0002-ORFBO   \n",
       "1                2                 1                         1  0003-MKNFE   \n",
       "2                1                 1                         2  0004-TLHLJ   \n",
       "3                1                 1                         2  0011-IGKFF   \n",
       "4                2                 1                         2  0013-EXCHZ   \n",
       "\n",
       "   gender  senior_citizen partner dependents  tenure phone_service  ...  \\\n",
       "0  Female               0     Yes        Yes       9           Yes  ...   \n",
       "1    Male               0      No         No       9           Yes  ...   \n",
       "2    Male               0      No         No       4           Yes  ...   \n",
       "3    Male               1     Yes         No      13           Yes  ...   \n",
       "4  Female               1     Yes         No       3           Yes  ...   \n",
       "\n",
       "  tech_support streaming_tv streaming_movies paperless_billing  \\\n",
       "0          Yes          Yes               No               Yes   \n",
       "1           No           No              Yes                No   \n",
       "2           No           No               No               Yes   \n",
       "3           No          Yes              Yes               Yes   \n",
       "4          Yes          Yes               No               Yes   \n",
       "\n",
       "  monthly_charges total_charges churn internet_service_type   contract_type  \\\n",
       "0            65.6         593.3    No                   DSL        One year   \n",
       "1            59.9         542.4    No                   DSL  Month-to-month   \n",
       "2            73.9        280.85   Yes           Fiber optic  Month-to-month   \n",
       "3            98.0       1237.85   Yes           Fiber optic  Month-to-month   \n",
       "4            83.9         267.4   Yes           Fiber optic  Month-to-month   \n",
       "\n",
       "       payment_type  \n",
       "0      Mailed check  \n",
       "1      Mailed check  \n",
       "2  Electronic check  \n",
       "3  Electronic check  \n",
       "4      Mailed check  \n",
       "\n",
       "[5 rows x 24 columns]"
      ]
     },
     "execution_count": 2,
     "metadata": {},
     "output_type": "execute_result"
    }
   ],
   "source": [
    "df = get_telco_data()\n",
    "df.head()"
   ]
  },
  {
   "cell_type": "code",
   "execution_count": 3,
   "id": "08e213b3",
   "metadata": {},
   "outputs": [
    {
     "data": {
      "text/html": [
       "<div>\n",
       "<style scoped>\n",
       "    .dataframe tbody tr th:only-of-type {\n",
       "        vertical-align: middle;\n",
       "    }\n",
       "\n",
       "    .dataframe tbody tr th {\n",
       "        vertical-align: top;\n",
       "    }\n",
       "\n",
       "    .dataframe thead th {\n",
       "        text-align: right;\n",
       "    }\n",
       "</style>\n",
       "<table border=\"1\" class=\"dataframe\">\n",
       "  <thead>\n",
       "    <tr style=\"text-align: right;\">\n",
       "      <th></th>\n",
       "      <th>payment_type_id</th>\n",
       "      <th>contract_type_id</th>\n",
       "      <th>internet_service_type_id</th>\n",
       "      <th>senior_citizen</th>\n",
       "      <th>tenure</th>\n",
       "      <th>monthly_charges</th>\n",
       "    </tr>\n",
       "  </thead>\n",
       "  <tbody>\n",
       "    <tr>\n",
       "      <th>count</th>\n",
       "      <td>7043.000000</td>\n",
       "      <td>7043.000000</td>\n",
       "      <td>7043.000000</td>\n",
       "      <td>7043.000000</td>\n",
       "      <td>7043.000000</td>\n",
       "      <td>7043.000000</td>\n",
       "    </tr>\n",
       "    <tr>\n",
       "      <th>mean</th>\n",
       "      <td>2.315633</td>\n",
       "      <td>1.690473</td>\n",
       "      <td>1.872923</td>\n",
       "      <td>0.162147</td>\n",
       "      <td>32.371149</td>\n",
       "      <td>64.761692</td>\n",
       "    </tr>\n",
       "    <tr>\n",
       "      <th>std</th>\n",
       "      <td>1.148907</td>\n",
       "      <td>0.833755</td>\n",
       "      <td>0.737796</td>\n",
       "      <td>0.368612</td>\n",
       "      <td>24.559481</td>\n",
       "      <td>30.090047</td>\n",
       "    </tr>\n",
       "    <tr>\n",
       "      <th>min</th>\n",
       "      <td>1.000000</td>\n",
       "      <td>1.000000</td>\n",
       "      <td>1.000000</td>\n",
       "      <td>0.000000</td>\n",
       "      <td>0.000000</td>\n",
       "      <td>18.250000</td>\n",
       "    </tr>\n",
       "    <tr>\n",
       "      <th>25%</th>\n",
       "      <td>1.000000</td>\n",
       "      <td>1.000000</td>\n",
       "      <td>1.000000</td>\n",
       "      <td>0.000000</td>\n",
       "      <td>9.000000</td>\n",
       "      <td>35.500000</td>\n",
       "    </tr>\n",
       "    <tr>\n",
       "      <th>50%</th>\n",
       "      <td>2.000000</td>\n",
       "      <td>1.000000</td>\n",
       "      <td>2.000000</td>\n",
       "      <td>0.000000</td>\n",
       "      <td>29.000000</td>\n",
       "      <td>70.350000</td>\n",
       "    </tr>\n",
       "    <tr>\n",
       "      <th>75%</th>\n",
       "      <td>3.000000</td>\n",
       "      <td>2.000000</td>\n",
       "      <td>2.000000</td>\n",
       "      <td>0.000000</td>\n",
       "      <td>55.000000</td>\n",
       "      <td>89.850000</td>\n",
       "    </tr>\n",
       "    <tr>\n",
       "      <th>max</th>\n",
       "      <td>4.000000</td>\n",
       "      <td>3.000000</td>\n",
       "      <td>3.000000</td>\n",
       "      <td>1.000000</td>\n",
       "      <td>72.000000</td>\n",
       "      <td>118.750000</td>\n",
       "    </tr>\n",
       "  </tbody>\n",
       "</table>\n",
       "</div>"
      ],
      "text/plain": [
       "       payment_type_id  contract_type_id  internet_service_type_id  \\\n",
       "count      7043.000000       7043.000000               7043.000000   \n",
       "mean          2.315633          1.690473                  1.872923   \n",
       "std           1.148907          0.833755                  0.737796   \n",
       "min           1.000000          1.000000                  1.000000   \n",
       "25%           1.000000          1.000000                  1.000000   \n",
       "50%           2.000000          1.000000                  2.000000   \n",
       "75%           3.000000          2.000000                  2.000000   \n",
       "max           4.000000          3.000000                  3.000000   \n",
       "\n",
       "       senior_citizen       tenure  monthly_charges  \n",
       "count     7043.000000  7043.000000      7043.000000  \n",
       "mean         0.162147    32.371149        64.761692  \n",
       "std          0.368612    24.559481        30.090047  \n",
       "min          0.000000     0.000000        18.250000  \n",
       "25%          0.000000     9.000000        35.500000  \n",
       "50%          0.000000    29.000000        70.350000  \n",
       "75%          0.000000    55.000000        89.850000  \n",
       "max          1.000000    72.000000       118.750000  "
      ]
     },
     "execution_count": 3,
     "metadata": {},
     "output_type": "execute_result"
    }
   ],
   "source": [
    "df.describe()"
   ]
  },
  {
   "cell_type": "code",
   "execution_count": 4,
   "id": "417363b3",
   "metadata": {},
   "outputs": [
    {
     "name": "stdout",
     "output_type": "stream",
     "text": [
      "<class 'pandas.core.frame.DataFrame'>\n",
      "RangeIndex: 7043 entries, 0 to 7042\n",
      "Data columns (total 24 columns):\n",
      " #   Column                    Non-Null Count  Dtype  \n",
      "---  ------                    --------------  -----  \n",
      " 0   payment_type_id           7043 non-null   int64  \n",
      " 1   contract_type_id          7043 non-null   int64  \n",
      " 2   internet_service_type_id  7043 non-null   int64  \n",
      " 3   customer_id               7043 non-null   object \n",
      " 4   gender                    7043 non-null   object \n",
      " 5   senior_citizen            7043 non-null   int64  \n",
      " 6   partner                   7043 non-null   object \n",
      " 7   dependents                7043 non-null   object \n",
      " 8   tenure                    7043 non-null   int64  \n",
      " 9   phone_service             7043 non-null   object \n",
      " 10  multiple_lines            7043 non-null   object \n",
      " 11  online_security           7043 non-null   object \n",
      " 12  online_backup             7043 non-null   object \n",
      " 13  device_protection         7043 non-null   object \n",
      " 14  tech_support              7043 non-null   object \n",
      " 15  streaming_tv              7043 non-null   object \n",
      " 16  streaming_movies          7043 non-null   object \n",
      " 17  paperless_billing         7043 non-null   object \n",
      " 18  monthly_charges           7043 non-null   float64\n",
      " 19  total_charges             7043 non-null   object \n",
      " 20  churn                     7043 non-null   object \n",
      " 21  internet_service_type     7043 non-null   object \n",
      " 22  contract_type             7043 non-null   object \n",
      " 23  payment_type              7043 non-null   object \n",
      "dtypes: float64(1), int64(5), object(18)\n",
      "memory usage: 1.3+ MB\n"
     ]
    }
   ],
   "source": [
    "df.info()"
   ]
  },
  {
   "cell_type": "markdown",
   "id": "9d060979",
   "metadata": {},
   "source": [
    "## Preparation:"
   ]
  },
  {
   "cell_type": "code",
   "execution_count": 5,
   "id": "e2b3869d",
   "metadata": {},
   "outputs": [],
   "source": [
    "# End outcome\n",
    "train, validate, test = prep_telco(df)"
   ]
  },
  {
   "cell_type": "code",
   "execution_count": 6,
   "id": "ea3922cb",
   "metadata": {},
   "outputs": [
    {
     "data": {
      "text/plain": [
       "((3937, 32), (1688, 32), (1407, 32))"
      ]
     },
     "execution_count": 6,
     "metadata": {},
     "output_type": "execute_result"
    }
   ],
   "source": [
    "train.shape, validate.shape, test.shape"
   ]
  },
  {
   "cell_type": "code",
   "execution_count": 7,
   "id": "1b4a2ec4",
   "metadata": {},
   "outputs": [
    {
     "name": "stdout",
     "output_type": "stream",
     "text": [
      "<class 'pandas.core.frame.DataFrame'>\n",
      "Int64Index: 3937 entries, 5919 to 4192\n",
      "Data columns (total 32 columns):\n",
      " #   Column                                 Non-Null Count  Dtype  \n",
      "---  ------                                 --------------  -----  \n",
      " 0   customer_id                            3937 non-null   object \n",
      " 1   senior_citizen                         3937 non-null   int64  \n",
      " 2   tenure                                 3937 non-null   int64  \n",
      " 3   monthly_charges                        3937 non-null   float64\n",
      " 4   total_charges                          3937 non-null   float64\n",
      " 5   gender_Male                            3937 non-null   uint8  \n",
      " 6   partner_Yes                            3937 non-null   uint8  \n",
      " 7   dependents_Yes                         3937 non-null   uint8  \n",
      " 8   phone_service_Yes                      3937 non-null   uint8  \n",
      " 9   multiple_lines_No phone service        3937 non-null   uint8  \n",
      " 10  multiple_lines_Yes                     3937 non-null   uint8  \n",
      " 11  online_security_No internet service    3937 non-null   uint8  \n",
      " 12  online_security_Yes                    3937 non-null   uint8  \n",
      " 13  online_backup_No internet service      3937 non-null   uint8  \n",
      " 14  online_backup_Yes                      3937 non-null   uint8  \n",
      " 15  device_protection_No internet service  3937 non-null   uint8  \n",
      " 16  device_protection_Yes                  3937 non-null   uint8  \n",
      " 17  tech_support_No internet service       3937 non-null   uint8  \n",
      " 18  tech_support_Yes                       3937 non-null   uint8  \n",
      " 19  streaming_tv_No internet service       3937 non-null   uint8  \n",
      " 20  streaming_tv_Yes                       3937 non-null   uint8  \n",
      " 21  streaming_movies_No internet service   3937 non-null   uint8  \n",
      " 22  streaming_movies_Yes                   3937 non-null   uint8  \n",
      " 23  paperless_billing_Yes                  3937 non-null   uint8  \n",
      " 24  churn_Yes                              3937 non-null   uint8  \n",
      " 25  internet_service_type_Fiber optic      3937 non-null   uint8  \n",
      " 26  internet_service_type_None             3937 non-null   uint8  \n",
      " 27  contract_type_One year                 3937 non-null   uint8  \n",
      " 28  contract_type_Two year                 3937 non-null   uint8  \n",
      " 29  payment_type_Credit card (automatic)   3937 non-null   uint8  \n",
      " 30  payment_type_Electronic check          3937 non-null   uint8  \n",
      " 31  payment_type_Mailed check              3937 non-null   uint8  \n",
      "dtypes: float64(2), int64(2), object(1), uint8(27)\n",
      "memory usage: 288.4+ KB\n"
     ]
    }
   ],
   "source": [
    "train.info()"
   ]
  },
  {
   "cell_type": "code",
   "execution_count": 8,
   "id": "df0cbe51",
   "metadata": {},
   "outputs": [
    {
     "data": {
      "text/plain": [
       "customer_id                              0\n",
       "senior_citizen                           0\n",
       "tenure                                   0\n",
       "monthly_charges                          0\n",
       "total_charges                            0\n",
       "gender_Male                              0\n",
       "partner_Yes                              0\n",
       "dependents_Yes                           0\n",
       "phone_service_Yes                        0\n",
       "multiple_lines_No phone service          0\n",
       "multiple_lines_Yes                       0\n",
       "online_security_No internet service      0\n",
       "online_security_Yes                      0\n",
       "online_backup_No internet service        0\n",
       "online_backup_Yes                        0\n",
       "device_protection_No internet service    0\n",
       "device_protection_Yes                    0\n",
       "tech_support_No internet service         0\n",
       "tech_support_Yes                         0\n",
       "streaming_tv_No internet service         0\n",
       "streaming_tv_Yes                         0\n",
       "streaming_movies_No internet service     0\n",
       "streaming_movies_Yes                     0\n",
       "paperless_billing_Yes                    0\n",
       "churn_Yes                                0\n",
       "internet_service_type_Fiber optic        0\n",
       "internet_service_type_None               0\n",
       "contract_type_One year                   0\n",
       "contract_type_Two year                   0\n",
       "payment_type_Credit card (automatic)     0\n",
       "payment_type_Electronic check            0\n",
       "payment_type_Mailed check                0\n",
       "dtype: int64"
      ]
     },
     "execution_count": 8,
     "metadata": {},
     "output_type": "execute_result"
    }
   ],
   "source": [
    "train.isnull().sum()"
   ]
  },
  {
   "cell_type": "markdown",
   "id": "513525b0",
   "metadata": {},
   "source": [
    "### Prep Breakdown:"
   ]
  },
  {
   "cell_type": "code",
   "execution_count": 9,
   "id": "106cd8a8",
   "metadata": {},
   "outputs": [],
   "source": [
    "df.drop_duplicates(inplace=True)"
   ]
  },
  {
   "cell_type": "code",
   "execution_count": 10,
   "id": "db8dafc1",
   "metadata": {},
   "outputs": [],
   "source": [
    "df = df.drop(columns=['internet_service_type_id', 'contract_type_id', 'payment_type_id'])"
   ]
  },
  {
   "cell_type": "code",
   "execution_count": 11,
   "id": "d875c0d4",
   "metadata": {},
   "outputs": [],
   "source": [
    "df.total_charges = df.total_charges.replace(' ', np.nan).astype(float)"
   ]
  },
  {
   "cell_type": "code",
   "execution_count": 12,
   "id": "ca08f0a7",
   "metadata": {},
   "outputs": [],
   "source": [
    "df.dropna(inplace=True)"
   ]
  },
  {
   "cell_type": "code",
   "execution_count": 13,
   "id": "e9fc30a1",
   "metadata": {},
   "outputs": [
    {
     "name": "stdout",
     "output_type": "stream",
     "text": [
      "<class 'pandas.core.frame.DataFrame'>\n",
      "Int64Index: 7032 entries, 0 to 7042\n",
      "Data columns (total 21 columns):\n",
      " #   Column                 Non-Null Count  Dtype  \n",
      "---  ------                 --------------  -----  \n",
      " 0   customer_id            7032 non-null   object \n",
      " 1   gender                 7032 non-null   object \n",
      " 2   senior_citizen         7032 non-null   int64  \n",
      " 3   partner                7032 non-null   object \n",
      " 4   dependents             7032 non-null   object \n",
      " 5   tenure                 7032 non-null   int64  \n",
      " 6   phone_service          7032 non-null   object \n",
      " 7   multiple_lines         7032 non-null   object \n",
      " 8   online_security        7032 non-null   object \n",
      " 9   online_backup          7032 non-null   object \n",
      " 10  device_protection      7032 non-null   object \n",
      " 11  tech_support           7032 non-null   object \n",
      " 12  streaming_tv           7032 non-null   object \n",
      " 13  streaming_movies       7032 non-null   object \n",
      " 14  paperless_billing      7032 non-null   object \n",
      " 15  monthly_charges        7032 non-null   float64\n",
      " 16  total_charges          7032 non-null   float64\n",
      " 17  churn                  7032 non-null   object \n",
      " 18  internet_service_type  7032 non-null   object \n",
      " 19  contract_type          7032 non-null   object \n",
      " 20  payment_type           7032 non-null   object \n",
      "dtypes: float64(2), int64(2), object(17)\n",
      "memory usage: 1.2+ MB\n"
     ]
    }
   ],
   "source": [
    "df.info()"
   ]
  },
  {
   "cell_type": "code",
   "execution_count": 14,
   "id": "83f227f4",
   "metadata": {},
   "outputs": [],
   "source": [
    "cat_col = [col for col in df.columns if df[col].dtype == 'O']"
   ]
  },
  {
   "cell_type": "code",
   "execution_count": 15,
   "id": "402c27cd",
   "metadata": {},
   "outputs": [],
   "source": [
    "cat_col.remove('customer_id')"
   ]
  },
  {
   "cell_type": "code",
   "execution_count": 16,
   "id": "abead32c",
   "metadata": {},
   "outputs": [
    {
     "data": {
      "text/plain": [
       "['gender',\n",
       " 'partner',\n",
       " 'dependents',\n",
       " 'phone_service',\n",
       " 'multiple_lines',\n",
       " 'online_security',\n",
       " 'online_backup',\n",
       " 'device_protection',\n",
       " 'tech_support',\n",
       " 'streaming_tv',\n",
       " 'streaming_movies',\n",
       " 'paperless_billing',\n",
       " 'churn',\n",
       " 'internet_service_type',\n",
       " 'contract_type',\n",
       " 'payment_type']"
      ]
     },
     "execution_count": 16,
     "metadata": {},
     "output_type": "execute_result"
    }
   ],
   "source": [
    "cat_col"
   ]
  },
  {
   "cell_type": "code",
   "execution_count": 17,
   "id": "8a0fa62a",
   "metadata": {},
   "outputs": [
    {
     "name": "stdout",
     "output_type": "stream",
     "text": [
      "Male      3549\n",
      "Female    3483\n",
      "Name: gender, dtype: int64\n",
      "No     3639\n",
      "Yes    3393\n",
      "Name: partner, dtype: int64\n",
      "No     4933\n",
      "Yes    2099\n",
      "Name: dependents, dtype: int64\n",
      "Yes    6352\n",
      "No      680\n",
      "Name: phone_service, dtype: int64\n",
      "No                  3385\n",
      "Yes                 2967\n",
      "No phone service     680\n",
      "Name: multiple_lines, dtype: int64\n",
      "No                     3497\n",
      "Yes                    2015\n",
      "No internet service    1520\n",
      "Name: online_security, dtype: int64\n",
      "No                     3087\n",
      "Yes                    2425\n",
      "No internet service    1520\n",
      "Name: online_backup, dtype: int64\n",
      "No                     3094\n",
      "Yes                    2418\n",
      "No internet service    1520\n",
      "Name: device_protection, dtype: int64\n",
      "No                     3472\n",
      "Yes                    2040\n",
      "No internet service    1520\n",
      "Name: tech_support, dtype: int64\n",
      "No                     2809\n",
      "Yes                    2703\n",
      "No internet service    1520\n",
      "Name: streaming_tv, dtype: int64\n",
      "No                     2781\n",
      "Yes                    2731\n",
      "No internet service    1520\n",
      "Name: streaming_movies, dtype: int64\n",
      "Yes    4168\n",
      "No     2864\n",
      "Name: paperless_billing, dtype: int64\n",
      "No     5163\n",
      "Yes    1869\n",
      "Name: churn, dtype: int64\n",
      "Fiber optic    3096\n",
      "DSL            2416\n",
      "None           1520\n",
      "Name: internet_service_type, dtype: int64\n",
      "Month-to-month    3875\n",
      "Two year          1685\n",
      "One year          1472\n",
      "Name: contract_type, dtype: int64\n",
      "Electronic check             2365\n",
      "Mailed check                 1604\n",
      "Bank transfer (automatic)    1542\n",
      "Credit card (automatic)      1521\n",
      "Name: payment_type, dtype: int64\n"
     ]
    }
   ],
   "source": [
    "for col in cat_col:\n",
    "    print(df[col].value_counts())"
   ]
  },
  {
   "cell_type": "code",
   "execution_count": 18,
   "id": "94bca694",
   "metadata": {},
   "outputs": [],
   "source": [
    "for col in cat_col:\n",
    "    dummy_df = pd.get_dummies(df[col],\n",
    "                              prefix = df[col].name,\n",
    "                              drop_first=True,\n",
    "                              dummy_na=False)\n",
    "    df = pd.concat([df, dummy_df], axis=1)"
   ]
  },
  {
   "cell_type": "code",
   "execution_count": 19,
   "id": "f6a669e8",
   "metadata": {},
   "outputs": [
    {
     "name": "stdout",
     "output_type": "stream",
     "text": [
      "<class 'pandas.core.frame.DataFrame'>\n",
      "Int64Index: 7032 entries, 0 to 7042\n",
      "Data columns (total 48 columns):\n",
      " #   Column                                 Non-Null Count  Dtype  \n",
      "---  ------                                 --------------  -----  \n",
      " 0   customer_id                            7032 non-null   object \n",
      " 1   gender                                 7032 non-null   object \n",
      " 2   senior_citizen                         7032 non-null   int64  \n",
      " 3   partner                                7032 non-null   object \n",
      " 4   dependents                             7032 non-null   object \n",
      " 5   tenure                                 7032 non-null   int64  \n",
      " 6   phone_service                          7032 non-null   object \n",
      " 7   multiple_lines                         7032 non-null   object \n",
      " 8   online_security                        7032 non-null   object \n",
      " 9   online_backup                          7032 non-null   object \n",
      " 10  device_protection                      7032 non-null   object \n",
      " 11  tech_support                           7032 non-null   object \n",
      " 12  streaming_tv                           7032 non-null   object \n",
      " 13  streaming_movies                       7032 non-null   object \n",
      " 14  paperless_billing                      7032 non-null   object \n",
      " 15  monthly_charges                        7032 non-null   float64\n",
      " 16  total_charges                          7032 non-null   float64\n",
      " 17  churn                                  7032 non-null   object \n",
      " 18  internet_service_type                  7032 non-null   object \n",
      " 19  contract_type                          7032 non-null   object \n",
      " 20  payment_type                           7032 non-null   object \n",
      " 21  gender_Male                            7032 non-null   uint8  \n",
      " 22  partner_Yes                            7032 non-null   uint8  \n",
      " 23  dependents_Yes                         7032 non-null   uint8  \n",
      " 24  phone_service_Yes                      7032 non-null   uint8  \n",
      " 25  multiple_lines_No phone service        7032 non-null   uint8  \n",
      " 26  multiple_lines_Yes                     7032 non-null   uint8  \n",
      " 27  online_security_No internet service    7032 non-null   uint8  \n",
      " 28  online_security_Yes                    7032 non-null   uint8  \n",
      " 29  online_backup_No internet service      7032 non-null   uint8  \n",
      " 30  online_backup_Yes                      7032 non-null   uint8  \n",
      " 31  device_protection_No internet service  7032 non-null   uint8  \n",
      " 32  device_protection_Yes                  7032 non-null   uint8  \n",
      " 33  tech_support_No internet service       7032 non-null   uint8  \n",
      " 34  tech_support_Yes                       7032 non-null   uint8  \n",
      " 35  streaming_tv_No internet service       7032 non-null   uint8  \n",
      " 36  streaming_tv_Yes                       7032 non-null   uint8  \n",
      " 37  streaming_movies_No internet service   7032 non-null   uint8  \n",
      " 38  streaming_movies_Yes                   7032 non-null   uint8  \n",
      " 39  paperless_billing_Yes                  7032 non-null   uint8  \n",
      " 40  churn_Yes                              7032 non-null   uint8  \n",
      " 41  internet_service_type_Fiber optic      7032 non-null   uint8  \n",
      " 42  internet_service_type_None             7032 non-null   uint8  \n",
      " 43  contract_type_One year                 7032 non-null   uint8  \n",
      " 44  contract_type_Two year                 7032 non-null   uint8  \n",
      " 45  payment_type_Credit card (automatic)   7032 non-null   uint8  \n",
      " 46  payment_type_Electronic check          7032 non-null   uint8  \n",
      " 47  payment_type_Mailed check              7032 non-null   uint8  \n",
      "dtypes: float64(2), int64(2), object(17), uint8(27)\n",
      "memory usage: 1.4+ MB\n"
     ]
    }
   ],
   "source": [
    "df.info()"
   ]
  },
  {
   "cell_type": "code",
   "execution_count": 20,
   "id": "2bf1a3a2",
   "metadata": {},
   "outputs": [],
   "source": [
    "for col in cat_col:\n",
    "        df = df.drop(columns=col)"
   ]
  },
  {
   "cell_type": "code",
   "execution_count": 21,
   "id": "284a155c",
   "metadata": {},
   "outputs": [
    {
     "data": {
      "text/html": [
       "<div>\n",
       "<style scoped>\n",
       "    .dataframe tbody tr th:only-of-type {\n",
       "        vertical-align: middle;\n",
       "    }\n",
       "\n",
       "    .dataframe tbody tr th {\n",
       "        vertical-align: top;\n",
       "    }\n",
       "\n",
       "    .dataframe thead th {\n",
       "        text-align: right;\n",
       "    }\n",
       "</style>\n",
       "<table border=\"1\" class=\"dataframe\">\n",
       "  <thead>\n",
       "    <tr style=\"text-align: right;\">\n",
       "      <th></th>\n",
       "      <th>customer_id</th>\n",
       "      <th>senior_citizen</th>\n",
       "      <th>tenure</th>\n",
       "      <th>monthly_charges</th>\n",
       "      <th>total_charges</th>\n",
       "      <th>gender_Male</th>\n",
       "      <th>partner_Yes</th>\n",
       "      <th>dependents_Yes</th>\n",
       "      <th>phone_service_Yes</th>\n",
       "      <th>multiple_lines_No phone service</th>\n",
       "      <th>...</th>\n",
       "      <th>streaming_movies_Yes</th>\n",
       "      <th>paperless_billing_Yes</th>\n",
       "      <th>churn_Yes</th>\n",
       "      <th>internet_service_type_Fiber optic</th>\n",
       "      <th>internet_service_type_None</th>\n",
       "      <th>contract_type_One year</th>\n",
       "      <th>contract_type_Two year</th>\n",
       "      <th>payment_type_Credit card (automatic)</th>\n",
       "      <th>payment_type_Electronic check</th>\n",
       "      <th>payment_type_Mailed check</th>\n",
       "    </tr>\n",
       "  </thead>\n",
       "  <tbody>\n",
       "    <tr>\n",
       "      <th>0</th>\n",
       "      <td>0002-ORFBO</td>\n",
       "      <td>0</td>\n",
       "      <td>9</td>\n",
       "      <td>65.6</td>\n",
       "      <td>593.30</td>\n",
       "      <td>0</td>\n",
       "      <td>1</td>\n",
       "      <td>1</td>\n",
       "      <td>1</td>\n",
       "      <td>0</td>\n",
       "      <td>...</td>\n",
       "      <td>0</td>\n",
       "      <td>1</td>\n",
       "      <td>0</td>\n",
       "      <td>0</td>\n",
       "      <td>0</td>\n",
       "      <td>1</td>\n",
       "      <td>0</td>\n",
       "      <td>0</td>\n",
       "      <td>0</td>\n",
       "      <td>1</td>\n",
       "    </tr>\n",
       "    <tr>\n",
       "      <th>1</th>\n",
       "      <td>0003-MKNFE</td>\n",
       "      <td>0</td>\n",
       "      <td>9</td>\n",
       "      <td>59.9</td>\n",
       "      <td>542.40</td>\n",
       "      <td>1</td>\n",
       "      <td>0</td>\n",
       "      <td>0</td>\n",
       "      <td>1</td>\n",
       "      <td>0</td>\n",
       "      <td>...</td>\n",
       "      <td>1</td>\n",
       "      <td>0</td>\n",
       "      <td>0</td>\n",
       "      <td>0</td>\n",
       "      <td>0</td>\n",
       "      <td>0</td>\n",
       "      <td>0</td>\n",
       "      <td>0</td>\n",
       "      <td>0</td>\n",
       "      <td>1</td>\n",
       "    </tr>\n",
       "    <tr>\n",
       "      <th>2</th>\n",
       "      <td>0004-TLHLJ</td>\n",
       "      <td>0</td>\n",
       "      <td>4</td>\n",
       "      <td>73.9</td>\n",
       "      <td>280.85</td>\n",
       "      <td>1</td>\n",
       "      <td>0</td>\n",
       "      <td>0</td>\n",
       "      <td>1</td>\n",
       "      <td>0</td>\n",
       "      <td>...</td>\n",
       "      <td>0</td>\n",
       "      <td>1</td>\n",
       "      <td>1</td>\n",
       "      <td>1</td>\n",
       "      <td>0</td>\n",
       "      <td>0</td>\n",
       "      <td>0</td>\n",
       "      <td>0</td>\n",
       "      <td>1</td>\n",
       "      <td>0</td>\n",
       "    </tr>\n",
       "    <tr>\n",
       "      <th>3</th>\n",
       "      <td>0011-IGKFF</td>\n",
       "      <td>1</td>\n",
       "      <td>13</td>\n",
       "      <td>98.0</td>\n",
       "      <td>1237.85</td>\n",
       "      <td>1</td>\n",
       "      <td>1</td>\n",
       "      <td>0</td>\n",
       "      <td>1</td>\n",
       "      <td>0</td>\n",
       "      <td>...</td>\n",
       "      <td>1</td>\n",
       "      <td>1</td>\n",
       "      <td>1</td>\n",
       "      <td>1</td>\n",
       "      <td>0</td>\n",
       "      <td>0</td>\n",
       "      <td>0</td>\n",
       "      <td>0</td>\n",
       "      <td>1</td>\n",
       "      <td>0</td>\n",
       "    </tr>\n",
       "    <tr>\n",
       "      <th>4</th>\n",
       "      <td>0013-EXCHZ</td>\n",
       "      <td>1</td>\n",
       "      <td>3</td>\n",
       "      <td>83.9</td>\n",
       "      <td>267.40</td>\n",
       "      <td>0</td>\n",
       "      <td>1</td>\n",
       "      <td>0</td>\n",
       "      <td>1</td>\n",
       "      <td>0</td>\n",
       "      <td>...</td>\n",
       "      <td>0</td>\n",
       "      <td>1</td>\n",
       "      <td>1</td>\n",
       "      <td>1</td>\n",
       "      <td>0</td>\n",
       "      <td>0</td>\n",
       "      <td>0</td>\n",
       "      <td>0</td>\n",
       "      <td>0</td>\n",
       "      <td>1</td>\n",
       "    </tr>\n",
       "  </tbody>\n",
       "</table>\n",
       "<p>5 rows × 32 columns</p>\n",
       "</div>"
      ],
      "text/plain": [
       "  customer_id  senior_citizen  tenure  monthly_charges  total_charges  \\\n",
       "0  0002-ORFBO               0       9             65.6         593.30   \n",
       "1  0003-MKNFE               0       9             59.9         542.40   \n",
       "2  0004-TLHLJ               0       4             73.9         280.85   \n",
       "3  0011-IGKFF               1      13             98.0        1237.85   \n",
       "4  0013-EXCHZ               1       3             83.9         267.40   \n",
       "\n",
       "   gender_Male  partner_Yes  dependents_Yes  phone_service_Yes  \\\n",
       "0            0            1               1                  1   \n",
       "1            1            0               0                  1   \n",
       "2            1            0               0                  1   \n",
       "3            1            1               0                  1   \n",
       "4            0            1               0                  1   \n",
       "\n",
       "   multiple_lines_No phone service  ...  streaming_movies_Yes  \\\n",
       "0                                0  ...                     0   \n",
       "1                                0  ...                     1   \n",
       "2                                0  ...                     0   \n",
       "3                                0  ...                     1   \n",
       "4                                0  ...                     0   \n",
       "\n",
       "   paperless_billing_Yes  churn_Yes  internet_service_type_Fiber optic  \\\n",
       "0                      1          0                                  0   \n",
       "1                      0          0                                  0   \n",
       "2                      1          1                                  1   \n",
       "3                      1          1                                  1   \n",
       "4                      1          1                                  1   \n",
       "\n",
       "   internet_service_type_None  contract_type_One year  contract_type_Two year  \\\n",
       "0                           0                       1                       0   \n",
       "1                           0                       0                       0   \n",
       "2                           0                       0                       0   \n",
       "3                           0                       0                       0   \n",
       "4                           0                       0                       0   \n",
       "\n",
       "   payment_type_Credit card (automatic)  payment_type_Electronic check  \\\n",
       "0                                     0                              0   \n",
       "1                                     0                              0   \n",
       "2                                     0                              1   \n",
       "3                                     0                              1   \n",
       "4                                     0                              0   \n",
       "\n",
       "   payment_type_Mailed check  \n",
       "0                          1  \n",
       "1                          1  \n",
       "2                          0  \n",
       "3                          0  \n",
       "4                          1  \n",
       "\n",
       "[5 rows x 32 columns]"
      ]
     },
     "execution_count": 21,
     "metadata": {},
     "output_type": "execute_result"
    }
   ],
   "source": [
    "df.head()"
   ]
  },
  {
   "cell_type": "code",
   "execution_count": 22,
   "id": "c6a3e2d2",
   "metadata": {},
   "outputs": [
    {
     "data": {
      "text/plain": [
       "8684.8"
      ]
     },
     "execution_count": 22,
     "metadata": {},
     "output_type": "execute_result"
    }
   ],
   "source": [
    "df.total_charges.max()"
   ]
  },
  {
   "cell_type": "code",
   "execution_count": 23,
   "id": "ba886bb4",
   "metadata": {},
   "outputs": [],
   "source": [
    "train, validate, test = telco_split(df)"
   ]
  },
  {
   "cell_type": "code",
   "execution_count": 24,
   "id": "da80f357",
   "metadata": {},
   "outputs": [
    {
     "data": {
      "text/plain": [
       "((3937, 32), (1688, 32), (1407, 32))"
      ]
     },
     "execution_count": 24,
     "metadata": {},
     "output_type": "execute_result"
    }
   ],
   "source": [
    "train.shape, validate.shape, test.shape"
   ]
  },
  {
   "cell_type": "code",
   "execution_count": 25,
   "id": "cc2c9970",
   "metadata": {},
   "outputs": [
    {
     "data": {
      "text/html": [
       "<div>\n",
       "<style scoped>\n",
       "    .dataframe tbody tr th:only-of-type {\n",
       "        vertical-align: middle;\n",
       "    }\n",
       "\n",
       "    .dataframe tbody tr th {\n",
       "        vertical-align: top;\n",
       "    }\n",
       "\n",
       "    .dataframe thead th {\n",
       "        text-align: right;\n",
       "    }\n",
       "</style>\n",
       "<table border=\"1\" class=\"dataframe\">\n",
       "  <thead>\n",
       "    <tr style=\"text-align: right;\">\n",
       "      <th></th>\n",
       "      <th>customer_id</th>\n",
       "      <th>senior_citizen</th>\n",
       "      <th>tenure</th>\n",
       "      <th>monthly_charges</th>\n",
       "      <th>total_charges</th>\n",
       "      <th>gender_Male</th>\n",
       "      <th>partner_Yes</th>\n",
       "      <th>dependents_Yes</th>\n",
       "      <th>phone_service_Yes</th>\n",
       "      <th>multiple_lines_No phone service</th>\n",
       "      <th>...</th>\n",
       "      <th>streaming_movies_Yes</th>\n",
       "      <th>paperless_billing_Yes</th>\n",
       "      <th>churn_Yes</th>\n",
       "      <th>internet_service_type_Fiber optic</th>\n",
       "      <th>internet_service_type_None</th>\n",
       "      <th>contract_type_One year</th>\n",
       "      <th>contract_type_Two year</th>\n",
       "      <th>payment_type_Credit card (automatic)</th>\n",
       "      <th>payment_type_Electronic check</th>\n",
       "      <th>payment_type_Mailed check</th>\n",
       "    </tr>\n",
       "  </thead>\n",
       "  <tbody>\n",
       "    <tr>\n",
       "      <th>5919</th>\n",
       "      <td>8331-ZXFOE</td>\n",
       "      <td>0</td>\n",
       "      <td>58</td>\n",
       "      <td>71.10</td>\n",
       "      <td>4299.20</td>\n",
       "      <td>0</td>\n",
       "      <td>0</td>\n",
       "      <td>0</td>\n",
       "      <td>1</td>\n",
       "      <td>0</td>\n",
       "      <td>...</td>\n",
       "      <td>0</td>\n",
       "      <td>1</td>\n",
       "      <td>0</td>\n",
       "      <td>0</td>\n",
       "      <td>0</td>\n",
       "      <td>1</td>\n",
       "      <td>0</td>\n",
       "      <td>1</td>\n",
       "      <td>0</td>\n",
       "      <td>0</td>\n",
       "    </tr>\n",
       "    <tr>\n",
       "      <th>1915</th>\n",
       "      <td>2790-XUYMV</td>\n",
       "      <td>0</td>\n",
       "      <td>71</td>\n",
       "      <td>85.45</td>\n",
       "      <td>6028.95</td>\n",
       "      <td>1</td>\n",
       "      <td>0</td>\n",
       "      <td>1</td>\n",
       "      <td>1</td>\n",
       "      <td>0</td>\n",
       "      <td>...</td>\n",
       "      <td>0</td>\n",
       "      <td>1</td>\n",
       "      <td>0</td>\n",
       "      <td>1</td>\n",
       "      <td>0</td>\n",
       "      <td>1</td>\n",
       "      <td>0</td>\n",
       "      <td>1</td>\n",
       "      <td>0</td>\n",
       "      <td>0</td>\n",
       "    </tr>\n",
       "    <tr>\n",
       "      <th>5054</th>\n",
       "      <td>7107-UBYKY</td>\n",
       "      <td>0</td>\n",
       "      <td>35</td>\n",
       "      <td>25.75</td>\n",
       "      <td>882.55</td>\n",
       "      <td>0</td>\n",
       "      <td>1</td>\n",
       "      <td>1</td>\n",
       "      <td>1</td>\n",
       "      <td>0</td>\n",
       "      <td>...</td>\n",
       "      <td>0</td>\n",
       "      <td>1</td>\n",
       "      <td>0</td>\n",
       "      <td>0</td>\n",
       "      <td>1</td>\n",
       "      <td>0</td>\n",
       "      <td>0</td>\n",
       "      <td>0</td>\n",
       "      <td>1</td>\n",
       "      <td>0</td>\n",
       "    </tr>\n",
       "    <tr>\n",
       "      <th>2355</th>\n",
       "      <td>3373-YZZYM</td>\n",
       "      <td>0</td>\n",
       "      <td>1</td>\n",
       "      <td>19.20</td>\n",
       "      <td>19.20</td>\n",
       "      <td>1</td>\n",
       "      <td>1</td>\n",
       "      <td>1</td>\n",
       "      <td>1</td>\n",
       "      <td>0</td>\n",
       "      <td>...</td>\n",
       "      <td>0</td>\n",
       "      <td>0</td>\n",
       "      <td>0</td>\n",
       "      <td>0</td>\n",
       "      <td>1</td>\n",
       "      <td>0</td>\n",
       "      <td>0</td>\n",
       "      <td>0</td>\n",
       "      <td>0</td>\n",
       "      <td>1</td>\n",
       "    </tr>\n",
       "    <tr>\n",
       "      <th>6279</th>\n",
       "      <td>8883-GRDWQ</td>\n",
       "      <td>1</td>\n",
       "      <td>20</td>\n",
       "      <td>54.00</td>\n",
       "      <td>1055.90</td>\n",
       "      <td>1</td>\n",
       "      <td>0</td>\n",
       "      <td>0</td>\n",
       "      <td>1</td>\n",
       "      <td>0</td>\n",
       "      <td>...</td>\n",
       "      <td>0</td>\n",
       "      <td>0</td>\n",
       "      <td>0</td>\n",
       "      <td>0</td>\n",
       "      <td>0</td>\n",
       "      <td>1</td>\n",
       "      <td>0</td>\n",
       "      <td>0</td>\n",
       "      <td>0</td>\n",
       "      <td>1</td>\n",
       "    </tr>\n",
       "  </tbody>\n",
       "</table>\n",
       "<p>5 rows × 32 columns</p>\n",
       "</div>"
      ],
      "text/plain": [
       "     customer_id  senior_citizen  tenure  monthly_charges  total_charges  \\\n",
       "5919  8331-ZXFOE               0      58            71.10        4299.20   \n",
       "1915  2790-XUYMV               0      71            85.45        6028.95   \n",
       "5054  7107-UBYKY               0      35            25.75         882.55   \n",
       "2355  3373-YZZYM               0       1            19.20          19.20   \n",
       "6279  8883-GRDWQ               1      20            54.00        1055.90   \n",
       "\n",
       "      gender_Male  partner_Yes  dependents_Yes  phone_service_Yes  \\\n",
       "5919            0            0               0                  1   \n",
       "1915            1            0               1                  1   \n",
       "5054            0            1               1                  1   \n",
       "2355            1            1               1                  1   \n",
       "6279            1            0               0                  1   \n",
       "\n",
       "      multiple_lines_No phone service  ...  streaming_movies_Yes  \\\n",
       "5919                                0  ...                     0   \n",
       "1915                                0  ...                     0   \n",
       "5054                                0  ...                     0   \n",
       "2355                                0  ...                     0   \n",
       "6279                                0  ...                     0   \n",
       "\n",
       "      paperless_billing_Yes  churn_Yes  internet_service_type_Fiber optic  \\\n",
       "5919                      1          0                                  0   \n",
       "1915                      1          0                                  1   \n",
       "5054                      1          0                                  0   \n",
       "2355                      0          0                                  0   \n",
       "6279                      0          0                                  0   \n",
       "\n",
       "      internet_service_type_None  contract_type_One year  \\\n",
       "5919                           0                       1   \n",
       "1915                           0                       1   \n",
       "5054                           1                       0   \n",
       "2355                           1                       0   \n",
       "6279                           0                       1   \n",
       "\n",
       "      contract_type_Two year  payment_type_Credit card (automatic)  \\\n",
       "5919                       0                                     1   \n",
       "1915                       0                                     1   \n",
       "5054                       0                                     0   \n",
       "2355                       0                                     0   \n",
       "6279                       0                                     0   \n",
       "\n",
       "      payment_type_Electronic check  payment_type_Mailed check  \n",
       "5919                              0                          0  \n",
       "1915                              0                          0  \n",
       "5054                              1                          0  \n",
       "2355                              0                          1  \n",
       "6279                              0                          1  \n",
       "\n",
       "[5 rows x 32 columns]"
      ]
     },
     "execution_count": 25,
     "metadata": {},
     "output_type": "execute_result"
    }
   ],
   "source": [
    "train.head()"
   ]
  },
  {
   "cell_type": "code",
   "execution_count": 26,
   "id": "f45d15c4",
   "metadata": {},
   "outputs": [
    {
     "name": "stdout",
     "output_type": "stream",
     "text": [
      "<class 'pandas.core.frame.DataFrame'>\n",
      "Int64Index: 3937 entries, 5919 to 4192\n",
      "Data columns (total 32 columns):\n",
      " #   Column                                 Non-Null Count  Dtype  \n",
      "---  ------                                 --------------  -----  \n",
      " 0   customer_id                            3937 non-null   object \n",
      " 1   senior_citizen                         3937 non-null   int64  \n",
      " 2   tenure                                 3937 non-null   int64  \n",
      " 3   monthly_charges                        3937 non-null   float64\n",
      " 4   total_charges                          3937 non-null   float64\n",
      " 5   gender_Male                            3937 non-null   uint8  \n",
      " 6   partner_Yes                            3937 non-null   uint8  \n",
      " 7   dependents_Yes                         3937 non-null   uint8  \n",
      " 8   phone_service_Yes                      3937 non-null   uint8  \n",
      " 9   multiple_lines_No phone service        3937 non-null   uint8  \n",
      " 10  multiple_lines_Yes                     3937 non-null   uint8  \n",
      " 11  online_security_No internet service    3937 non-null   uint8  \n",
      " 12  online_security_Yes                    3937 non-null   uint8  \n",
      " 13  online_backup_No internet service      3937 non-null   uint8  \n",
      " 14  online_backup_Yes                      3937 non-null   uint8  \n",
      " 15  device_protection_No internet service  3937 non-null   uint8  \n",
      " 16  device_protection_Yes                  3937 non-null   uint8  \n",
      " 17  tech_support_No internet service       3937 non-null   uint8  \n",
      " 18  tech_support_Yes                       3937 non-null   uint8  \n",
      " 19  streaming_tv_No internet service       3937 non-null   uint8  \n",
      " 20  streaming_tv_Yes                       3937 non-null   uint8  \n",
      " 21  streaming_movies_No internet service   3937 non-null   uint8  \n",
      " 22  streaming_movies_Yes                   3937 non-null   uint8  \n",
      " 23  paperless_billing_Yes                  3937 non-null   uint8  \n",
      " 24  churn_Yes                              3937 non-null   uint8  \n",
      " 25  internet_service_type_Fiber optic      3937 non-null   uint8  \n",
      " 26  internet_service_type_None             3937 non-null   uint8  \n",
      " 27  contract_type_One year                 3937 non-null   uint8  \n",
      " 28  contract_type_Two year                 3937 non-null   uint8  \n",
      " 29  payment_type_Credit card (automatic)   3937 non-null   uint8  \n",
      " 30  payment_type_Electronic check          3937 non-null   uint8  \n",
      " 31  payment_type_Mailed check              3937 non-null   uint8  \n",
      "dtypes: float64(2), int64(2), object(1), uint8(27)\n",
      "memory usage: 288.4+ KB\n"
     ]
    }
   ],
   "source": [
    "train.info()"
   ]
  },
  {
   "cell_type": "markdown",
   "id": "2f6134ed",
   "metadata": {},
   "source": [
    "## Exploration:"
   ]
  },
  {
   "cell_type": "markdown",
   "id": "e6cc86e1",
   "metadata": {},
   "source": [
    "What does the data actually have to tell us? \n",
    "\n",
    "Question 1: What is our baseline situation on churn?\n",
    "\n",
    "Question 2: What does the correlation heatmap look like?\n",
    "            - Narrow down some key drivers of churn\n",
    "                \n",
    "Question 3: What is the breakdown of service type and churn? \n",
    "\n",
    "Question 4: How do some demographics impact churn?\n",
    "\n",
    "Question 5: How does internet type impact churn?\n",
    "\n",
    "Question 6: How does contract type impact churn?\n",
    "\n",
    "Question 7: How does payment type impact churn?\n",
    "\n",
    "Question 8: How does tenure impact churn?\n",
    "\n",
    "Question 9: How does cost impact churn?"
   ]
  },
  {
   "cell_type": "code",
   "execution_count": 27,
   "id": "8246a29b",
   "metadata": {},
   "outputs": [],
   "source": [
    "alpha = .05 # for all statistical analysis will set alpha to .05"
   ]
  },
  {
   "cell_type": "code",
   "execution_count": 28,
   "id": "c55b88b2",
   "metadata": {},
   "outputs": [
    {
     "data": {
      "text/plain": [
       "0    2891\n",
       "1    1046\n",
       "Name: churn_Yes, dtype: int64"
      ]
     },
     "execution_count": 28,
     "metadata": {},
     "output_type": "execute_result"
    }
   ],
   "source": [
    "# Question 1 - Churn baseline\n",
    "train.churn_Yes.value_counts()"
   ]
  },
  {
   "cell_type": "code",
   "execution_count": 29,
   "id": "136a7d96",
   "metadata": {},
   "outputs": [],
   "source": [
    "churn_counts = [(train.churn_Yes.value_counts()[0]), (train.churn_Yes.value_counts()[1])]\n",
    "labels = ['No Churn', 'Churn']"
   ]
  },
  {
   "cell_type": "code",
   "execution_count": 30,
   "id": "a5d4d4ad",
   "metadata": {},
   "outputs": [
    {
     "data": {
      "text/plain": [
       "[2891, 1046]"
      ]
     },
     "execution_count": 30,
     "metadata": {},
     "output_type": "execute_result"
    }
   ],
   "source": [
    "churn_counts"
   ]
  },
  {
   "cell_type": "code",
   "execution_count": 31,
   "id": "b12b69d5",
   "metadata": {},
   "outputs": [
    {
     "data": {
      "image/png": "[encoded data removed]",
      "text/plain": [
       "<Figure size 432x288 with 1 Axes>"
      ]
     },
     "metadata": {},
     "output_type": "display_data"
    }
   ],
   "source": [
    "plt.pie(churn_counts, labels=labels, autopct = '%.0f%%')\n",
    "plt.title('Churn Breakdown')\n",
    "plt.show()"
   ]
  },
  {
   "cell_type": "code",
   "execution_count": 32,
   "id": "517f87c0",
   "metadata": {},
   "outputs": [
    {
     "data": {
      "image/png": "[encoded data removed]",
      "text/plain": [
       "<Figure size 432x288 with 1 Axes>"
      ]
     },
     "metadata": {},
     "output_type": "display_data"
    }
   ],
   "source": [
    "explore.pie_churn(train)"
   ]
  },
  {
   "cell_type": "code",
   "execution_count": 33,
   "id": "28840c70",
   "metadata": {},
   "outputs": [],
   "source": [
    "# ~ 1/4 of customers are churning"
   ]
  },
  {
   "cell_type": "markdown",
   "id": "9e064b08",
   "metadata": {},
   "source": [
    "### Additionally let's explore some Univariate information about some of our initial questions:"
   ]
  },
  {
   "cell_type": "code",
   "execution_count": 34,
   "id": "871e13fb",
   "metadata": {},
   "outputs": [],
   "source": [
    "cat_columns = ['senior_citizen', 'gender_Male', 'partner_Yes', 'dependents_Yes', \n",
    "           'phone_service_Yes', 'internet_service_type_Fiber optic', 'internet_service_type_None']\n",
    "num_columns = ['tenure', 'monthly_charges']"
   ]
  },
  {
   "cell_type": "code",
   "execution_count": 35,
   "id": "e2b750de",
   "metadata": {},
   "outputs": [
    {
     "data": {
      "image/png": "[encoded data removed]",
      "text/plain": [
       "<Figure size 432x288 with 1 Axes>"
      ]
     },
     "metadata": {
      "needs_background": "light"
     },
     "output_type": "display_data"
    },
    {
     "data": {
      "image/png": "[encoded data removed]",
      "text/plain": [
       "<Figure size 432x288 with 1 Axes>"
      ]
     },
     "metadata": {
      "needs_background": "light"
     },
     "output_type": "display_data"
    },
    {
     "data": {
      "image/png": "[encoded data removed]",
      "text/plain": [
       "<Figure size 432x288 with 1 Axes>"
      ]
     },
     "metadata": {
      "needs_background": "light"
     },
     "output_type": "display_data"
    },
    {
     "data": {
      "image/png": "[encoded data removed]",
      "text/plain": [
       "<Figure size 432x288 with 1 Axes>"
      ]
     },
     "metadata": {
      "needs_background": "light"
     },
     "output_type": "display_data"
    },
    {
     "data": {
      "image/png": "[encoded data removed]",
      "text/plain": [
       "<Figure size 432x288 with 1 Axes>"
      ]
     },
     "metadata": {
      "needs_background": "light"
     },
     "output_type": "display_data"
    },
    {
     "data": {
      "image/png": "[encoded data removed]",
      "text/plain": [
       "<Figure size 432x288 with 1 Axes>"
      ]
     },
     "metadata": {
      "needs_background": "light"
     },
     "output_type": "display_data"
    },
    {
     "data": {
      "image/png": "[encoded data removed]",
      "text/plain": [
       "<Figure size 432x288 with 1 Axes>"
      ]
     },
     "metadata": {
      "needs_background": "light"
     },
     "output_type": "display_data"
    }
   ],
   "source": [
    "for col in cat_columns:\n",
    "    sns.countplot(data=train, x=col)\n",
    "    plt.show()"
   ]
  },
  {
   "cell_type": "code",
   "execution_count": 36,
   "id": "7d11c66f",
   "metadata": {},
   "outputs": [
    {
     "data": {
      "image/png": "[encoded data removed]",
      "text/plain": [
       "<Figure size 432x288 with 1 Axes>"
      ]
     },
     "metadata": {
      "needs_background": "light"
     },
     "output_type": "display_data"
    },
    {
     "data": {
      "image/png": "[encoded data removed]",
      "text/plain": [
       "<Figure size 432x288 with 1 Axes>"
      ]
     },
     "metadata": {
      "needs_background": "light"
     },
     "output_type": "display_data"
    }
   ],
   "source": [
    "for col in num_columns:\n",
    "    sns.histplot(data=train, x=col)\n",
    "    plt.show()"
   ]
  },
  {
   "cell_type": "code",
   "execution_count": 37,
   "id": "5d47792b",
   "metadata": {},
   "outputs": [],
   "source": [
    "# For our categoricals we can see that majority of the population is not senior_citizen, gender/partner is about \n",
    "# evenly split, nearly all customers have (at least) phone service. Numerical columns we can see that there is a \n",
    "# skew to low tenure and very high tenure, and the monthly_charges have a heavy skew to the cheapest amount \n",
    "# (probably just phone)."
   ]
  },
  {
   "cell_type": "code",
   "execution_count": 38,
   "id": "bffc8f4e",
   "metadata": {},
   "outputs": [
    {
     "data": {
      "text/plain": [
       "<AxesSubplot:title={'center':'Heatmap'}>"
      ]
     },
     "execution_count": 38,
     "metadata": {},
     "output_type": "execute_result"
    },
    {
     "data": {
      "image/png": "[encoded data removed]",
      "text/plain": [
       "<Figure size 720x576 with 2 Axes>"
      ]
     },
     "metadata": {
      "needs_background": "light"
     },
     "output_type": "display_data"
    }
   ],
   "source": [
    "# Question 2 - Correlation heatmap, let's see how our columns correlate to churn\n",
    "df2 = df.drop(columns='customer_id')\n",
    "plt.figure(figsize=(10, 8)) \n",
    "plt.title(\"Heatmap\", fontsize = 'x-large')\n",
    "sns.heatmap(df2.corr()[['churn_Yes']].sort_values(by='churn_Yes', \n",
    "    ascending=False), vmin=-1, vmax=1, annot=True, cmap='BrBG')"
   ]
  },
  {
   "cell_type": "code",
   "execution_count": 39,
   "id": "7cd0df43",
   "metadata": {},
   "outputs": [],
   "source": [
    "# Drivers to pay attention to for churn:\n",
    "#     - Fiber, Electronic Check payment\n",
    "# Drivers to pay attention to for retention:\n",
    "#     - Tenure length, contract type (two year especially)"
   ]
  },
  {
   "cell_type": "code",
   "execution_count": 40,
   "id": "9cd7dde3",
   "metadata": {},
   "outputs": [
    {
     "name": "stdout",
     "output_type": "stream",
     "text": [
      "<class 'pandas.core.frame.DataFrame'>\n",
      "Int64Index: 3937 entries, 5919 to 4192\n",
      "Data columns (total 32 columns):\n",
      " #   Column                                 Non-Null Count  Dtype  \n",
      "---  ------                                 --------------  -----  \n",
      " 0   customer_id                            3937 non-null   object \n",
      " 1   senior_citizen                         3937 non-null   int64  \n",
      " 2   tenure                                 3937 non-null   int64  \n",
      " 3   monthly_charges                        3937 non-null   float64\n",
      " 4   total_charges                          3937 non-null   float64\n",
      " 5   gender_Male                            3937 non-null   uint8  \n",
      " 6   partner_Yes                            3937 non-null   uint8  \n",
      " 7   dependents_Yes                         3937 non-null   uint8  \n",
      " 8   phone_service_Yes                      3937 non-null   uint8  \n",
      " 9   multiple_lines_No phone service        3937 non-null   uint8  \n",
      " 10  multiple_lines_Yes                     3937 non-null   uint8  \n",
      " 11  online_security_No internet service    3937 non-null   uint8  \n",
      " 12  online_security_Yes                    3937 non-null   uint8  \n",
      " 13  online_backup_No internet service      3937 non-null   uint8  \n",
      " 14  online_backup_Yes                      3937 non-null   uint8  \n",
      " 15  device_protection_No internet service  3937 non-null   uint8  \n",
      " 16  device_protection_Yes                  3937 non-null   uint8  \n",
      " 17  tech_support_No internet service       3937 non-null   uint8  \n",
      " 18  tech_support_Yes                       3937 non-null   uint8  \n",
      " 19  streaming_tv_No internet service       3937 non-null   uint8  \n",
      " 20  streaming_tv_Yes                       3937 non-null   uint8  \n",
      " 21  streaming_movies_No internet service   3937 non-null   uint8  \n",
      " 22  streaming_movies_Yes                   3937 non-null   uint8  \n",
      " 23  paperless_billing_Yes                  3937 non-null   uint8  \n",
      " 24  churn_Yes                              3937 non-null   uint8  \n",
      " 25  internet_service_type_Fiber optic      3937 non-null   uint8  \n",
      " 26  internet_service_type_None             3937 non-null   uint8  \n",
      " 27  contract_type_One year                 3937 non-null   uint8  \n",
      " 28  contract_type_Two year                 3937 non-null   uint8  \n",
      " 29  payment_type_Credit card (automatic)   3937 non-null   uint8  \n",
      " 30  payment_type_Electronic check          3937 non-null   uint8  \n",
      " 31  payment_type_Mailed check              3937 non-null   uint8  \n",
      "dtypes: float64(2), int64(2), object(1), uint8(27)\n",
      "memory usage: 417.4+ KB\n"
     ]
    }
   ],
   "source": [
    "train.info()"
   ]
  },
  {
   "cell_type": "markdown",
   "id": "f1eb8a82",
   "metadata": {},
   "source": [
    "### Additional prep:\n",
    "For ease of df manipulation going to drop some of the less useful columns"
   ]
  },
  {
   "cell_type": "code",
   "execution_count": 41,
   "id": "1578f7ed",
   "metadata": {},
   "outputs": [],
   "source": [
    "train2 = train.drop(columns=['partner_Yes', 'gender_Male', 'dependents_Yes'])"
   ]
  },
  {
   "cell_type": "code",
   "execution_count": 42,
   "id": "e63890e9",
   "metadata": {},
   "outputs": [],
   "source": [
    "train2 = train2.drop(columns=['multiple_lines_No phone service', 'multiple_lines_Yes'])"
   ]
  },
  {
   "cell_type": "code",
   "execution_count": 43,
   "id": "b3c1ef9b",
   "metadata": {},
   "outputs": [
    {
     "data": {
      "text/plain": [
       "<AxesSubplot:title={'center':'Heatmap'}>"
      ]
     },
     "execution_count": 43,
     "metadata": {},
     "output_type": "execute_result"
    },
    {
     "data": {
      "image/png": "[encoded data removed]",
      "text/plain": [
       "<Figure size 720x576 with 2 Axes>"
      ]
     },
     "metadata": {
      "needs_background": "light"
     },
     "output_type": "display_data"
    }
   ],
   "source": [
    "plt.figure(figsize=(10, 8)) \n",
    "plt.title(\"Heatmap\", fontsize = 'x-large')\n",
    "sns.heatmap(train2.corr()[['churn_Yes']].sort_values(by='churn_Yes', \n",
    "    ascending=False), vmin=-1, vmax=1, annot=True, cmap='BrBG')"
   ]
  },
  {
   "cell_type": "code",
   "execution_count": 44,
   "id": "bd560f60",
   "metadata": {},
   "outputs": [
    {
     "data": {
      "text/html": [
       "<div>\n",
       "<style scoped>\n",
       "    .dataframe tbody tr th:only-of-type {\n",
       "        vertical-align: middle;\n",
       "    }\n",
       "\n",
       "    .dataframe tbody tr th {\n",
       "        vertical-align: top;\n",
       "    }\n",
       "\n",
       "    .dataframe thead th {\n",
       "        text-align: right;\n",
       "    }\n",
       "</style>\n",
       "<table border=\"1\" class=\"dataframe\">\n",
       "  <thead>\n",
       "    <tr style=\"text-align: right;\">\n",
       "      <th></th>\n",
       "      <th>customer_id</th>\n",
       "      <th>senior_citizen</th>\n",
       "      <th>tenure</th>\n",
       "      <th>monthly_charges</th>\n",
       "      <th>total_charges</th>\n",
       "      <th>phone_service_Yes</th>\n",
       "      <th>online_security_No internet service</th>\n",
       "      <th>online_security_Yes</th>\n",
       "      <th>online_backup_No internet service</th>\n",
       "      <th>online_backup_Yes</th>\n",
       "      <th>...</th>\n",
       "      <th>streaming_movies_Yes</th>\n",
       "      <th>paperless_billing_Yes</th>\n",
       "      <th>churn_Yes</th>\n",
       "      <th>internet_service_type_Fiber optic</th>\n",
       "      <th>internet_service_type_None</th>\n",
       "      <th>contract_type_One year</th>\n",
       "      <th>contract_type_Two year</th>\n",
       "      <th>payment_type_Credit card (automatic)</th>\n",
       "      <th>payment_type_Electronic check</th>\n",
       "      <th>payment_type_Mailed check</th>\n",
       "    </tr>\n",
       "  </thead>\n",
       "  <tbody>\n",
       "    <tr>\n",
       "      <th>5919</th>\n",
       "      <td>8331-ZXFOE</td>\n",
       "      <td>0</td>\n",
       "      <td>58</td>\n",
       "      <td>71.10</td>\n",
       "      <td>4299.20</td>\n",
       "      <td>1</td>\n",
       "      <td>0</td>\n",
       "      <td>1</td>\n",
       "      <td>0</td>\n",
       "      <td>1</td>\n",
       "      <td>...</td>\n",
       "      <td>0</td>\n",
       "      <td>1</td>\n",
       "      <td>0</td>\n",
       "      <td>0</td>\n",
       "      <td>0</td>\n",
       "      <td>1</td>\n",
       "      <td>0</td>\n",
       "      <td>1</td>\n",
       "      <td>0</td>\n",
       "      <td>0</td>\n",
       "    </tr>\n",
       "    <tr>\n",
       "      <th>1915</th>\n",
       "      <td>2790-XUYMV</td>\n",
       "      <td>0</td>\n",
       "      <td>71</td>\n",
       "      <td>85.45</td>\n",
       "      <td>6028.95</td>\n",
       "      <td>1</td>\n",
       "      <td>0</td>\n",
       "      <td>1</td>\n",
       "      <td>0</td>\n",
       "      <td>1</td>\n",
       "      <td>...</td>\n",
       "      <td>0</td>\n",
       "      <td>1</td>\n",
       "      <td>0</td>\n",
       "      <td>1</td>\n",
       "      <td>0</td>\n",
       "      <td>1</td>\n",
       "      <td>0</td>\n",
       "      <td>1</td>\n",
       "      <td>0</td>\n",
       "      <td>0</td>\n",
       "    </tr>\n",
       "  </tbody>\n",
       "</table>\n",
       "<p>2 rows × 27 columns</p>\n",
       "</div>"
      ],
      "text/plain": [
       "     customer_id  senior_citizen  tenure  monthly_charges  total_charges  \\\n",
       "5919  8331-ZXFOE               0      58            71.10        4299.20   \n",
       "1915  2790-XUYMV               0      71            85.45        6028.95   \n",
       "\n",
       "      phone_service_Yes  online_security_No internet service  \\\n",
       "5919                  1                                    0   \n",
       "1915                  1                                    0   \n",
       "\n",
       "      online_security_Yes  online_backup_No internet service  \\\n",
       "5919                    1                                  0   \n",
       "1915                    1                                  0   \n",
       "\n",
       "      online_backup_Yes  ...  streaming_movies_Yes  paperless_billing_Yes  \\\n",
       "5919                  1  ...                     0                      1   \n",
       "1915                  1  ...                     0                      1   \n",
       "\n",
       "      churn_Yes  internet_service_type_Fiber optic  \\\n",
       "5919          0                                  0   \n",
       "1915          0                                  1   \n",
       "\n",
       "      internet_service_type_None  contract_type_One year  \\\n",
       "5919                           0                       1   \n",
       "1915                           0                       1   \n",
       "\n",
       "      contract_type_Two year  payment_type_Credit card (automatic)  \\\n",
       "5919                       0                                     1   \n",
       "1915                       0                                     1   \n",
       "\n",
       "      payment_type_Electronic check  payment_type_Mailed check  \n",
       "5919                              0                          0  \n",
       "1915                              0                          0  \n",
       "\n",
       "[2 rows x 27 columns]"
      ]
     },
     "execution_count": 44,
     "metadata": {},
     "output_type": "execute_result"
    }
   ],
   "source": [
    "train2.head(2)"
   ]
  },
  {
   "cell_type": "markdown",
   "id": "c8bbc5c8",
   "metadata": {},
   "source": [
    "#### Question 4 - demographics (senior, dependents, etc...) \n",
    "From the corr. heatmap we have weeded out most of the demographics and will focus on the service, internet type, payment type, etc... these seem to indicate a much more accurate churn prediction than the attributes of the customer themselves"
   ]
  },
  {
   "cell_type": "markdown",
   "id": "dfb53915",
   "metadata": {},
   "source": [
    "##### To confirm let's quickly explore some of the demographic elements:\n",
    "### Bivariate Dive:"
   ]
  },
  {
   "cell_type": "code",
   "execution_count": 45,
   "id": "e1aa8d59",
   "metadata": {},
   "outputs": [],
   "source": [
    "columns = ['senior_citizen', 'gender_Male', 'partner_Yes', 'dependents_Yes']"
   ]
  },
  {
   "cell_type": "code",
   "execution_count": 46,
   "id": "0390e773",
   "metadata": {},
   "outputs": [
    {
     "data": {
      "image/png": "[encoded data removed]",
      "text/plain": [
       "<Figure size 432x288 with 1 Axes>"
      ]
     },
     "metadata": {
      "needs_background": "light"
     },
     "output_type": "display_data"
    },
    {
     "data": {
      "image/png": "[encoded data removed]",
      "text/plain": [
       "<Figure size 432x288 with 1 Axes>"
      ]
     },
     "metadata": {
      "needs_background": "light"
     },
     "output_type": "display_data"
    },
    {
     "data": {
      "image/png": "[encoded data removed]",
      "text/plain": [
       "<Figure size 432x288 with 1 Axes>"
      ]
     },
     "metadata": {
      "needs_background": "light"
     },
     "output_type": "display_data"
    },
    {
     "data": {
      "image/png": "[encoded data removed]",
      "text/plain": [
       "<Figure size 432x288 with 1 Axes>"
      ]
     },
     "metadata": {
      "needs_background": "light"
     },
     "output_type": "display_data"
    }
   ],
   "source": [
    "for col in columns:\n",
    "    cross = pd.crosstab(train[col], train.churn_Yes)\n",
    "    cross.plot(kind='bar')"
   ]
  },
  {
   "cell_type": "code",
   "execution_count": 47,
   "id": "055c415d",
   "metadata": {},
   "outputs": [],
   "source": [
    "# We can see that for all of these attributes the churn is lower than not churning. The only one where a significant\n",
    "# difference can be seen is senior_citizen, so we will keep that in our features moving forward. We can confirm the\n",
    "# the sifgnificance of senior_citizen with some statistical analysis"
   ]
  },
  {
   "cell_type": "code",
   "execution_count": 48,
   "id": "4441c860",
   "metadata": {},
   "outputs": [],
   "source": [
    "senior_cross = pd.crosstab(train.senior_citizen, train.churn_Yes)"
   ]
  },
  {
   "cell_type": "code",
   "execution_count": 49,
   "id": "343101f7",
   "metadata": {},
   "outputs": [],
   "source": [
    "# H0: Senior_citizen and churn are independent of one another.\n",
    "# HA: Senior_citizen and churn are not independent of one another."
   ]
  },
  {
   "cell_type": "code",
   "execution_count": 50,
   "id": "d1aa6c6d",
   "metadata": {},
   "outputs": [
    {
     "name": "stdout",
     "output_type": "stream",
     "text": [
      "Observed\n",
      "\n",
      "[[2527  775]\n",
      " [ 364  271]]\n",
      "---\n",
      "Expected\n",
      "\n",
      "[[2424.70967742  877.29032258]\n",
      " [ 466.29032258  168.70967742]]\n",
      "---\n",
      "\n",
      "chi^2 =  99.7192\n",
      "p = 1.756e-23\n"
     ]
    },
    {
     "data": {
      "text/html": [
       "<div>\n",
       "<style scoped>\n",
       "    .dataframe tbody tr th:only-of-type {\n",
       "        vertical-align: middle;\n",
       "    }\n",
       "\n",
       "    .dataframe tbody tr th {\n",
       "        vertical-align: top;\n",
       "    }\n",
       "\n",
       "    .dataframe thead th {\n",
       "        text-align: right;\n",
       "    }\n",
       "</style>\n",
       "<table border=\"1\" class=\"dataframe\">\n",
       "  <thead>\n",
       "    <tr style=\"text-align: right;\">\n",
       "      <th>churn_Yes</th>\n",
       "      <th>0</th>\n",
       "      <th>1</th>\n",
       "    </tr>\n",
       "    <tr>\n",
       "      <th>senior_citizen</th>\n",
       "      <th></th>\n",
       "      <th></th>\n",
       "    </tr>\n",
       "  </thead>\n",
       "  <tbody>\n",
       "    <tr>\n",
       "      <th>0</th>\n",
       "      <td>2527</td>\n",
       "      <td>775</td>\n",
       "    </tr>\n",
       "    <tr>\n",
       "      <th>1</th>\n",
       "      <td>364</td>\n",
       "      <td>271</td>\n",
       "    </tr>\n",
       "  </tbody>\n",
       "</table>\n",
       "</div>"
      ],
      "text/plain": [
       "churn_Yes          0    1\n",
       "senior_citizen           \n",
       "0               2527  775\n",
       "1                364  271"
      ]
     },
     "execution_count": 50,
     "metadata": {},
     "output_type": "execute_result"
    }
   ],
   "source": [
    "chi2, p, degf, expected = stats.chi2_contingency(senior_cross)\n",
    "print('Observed\\n')\n",
    "print(senior_cross.values)\n",
    "print('---\\nExpected\\n')\n",
    "print(expected)\n",
    "print('---\\n')\n",
    "print(f'chi^2 = {chi2: .4f}')\n",
    "print(f'p = {p:.4}')\n",
    "senior_cross"
   ]
  },
  {
   "cell_type": "code",
   "execution_count": 51,
   "id": "4bc832c7",
   "metadata": {},
   "outputs": [],
   "source": [
    "# Because our p value is less than our alpha (.05) we can reject the null hypothesis and assert that senior_citizen\n",
    "# and churn are NOT independent of one another."
   ]
  },
  {
   "cell_type": "markdown",
   "id": "052235c5",
   "metadata": {},
   "source": [
    "### Back to exploration:\n",
    "##### Question 3 - Service type and churn (Just Phone, Just Internet, Phone & Internet)"
   ]
  },
  {
   "cell_type": "code",
   "execution_count": 52,
   "id": "22443fd9",
   "metadata": {},
   "outputs": [
    {
     "data": {
      "text/html": [
       "<div>\n",
       "<style scoped>\n",
       "    .dataframe tbody tr th:only-of-type {\n",
       "        vertical-align: middle;\n",
       "    }\n",
       "\n",
       "    .dataframe tbody tr th {\n",
       "        vertical-align: top;\n",
       "    }\n",
       "\n",
       "    .dataframe thead th {\n",
       "        text-align: right;\n",
       "    }\n",
       "</style>\n",
       "<table border=\"1\" class=\"dataframe\">\n",
       "  <thead>\n",
       "    <tr style=\"text-align: right;\">\n",
       "      <th></th>\n",
       "      <th>customer_id</th>\n",
       "      <th>senior_citizen</th>\n",
       "      <th>tenure</th>\n",
       "      <th>monthly_charges</th>\n",
       "      <th>total_charges</th>\n",
       "      <th>phone_service_Yes</th>\n",
       "      <th>online_security_No internet service</th>\n",
       "      <th>online_security_Yes</th>\n",
       "      <th>online_backup_No internet service</th>\n",
       "      <th>online_backup_Yes</th>\n",
       "      <th>...</th>\n",
       "      <th>streaming_movies_Yes</th>\n",
       "      <th>paperless_billing_Yes</th>\n",
       "      <th>churn_Yes</th>\n",
       "      <th>internet_service_type_Fiber optic</th>\n",
       "      <th>internet_service_type_None</th>\n",
       "      <th>contract_type_One year</th>\n",
       "      <th>contract_type_Two year</th>\n",
       "      <th>payment_type_Credit card (automatic)</th>\n",
       "      <th>payment_type_Electronic check</th>\n",
       "      <th>payment_type_Mailed check</th>\n",
       "    </tr>\n",
       "  </thead>\n",
       "  <tbody>\n",
       "    <tr>\n",
       "      <th>5919</th>\n",
       "      <td>8331-ZXFOE</td>\n",
       "      <td>0</td>\n",
       "      <td>58</td>\n",
       "      <td>71.10</td>\n",
       "      <td>4299.20</td>\n",
       "      <td>1</td>\n",
       "      <td>0</td>\n",
       "      <td>1</td>\n",
       "      <td>0</td>\n",
       "      <td>1</td>\n",
       "      <td>...</td>\n",
       "      <td>0</td>\n",
       "      <td>1</td>\n",
       "      <td>0</td>\n",
       "      <td>0</td>\n",
       "      <td>0</td>\n",
       "      <td>1</td>\n",
       "      <td>0</td>\n",
       "      <td>1</td>\n",
       "      <td>0</td>\n",
       "      <td>0</td>\n",
       "    </tr>\n",
       "    <tr>\n",
       "      <th>1915</th>\n",
       "      <td>2790-XUYMV</td>\n",
       "      <td>0</td>\n",
       "      <td>71</td>\n",
       "      <td>85.45</td>\n",
       "      <td>6028.95</td>\n",
       "      <td>1</td>\n",
       "      <td>0</td>\n",
       "      <td>1</td>\n",
       "      <td>0</td>\n",
       "      <td>1</td>\n",
       "      <td>...</td>\n",
       "      <td>0</td>\n",
       "      <td>1</td>\n",
       "      <td>0</td>\n",
       "      <td>1</td>\n",
       "      <td>0</td>\n",
       "      <td>1</td>\n",
       "      <td>0</td>\n",
       "      <td>1</td>\n",
       "      <td>0</td>\n",
       "      <td>0</td>\n",
       "    </tr>\n",
       "  </tbody>\n",
       "</table>\n",
       "<p>2 rows × 27 columns</p>\n",
       "</div>"
      ],
      "text/plain": [
       "     customer_id  senior_citizen  tenure  monthly_charges  total_charges  \\\n",
       "5919  8331-ZXFOE               0      58            71.10        4299.20   \n",
       "1915  2790-XUYMV               0      71            85.45        6028.95   \n",
       "\n",
       "      phone_service_Yes  online_security_No internet service  \\\n",
       "5919                  1                                    0   \n",
       "1915                  1                                    0   \n",
       "\n",
       "      online_security_Yes  online_backup_No internet service  \\\n",
       "5919                    1                                  0   \n",
       "1915                    1                                  0   \n",
       "\n",
       "      online_backup_Yes  ...  streaming_movies_Yes  paperless_billing_Yes  \\\n",
       "5919                  1  ...                     0                      1   \n",
       "1915                  1  ...                     0                      1   \n",
       "\n",
       "      churn_Yes  internet_service_type_Fiber optic  \\\n",
       "5919          0                                  0   \n",
       "1915          0                                  1   \n",
       "\n",
       "      internet_service_type_None  contract_type_One year  \\\n",
       "5919                           0                       1   \n",
       "1915                           0                       1   \n",
       "\n",
       "      contract_type_Two year  payment_type_Credit card (automatic)  \\\n",
       "5919                       0                                     1   \n",
       "1915                       0                                     1   \n",
       "\n",
       "      payment_type_Electronic check  payment_type_Mailed check  \n",
       "5919                              0                          0  \n",
       "1915                              0                          0  \n",
       "\n",
       "[2 rows x 27 columns]"
      ]
     },
     "execution_count": 52,
     "metadata": {},
     "output_type": "execute_result"
    }
   ],
   "source": [
    "train2.head(2)"
   ]
  },
  {
   "cell_type": "code",
   "execution_count": 53,
   "id": "619e3194",
   "metadata": {},
   "outputs": [],
   "source": [
    "train_service = train2[['churn_Yes', 'phone_service_Yes', 'internet_service_type_Fiber optic', 'internet_service_type_None']]"
   ]
  },
  {
   "cell_type": "code",
   "execution_count": 54,
   "id": "23dba47c",
   "metadata": {},
   "outputs": [
    {
     "data": {
      "text/html": [
       "<div>\n",
       "<style scoped>\n",
       "    .dataframe tbody tr th:only-of-type {\n",
       "        vertical-align: middle;\n",
       "    }\n",
       "\n",
       "    .dataframe tbody tr th {\n",
       "        vertical-align: top;\n",
       "    }\n",
       "\n",
       "    .dataframe thead th {\n",
       "        text-align: right;\n",
       "    }\n",
       "</style>\n",
       "<table border=\"1\" class=\"dataframe\">\n",
       "  <thead>\n",
       "    <tr style=\"text-align: right;\">\n",
       "      <th></th>\n",
       "      <th>churn_Yes</th>\n",
       "      <th>phone_service_Yes</th>\n",
       "      <th>internet_service_type_Fiber optic</th>\n",
       "      <th>internet_service_type_None</th>\n",
       "    </tr>\n",
       "  </thead>\n",
       "  <tbody>\n",
       "    <tr>\n",
       "      <th>5919</th>\n",
       "      <td>0</td>\n",
       "      <td>1</td>\n",
       "      <td>0</td>\n",
       "      <td>0</td>\n",
       "    </tr>\n",
       "    <tr>\n",
       "      <th>1915</th>\n",
       "      <td>0</td>\n",
       "      <td>1</td>\n",
       "      <td>1</td>\n",
       "      <td>0</td>\n",
       "    </tr>\n",
       "  </tbody>\n",
       "</table>\n",
       "</div>"
      ],
      "text/plain": [
       "      churn_Yes  phone_service_Yes  internet_service_type_Fiber optic  \\\n",
       "5919          0                  1                                  0   \n",
       "1915          0                  1                                  1   \n",
       "\n",
       "      internet_service_type_None  \n",
       "5919                           0  \n",
       "1915                           0  "
      ]
     },
     "execution_count": 54,
     "metadata": {},
     "output_type": "execute_result"
    }
   ],
   "source": [
    "train_service.head(2)"
   ]
  },
  {
   "cell_type": "code",
   "execution_count": 55,
   "id": "93b2c671",
   "metadata": {},
   "outputs": [
    {
     "data": {
      "text/plain": [
       "0    3070\n",
       "1     867\n",
       "Name: internet_service_type_None, dtype: int64"
      ]
     },
     "execution_count": 55,
     "metadata": {},
     "output_type": "execute_result"
    }
   ],
   "source": [
    "train_service.internet_service_type_None.value_counts()"
   ]
  },
  {
   "cell_type": "code",
   "execution_count": 56,
   "id": "e3408e56",
   "metadata": {},
   "outputs": [
    {
     "data": {
      "text/plain": [
       "1    3564\n",
       "0     373\n",
       "Name: phone_service_Yes, dtype: int64"
      ]
     },
     "execution_count": 56,
     "metadata": {},
     "output_type": "execute_result"
    }
   ],
   "source": [
    "train_service.phone_service_Yes.value_counts()"
   ]
  },
  {
   "cell_type": "code",
   "execution_count": 57,
   "id": "4d031446",
   "metadata": {},
   "outputs": [
    {
     "name": "stdout",
     "output_type": "stream",
     "text": [
      "Using cached csv\n"
     ]
    }
   ],
   "source": [
    "telco = get_telco_data()"
   ]
  },
  {
   "cell_type": "code",
   "execution_count": 58,
   "id": "72dabbe4",
   "metadata": {},
   "outputs": [
    {
     "data": {
      "text/html": [
       "<div>\n",
       "<style scoped>\n",
       "    .dataframe tbody tr th:only-of-type {\n",
       "        vertical-align: middle;\n",
       "    }\n",
       "\n",
       "    .dataframe tbody tr th {\n",
       "        vertical-align: top;\n",
       "    }\n",
       "\n",
       "    .dataframe thead th {\n",
       "        text-align: right;\n",
       "    }\n",
       "</style>\n",
       "<table border=\"1\" class=\"dataframe\">\n",
       "  <thead>\n",
       "    <tr style=\"text-align: right;\">\n",
       "      <th></th>\n",
       "      <th>payment_type_id</th>\n",
       "      <th>contract_type_id</th>\n",
       "      <th>internet_service_type_id</th>\n",
       "      <th>customer_id</th>\n",
       "      <th>gender</th>\n",
       "      <th>senior_citizen</th>\n",
       "      <th>partner</th>\n",
       "      <th>dependents</th>\n",
       "      <th>tenure</th>\n",
       "      <th>phone_service</th>\n",
       "      <th>...</th>\n",
       "      <th>tech_support</th>\n",
       "      <th>streaming_tv</th>\n",
       "      <th>streaming_movies</th>\n",
       "      <th>paperless_billing</th>\n",
       "      <th>monthly_charges</th>\n",
       "      <th>total_charges</th>\n",
       "      <th>churn</th>\n",
       "      <th>internet_service_type</th>\n",
       "      <th>contract_type</th>\n",
       "      <th>payment_type</th>\n",
       "    </tr>\n",
       "  </thead>\n",
       "  <tbody>\n",
       "    <tr>\n",
       "      <th>0</th>\n",
       "      <td>2</td>\n",
       "      <td>2</td>\n",
       "      <td>1</td>\n",
       "      <td>0002-ORFBO</td>\n",
       "      <td>Female</td>\n",
       "      <td>0</td>\n",
       "      <td>Yes</td>\n",
       "      <td>Yes</td>\n",
       "      <td>9</td>\n",
       "      <td>Yes</td>\n",
       "      <td>...</td>\n",
       "      <td>Yes</td>\n",
       "      <td>Yes</td>\n",
       "      <td>No</td>\n",
       "      <td>Yes</td>\n",
       "      <td>65.6</td>\n",
       "      <td>593.3</td>\n",
       "      <td>No</td>\n",
       "      <td>DSL</td>\n",
       "      <td>One year</td>\n",
       "      <td>Mailed check</td>\n",
       "    </tr>\n",
       "    <tr>\n",
       "      <th>1</th>\n",
       "      <td>2</td>\n",
       "      <td>1</td>\n",
       "      <td>1</td>\n",
       "      <td>0003-MKNFE</td>\n",
       "      <td>Male</td>\n",
       "      <td>0</td>\n",
       "      <td>No</td>\n",
       "      <td>No</td>\n",
       "      <td>9</td>\n",
       "      <td>Yes</td>\n",
       "      <td>...</td>\n",
       "      <td>No</td>\n",
       "      <td>No</td>\n",
       "      <td>Yes</td>\n",
       "      <td>No</td>\n",
       "      <td>59.9</td>\n",
       "      <td>542.4</td>\n",
       "      <td>No</td>\n",
       "      <td>DSL</td>\n",
       "      <td>Month-to-month</td>\n",
       "      <td>Mailed check</td>\n",
       "    </tr>\n",
       "  </tbody>\n",
       "</table>\n",
       "<p>2 rows × 24 columns</p>\n",
       "</div>"
      ],
      "text/plain": [
       "   payment_type_id  contract_type_id  internet_service_type_id customer_id  \\\n",
       "0                2                 2                         1  0002-ORFBO   \n",
       "1                2                 1                         1  0003-MKNFE   \n",
       "\n",
       "   gender  senior_citizen partner dependents  tenure phone_service  ...  \\\n",
       "0  Female               0     Yes        Yes       9           Yes  ...   \n",
       "1    Male               0      No         No       9           Yes  ...   \n",
       "\n",
       "  tech_support streaming_tv streaming_movies paperless_billing  \\\n",
       "0          Yes          Yes               No               Yes   \n",
       "1           No           No              Yes                No   \n",
       "\n",
       "  monthly_charges total_charges churn internet_service_type   contract_type  \\\n",
       "0            65.6         593.3    No                   DSL        One year   \n",
       "1            59.9         542.4    No                   DSL  Month-to-month   \n",
       "\n",
       "   payment_type  \n",
       "0  Mailed check  \n",
       "1  Mailed check  \n",
       "\n",
       "[2 rows x 24 columns]"
      ]
     },
     "execution_count": 58,
     "metadata": {},
     "output_type": "execute_result"
    }
   ],
   "source": [
    "telco.head(2)"
   ]
  },
  {
   "cell_type": "code",
   "execution_count": 59,
   "id": "60a3b8b9",
   "metadata": {},
   "outputs": [
    {
     "name": "stderr",
     "output_type": "stream",
     "text": [
      "/var/folders/pt/3m3r1rq55pdgzpmnqzkdjb240000gn/T/ipykernel_20469/1333461217.py:1: SettingWithCopyWarning: \n",
      "A value is trying to be set on a copy of a slice from a DataFrame.\n",
      "Try using .loc[row_indexer,col_indexer] = value instead\n",
      "\n",
      "See the caveats in the documentation: https://pandas.pydata.org/pandas-docs/stable/user_guide/indexing.html#returning-a-view-versus-a-copy\n",
      "  train_service['internet_type'] = telco.internet_service_type\n"
     ]
    }
   ],
   "source": [
    "train_service['internet_type'] = telco.internet_service_type"
   ]
  },
  {
   "cell_type": "code",
   "execution_count": 60,
   "id": "8e4f7875",
   "metadata": {},
   "outputs": [],
   "source": [
    "phone_serv = pd.crosstab(train_service.phone_service_Yes, train_service.churn_Yes)"
   ]
  },
  {
   "cell_type": "code",
   "execution_count": 61,
   "id": "d3abd876",
   "metadata": {},
   "outputs": [
    {
     "data": {
      "text/plain": [
       "<AxesSubplot:xlabel='phone_service_Yes'>"
      ]
     },
     "execution_count": 61,
     "metadata": {},
     "output_type": "execute_result"
    },
    {
     "data": {
      "image/png": "[encoded data removed]",
      "text/plain": [
       "<Figure size 432x288 with 1 Axes>"
      ]
     },
     "metadata": {
      "needs_background": "light"
     },
     "output_type": "display_data"
    }
   ],
   "source": [
    "phone_serv.plot(kind='bar', stacked=True)"
   ]
  },
  {
   "cell_type": "code",
   "execution_count": 62,
   "id": "703be049",
   "metadata": {},
   "outputs": [],
   "source": [
    "# 'Just Internet' is not nearly as imoprtant as plans that do have a phone component"
   ]
  },
  {
   "cell_type": "code",
   "execution_count": 63,
   "id": "82428970",
   "metadata": {},
   "outputs": [
    {
     "name": "stderr",
     "output_type": "stream",
     "text": [
      "/var/folders/pt/3m3r1rq55pdgzpmnqzkdjb240000gn/T/ipykernel_20469/4090003085.py:1: SettingWithCopyWarning: \n",
      "A value is trying to be set on a copy of a slice from a DataFrame.\n",
      "Try using .loc[row_indexer,col_indexer] = value instead\n",
      "\n",
      "See the caveats in the documentation: https://pandas.pydata.org/pandas-docs/stable/user_guide/indexing.html#returning-a-view-versus-a-copy\n",
      "  train_service['int_phone'] = ((train_service.phone_service_Yes == 1) & (train_service.internet_service_type_None == 0))\n"
     ]
    }
   ],
   "source": [
    "train_service['int_phone'] = ((train_service.phone_service_Yes == 1) & (train_service.internet_service_type_None == 0))"
   ]
  },
  {
   "cell_type": "code",
   "execution_count": 64,
   "id": "03ddc03c",
   "metadata": {},
   "outputs": [
    {
     "name": "stderr",
     "output_type": "stream",
     "text": [
      "/opt/homebrew/anaconda3/lib/python3.9/site-packages/pandas/core/generic.py:5516: SettingWithCopyWarning: \n",
      "A value is trying to be set on a copy of a slice from a DataFrame.\n",
      "Try using .loc[row_indexer,col_indexer] = value instead\n",
      "\n",
      "See the caveats in the documentation: https://pandas.pydata.org/pandas-docs/stable/user_guide/indexing.html#returning-a-view-versus-a-copy\n",
      "  self[name] = value\n"
     ]
    }
   ],
   "source": [
    "train_service.int_phone = train_service.int_phone.astype(int)"
   ]
  },
  {
   "cell_type": "code",
   "execution_count": 65,
   "id": "01eccaba",
   "metadata": {},
   "outputs": [],
   "source": [
    "int_phone_cross = pd.crosstab(train_service.int_phone, train_service.churn_Yes)"
   ]
  },
  {
   "cell_type": "code",
   "execution_count": 66,
   "id": "ab395e87",
   "metadata": {},
   "outputs": [
    {
     "data": {
      "text/plain": [
       "<AxesSubplot:xlabel='int_phone'>"
      ]
     },
     "execution_count": 66,
     "metadata": {},
     "output_type": "execute_result"
    },
    {
     "data": {
      "image/png": "[encoded data removed]",
      "text/plain": [
       "<Figure size 432x288 with 1 Axes>"
      ]
     },
     "metadata": {
      "needs_background": "light"
     },
     "output_type": "display_data"
    }
   ],
   "source": [
    "int_phone_cross.plot(kind='bar', stacked=True)"
   ]
  },
  {
   "cell_type": "code",
   "execution_count": 67,
   "id": "4e40e88d",
   "metadata": {},
   "outputs": [],
   "source": [
    "# 'Just Phone' or 'Just Internet' are not nearly as important as plans that have both Phone and Internet"
   ]
  },
  {
   "cell_type": "markdown",
   "id": "f2aa5dbe",
   "metadata": {},
   "source": [
    "#### Question 5: How does internet type impact churn?"
   ]
  },
  {
   "cell_type": "code",
   "execution_count": 68,
   "id": "0ea8a040",
   "metadata": {},
   "outputs": [],
   "source": [
    "int_type = pd.crosstab(train_service.internet_type, train_service.churn_Yes)"
   ]
  },
  {
   "cell_type": "code",
   "execution_count": 69,
   "id": "4b4c665e",
   "metadata": {},
   "outputs": [
    {
     "data": {
      "text/plain": [
       "<AxesSubplot:xlabel='internet_type'>"
      ]
     },
     "execution_count": 69,
     "metadata": {},
     "output_type": "execute_result"
    },
    {
     "data": {
      "image/png": "[encoded data removed]",
      "text/plain": [
       "<Figure size 432x288 with 1 Axes>"
      ]
     },
     "metadata": {
      "needs_background": "light"
     },
     "output_type": "display_data"
    }
   ],
   "source": [
    "int_type.plot(kind='bar', stacked=True)"
   ]
  },
  {
   "cell_type": "code",
   "execution_count": 70,
   "id": "6438ae45",
   "metadata": {},
   "outputs": [],
   "source": [
    "# So out of service type and internet type we can see that the biggest impact is from those with Phone & Internet \n",
    "# w/ Fiber\n",
    "# Note: Fiber type always has Phone & Internet as service"
   ]
  },
  {
   "cell_type": "code",
   "execution_count": 71,
   "id": "85911fec",
   "metadata": {},
   "outputs": [
    {
     "data": {
      "text/html": [
       "<div>\n",
       "<style scoped>\n",
       "    .dataframe tbody tr th:only-of-type {\n",
       "        vertical-align: middle;\n",
       "    }\n",
       "\n",
       "    .dataframe tbody tr th {\n",
       "        vertical-align: top;\n",
       "    }\n",
       "\n",
       "    .dataframe thead th {\n",
       "        text-align: right;\n",
       "    }\n",
       "</style>\n",
       "<table border=\"1\" class=\"dataframe\">\n",
       "  <thead>\n",
       "    <tr style=\"text-align: right;\">\n",
       "      <th></th>\n",
       "      <th>churn_Yes</th>\n",
       "      <th>phone_service_Yes</th>\n",
       "      <th>internet_service_type_Fiber optic</th>\n",
       "      <th>internet_service_type_None</th>\n",
       "      <th>internet_type</th>\n",
       "      <th>int_phone</th>\n",
       "    </tr>\n",
       "  </thead>\n",
       "  <tbody>\n",
       "    <tr>\n",
       "      <th>5919</th>\n",
       "      <td>0</td>\n",
       "      <td>1</td>\n",
       "      <td>0</td>\n",
       "      <td>0</td>\n",
       "      <td>DSL</td>\n",
       "      <td>1</td>\n",
       "    </tr>\n",
       "    <tr>\n",
       "      <th>1915</th>\n",
       "      <td>0</td>\n",
       "      <td>1</td>\n",
       "      <td>1</td>\n",
       "      <td>0</td>\n",
       "      <td>Fiber optic</td>\n",
       "      <td>1</td>\n",
       "    </tr>\n",
       "  </tbody>\n",
       "</table>\n",
       "</div>"
      ],
      "text/plain": [
       "      churn_Yes  phone_service_Yes  internet_service_type_Fiber optic  \\\n",
       "5919          0                  1                                  0   \n",
       "1915          0                  1                                  1   \n",
       "\n",
       "      internet_service_type_None internet_type  int_phone  \n",
       "5919                           0           DSL          1  \n",
       "1915                           0   Fiber optic          1  "
      ]
     },
     "execution_count": 71,
     "metadata": {},
     "output_type": "execute_result"
    }
   ],
   "source": [
    "train_service.head(2)"
   ]
  },
  {
   "cell_type": "markdown",
   "id": "646c3581",
   "metadata": {},
   "source": [
    "#### Question 6: How does contract type impact churn?"
   ]
  },
  {
   "cell_type": "code",
   "execution_count": 72,
   "id": "8dfc9d69",
   "metadata": {},
   "outputs": [
    {
     "data": {
      "text/html": [
       "<div>\n",
       "<style scoped>\n",
       "    .dataframe tbody tr th:only-of-type {\n",
       "        vertical-align: middle;\n",
       "    }\n",
       "\n",
       "    .dataframe tbody tr th {\n",
       "        vertical-align: top;\n",
       "    }\n",
       "\n",
       "    .dataframe thead th {\n",
       "        text-align: right;\n",
       "    }\n",
       "</style>\n",
       "<table border=\"1\" class=\"dataframe\">\n",
       "  <thead>\n",
       "    <tr style=\"text-align: right;\">\n",
       "      <th></th>\n",
       "      <th>customer_id</th>\n",
       "      <th>senior_citizen</th>\n",
       "      <th>tenure</th>\n",
       "      <th>monthly_charges</th>\n",
       "      <th>total_charges</th>\n",
       "      <th>phone_service_Yes</th>\n",
       "      <th>online_security_No internet service</th>\n",
       "      <th>online_security_Yes</th>\n",
       "      <th>online_backup_No internet service</th>\n",
       "      <th>online_backup_Yes</th>\n",
       "      <th>...</th>\n",
       "      <th>streaming_movies_Yes</th>\n",
       "      <th>paperless_billing_Yes</th>\n",
       "      <th>churn_Yes</th>\n",
       "      <th>internet_service_type_Fiber optic</th>\n",
       "      <th>internet_service_type_None</th>\n",
       "      <th>contract_type_One year</th>\n",
       "      <th>contract_type_Two year</th>\n",
       "      <th>payment_type_Credit card (automatic)</th>\n",
       "      <th>payment_type_Electronic check</th>\n",
       "      <th>payment_type_Mailed check</th>\n",
       "    </tr>\n",
       "  </thead>\n",
       "  <tbody>\n",
       "    <tr>\n",
       "      <th>5919</th>\n",
       "      <td>8331-ZXFOE</td>\n",
       "      <td>0</td>\n",
       "      <td>58</td>\n",
       "      <td>71.10</td>\n",
       "      <td>4299.20</td>\n",
       "      <td>1</td>\n",
       "      <td>0</td>\n",
       "      <td>1</td>\n",
       "      <td>0</td>\n",
       "      <td>1</td>\n",
       "      <td>...</td>\n",
       "      <td>0</td>\n",
       "      <td>1</td>\n",
       "      <td>0</td>\n",
       "      <td>0</td>\n",
       "      <td>0</td>\n",
       "      <td>1</td>\n",
       "      <td>0</td>\n",
       "      <td>1</td>\n",
       "      <td>0</td>\n",
       "      <td>0</td>\n",
       "    </tr>\n",
       "    <tr>\n",
       "      <th>1915</th>\n",
       "      <td>2790-XUYMV</td>\n",
       "      <td>0</td>\n",
       "      <td>71</td>\n",
       "      <td>85.45</td>\n",
       "      <td>6028.95</td>\n",
       "      <td>1</td>\n",
       "      <td>0</td>\n",
       "      <td>1</td>\n",
       "      <td>0</td>\n",
       "      <td>1</td>\n",
       "      <td>...</td>\n",
       "      <td>0</td>\n",
       "      <td>1</td>\n",
       "      <td>0</td>\n",
       "      <td>1</td>\n",
       "      <td>0</td>\n",
       "      <td>1</td>\n",
       "      <td>0</td>\n",
       "      <td>1</td>\n",
       "      <td>0</td>\n",
       "      <td>0</td>\n",
       "    </tr>\n",
       "  </tbody>\n",
       "</table>\n",
       "<p>2 rows × 27 columns</p>\n",
       "</div>"
      ],
      "text/plain": [
       "     customer_id  senior_citizen  tenure  monthly_charges  total_charges  \\\n",
       "5919  8331-ZXFOE               0      58            71.10        4299.20   \n",
       "1915  2790-XUYMV               0      71            85.45        6028.95   \n",
       "\n",
       "      phone_service_Yes  online_security_No internet service  \\\n",
       "5919                  1                                    0   \n",
       "1915                  1                                    0   \n",
       "\n",
       "      online_security_Yes  online_backup_No internet service  \\\n",
       "5919                    1                                  0   \n",
       "1915                    1                                  0   \n",
       "\n",
       "      online_backup_Yes  ...  streaming_movies_Yes  paperless_billing_Yes  \\\n",
       "5919                  1  ...                     0                      1   \n",
       "1915                  1  ...                     0                      1   \n",
       "\n",
       "      churn_Yes  internet_service_type_Fiber optic  \\\n",
       "5919          0                                  0   \n",
       "1915          0                                  1   \n",
       "\n",
       "      internet_service_type_None  contract_type_One year  \\\n",
       "5919                           0                       1   \n",
       "1915                           0                       1   \n",
       "\n",
       "      contract_type_Two year  payment_type_Credit card (automatic)  \\\n",
       "5919                       0                                     1   \n",
       "1915                       0                                     1   \n",
       "\n",
       "      payment_type_Electronic check  payment_type_Mailed check  \n",
       "5919                              0                          0  \n",
       "1915                              0                          0  \n",
       "\n",
       "[2 rows x 27 columns]"
      ]
     },
     "execution_count": 72,
     "metadata": {},
     "output_type": "execute_result"
    }
   ],
   "source": [
    "train2.head(2)"
   ]
  },
  {
   "cell_type": "code",
   "execution_count": 73,
   "id": "dbf7047f",
   "metadata": {},
   "outputs": [],
   "source": [
    "train_contract = train2[['churn_Yes', 'contract_type_One year', 'contract_type_Two year']]"
   ]
  },
  {
   "cell_type": "code",
   "execution_count": 74,
   "id": "7460d8e3",
   "metadata": {},
   "outputs": [
    {
     "data": {
      "text/html": [
       "<div>\n",
       "<style scoped>\n",
       "    .dataframe tbody tr th:only-of-type {\n",
       "        vertical-align: middle;\n",
       "    }\n",
       "\n",
       "    .dataframe tbody tr th {\n",
       "        vertical-align: top;\n",
       "    }\n",
       "\n",
       "    .dataframe thead th {\n",
       "        text-align: right;\n",
       "    }\n",
       "</style>\n",
       "<table border=\"1\" class=\"dataframe\">\n",
       "  <thead>\n",
       "    <tr style=\"text-align: right;\">\n",
       "      <th></th>\n",
       "      <th>churn_Yes</th>\n",
       "      <th>contract_type_One year</th>\n",
       "      <th>contract_type_Two year</th>\n",
       "    </tr>\n",
       "  </thead>\n",
       "  <tbody>\n",
       "    <tr>\n",
       "      <th>5919</th>\n",
       "      <td>0</td>\n",
       "      <td>1</td>\n",
       "      <td>0</td>\n",
       "    </tr>\n",
       "    <tr>\n",
       "      <th>1915</th>\n",
       "      <td>0</td>\n",
       "      <td>1</td>\n",
       "      <td>0</td>\n",
       "    </tr>\n",
       "  </tbody>\n",
       "</table>\n",
       "</div>"
      ],
      "text/plain": [
       "      churn_Yes  contract_type_One year  contract_type_Two year\n",
       "5919          0                       1                       0\n",
       "1915          0                       1                       0"
      ]
     },
     "execution_count": 74,
     "metadata": {},
     "output_type": "execute_result"
    }
   ],
   "source": [
    "train_contract.head(2)"
   ]
  },
  {
   "cell_type": "code",
   "execution_count": 75,
   "id": "ad6149c1",
   "metadata": {},
   "outputs": [
    {
     "name": "stderr",
     "output_type": "stream",
     "text": [
      "/var/folders/pt/3m3r1rq55pdgzpmnqzkdjb240000gn/T/ipykernel_20469/156926966.py:1: SettingWithCopyWarning: \n",
      "A value is trying to be set on a copy of a slice from a DataFrame.\n",
      "Try using .loc[row_indexer,col_indexer] = value instead\n",
      "\n",
      "See the caveats in the documentation: https://pandas.pydata.org/pandas-docs/stable/user_guide/indexing.html#returning-a-view-versus-a-copy\n",
      "  train_contract['no_contract'] = ((train_contract['contract_type_One year'] == 0) & (train_contract['contract_type_Two year'] == 0))\n"
     ]
    }
   ],
   "source": [
    "train_contract['no_contract'] = ((train_contract['contract_type_One year'] == 0) & (train_contract['contract_type_Two year'] == 0))"
   ]
  },
  {
   "cell_type": "code",
   "execution_count": 76,
   "id": "26a7d07c",
   "metadata": {},
   "outputs": [
    {
     "name": "stderr",
     "output_type": "stream",
     "text": [
      "/opt/homebrew/anaconda3/lib/python3.9/site-packages/pandas/core/generic.py:5516: SettingWithCopyWarning: \n",
      "A value is trying to be set on a copy of a slice from a DataFrame.\n",
      "Try using .loc[row_indexer,col_indexer] = value instead\n",
      "\n",
      "See the caveats in the documentation: https://pandas.pydata.org/pandas-docs/stable/user_guide/indexing.html#returning-a-view-versus-a-copy\n",
      "  self[name] = value\n"
     ]
    }
   ],
   "source": [
    "train_contract.no_contract = train_contract.no_contract.astype(int)"
   ]
  },
  {
   "cell_type": "code",
   "execution_count": 77,
   "id": "f54b9ceb",
   "metadata": {},
   "outputs": [
    {
     "data": {
      "text/html": [
       "<div>\n",
       "<style scoped>\n",
       "    .dataframe tbody tr th:only-of-type {\n",
       "        vertical-align: middle;\n",
       "    }\n",
       "\n",
       "    .dataframe tbody tr th {\n",
       "        vertical-align: top;\n",
       "    }\n",
       "\n",
       "    .dataframe thead th {\n",
       "        text-align: right;\n",
       "    }\n",
       "</style>\n",
       "<table border=\"1\" class=\"dataframe\">\n",
       "  <thead>\n",
       "    <tr style=\"text-align: right;\">\n",
       "      <th></th>\n",
       "      <th>churn_Yes</th>\n",
       "      <th>contract_type_One year</th>\n",
       "      <th>contract_type_Two year</th>\n",
       "      <th>no_contract</th>\n",
       "    </tr>\n",
       "  </thead>\n",
       "  <tbody>\n",
       "    <tr>\n",
       "      <th>5919</th>\n",
       "      <td>0</td>\n",
       "      <td>1</td>\n",
       "      <td>0</td>\n",
       "      <td>0</td>\n",
       "    </tr>\n",
       "    <tr>\n",
       "      <th>1915</th>\n",
       "      <td>0</td>\n",
       "      <td>1</td>\n",
       "      <td>0</td>\n",
       "      <td>0</td>\n",
       "    </tr>\n",
       "  </tbody>\n",
       "</table>\n",
       "</div>"
      ],
      "text/plain": [
       "      churn_Yes  contract_type_One year  contract_type_Two year  no_contract\n",
       "5919          0                       1                       0            0\n",
       "1915          0                       1                       0            0"
      ]
     },
     "execution_count": 77,
     "metadata": {},
     "output_type": "execute_result"
    }
   ],
   "source": [
    "train_contract.head(2)"
   ]
  },
  {
   "cell_type": "code",
   "execution_count": 78,
   "id": "04da2e1a",
   "metadata": {},
   "outputs": [],
   "source": [
    "contract_cross = pd.crosstab(train_contract.no_contract, train_contract.churn_Yes)"
   ]
  },
  {
   "cell_type": "code",
   "execution_count": 79,
   "id": "77ae9141",
   "metadata": {},
   "outputs": [
    {
     "data": {
      "text/plain": [
       "<AxesSubplot:xlabel='no_contract'>"
      ]
     },
     "execution_count": 79,
     "metadata": {},
     "output_type": "execute_result"
    },
    {
     "data": {
      "image/png": "[encoded data removed]",
      "text/plain": [
       "<Figure size 432x288 with 1 Axes>"
      ]
     },
     "metadata": {
      "needs_background": "light"
     },
     "output_type": "display_data"
    }
   ],
   "source": [
    "contract_cross.plot(kind='bar', stacked=True)"
   ]
  },
  {
   "cell_type": "code",
   "execution_count": 80,
   "id": "5df6efd4",
   "metadata": {},
   "outputs": [
    {
     "data": {
      "text/plain": [
       "<AxesSubplot:xlabel='contract_type_One year'>"
      ]
     },
     "execution_count": 80,
     "metadata": {},
     "output_type": "execute_result"
    },
    {
     "data": {
      "image/png": "[encoded data removed]",
      "text/plain": [
       "<Figure size 432x288 with 1 Axes>"
      ]
     },
     "metadata": {
      "needs_background": "light"
     },
     "output_type": "display_data"
    }
   ],
   "source": [
    "contract_cross1 = pd.crosstab(train_contract['contract_type_One year'], train_contract.churn_Yes)\n",
    "contract_cross1.plot(kind='bar', stacked=True)"
   ]
  },
  {
   "cell_type": "code",
   "execution_count": 81,
   "id": "71367f1b",
   "metadata": {},
   "outputs": [
    {
     "data": {
      "text/plain": [
       "<AxesSubplot:xlabel='contract_type_Two year'>"
      ]
     },
     "execution_count": 81,
     "metadata": {},
     "output_type": "execute_result"
    },
    {
     "data": {
      "image/png": "[encoded data removed]",
      "text/plain": [
       "<Figure size 432x288 with 1 Axes>"
      ]
     },
     "metadata": {
      "needs_background": "light"
     },
     "output_type": "display_data"
    }
   ],
   "source": [
    "contract_cross2 = pd.crosstab(train_contract['contract_type_Two year'], train_contract.churn_Yes)\n",
    "contract_cross2.plot(kind='bar', stacked=True)"
   ]
  },
  {
   "cell_type": "code",
   "execution_count": 82,
   "id": "c7332b39",
   "metadata": {},
   "outputs": [],
   "source": [
    "# The issue of churn lies with those who do not have a contract, let's confirm it with some stats testing"
   ]
  },
  {
   "cell_type": "code",
   "execution_count": 83,
   "id": "b4eded58",
   "metadata": {},
   "outputs": [],
   "source": [
    "# H0: No contract and churn are independent of one another.\n",
    "# HA: No contract and churn are not independent of one another."
   ]
  },
  {
   "cell_type": "code",
   "execution_count": 84,
   "id": "289605c0",
   "metadata": {},
   "outputs": [
    {
     "name": "stdout",
     "output_type": "stream",
     "text": [
      "Observed\n",
      "\n",
      "[[1653  119]\n",
      " [1238  927]]\n",
      "---\n",
      "Expected\n",
      "\n",
      "[[1301.20701041  470.79298959]\n",
      " [1589.79298959  575.20701041]]\n",
      "---\n",
      "\n",
      "chi^2 =  649.1332\n",
      "p. = 3.448e-143\n"
     ]
    },
    {
     "data": {
      "text/html": [
       "<div>\n",
       "<style scoped>\n",
       "    .dataframe tbody tr th:only-of-type {\n",
       "        vertical-align: middle;\n",
       "    }\n",
       "\n",
       "    .dataframe tbody tr th {\n",
       "        vertical-align: top;\n",
       "    }\n",
       "\n",
       "    .dataframe thead th {\n",
       "        text-align: right;\n",
       "    }\n",
       "</style>\n",
       "<table border=\"1\" class=\"dataframe\">\n",
       "  <thead>\n",
       "    <tr style=\"text-align: right;\">\n",
       "      <th>churn_Yes</th>\n",
       "      <th>0</th>\n",
       "      <th>1</th>\n",
       "    </tr>\n",
       "    <tr>\n",
       "      <th>no_contract</th>\n",
       "      <th></th>\n",
       "      <th></th>\n",
       "    </tr>\n",
       "  </thead>\n",
       "  <tbody>\n",
       "    <tr>\n",
       "      <th>0</th>\n",
       "      <td>1653</td>\n",
       "      <td>119</td>\n",
       "    </tr>\n",
       "    <tr>\n",
       "      <th>1</th>\n",
       "      <td>1238</td>\n",
       "      <td>927</td>\n",
       "    </tr>\n",
       "  </tbody>\n",
       "</table>\n",
       "</div>"
      ],
      "text/plain": [
       "churn_Yes       0    1\n",
       "no_contract           \n",
       "0            1653  119\n",
       "1            1238  927"
      ]
     },
     "execution_count": 84,
     "metadata": {},
     "output_type": "execute_result"
    }
   ],
   "source": [
    "chi2, p, degf, expected = stats.chi2_contingency(contract_cross)\n",
    "print('Observed\\n')\n",
    "print(contract_cross.values)\n",
    "print('---\\nExpected\\n')\n",
    "print(expected)\n",
    "print('---\\n')\n",
    "print(f'chi^2 = {chi2: .4f}')\n",
    "print(f'p. = {p:.4}')\n",
    "contract_cross"
   ]
  },
  {
   "cell_type": "code",
   "execution_count": 85,
   "id": "a3270094",
   "metadata": {},
   "outputs": [],
   "source": [
    "# Based on our above p value we can reject the null hypothesis and conclude that No Contract and churn are not \n",
    "# independent of one another. Reinforcing our visualization approach to this factor."
   ]
  },
  {
   "cell_type": "markdown",
   "id": "da8bbf3c",
   "metadata": {},
   "source": [
    "#### Question 7: How does payment type impact churn?"
   ]
  },
  {
   "cell_type": "code",
   "execution_count": 86,
   "id": "5c56fbb9",
   "metadata": {},
   "outputs": [
    {
     "data": {
      "text/html": [
       "<div>\n",
       "<style scoped>\n",
       "    .dataframe tbody tr th:only-of-type {\n",
       "        vertical-align: middle;\n",
       "    }\n",
       "\n",
       "    .dataframe tbody tr th {\n",
       "        vertical-align: top;\n",
       "    }\n",
       "\n",
       "    .dataframe thead th {\n",
       "        text-align: right;\n",
       "    }\n",
       "</style>\n",
       "<table border=\"1\" class=\"dataframe\">\n",
       "  <thead>\n",
       "    <tr style=\"text-align: right;\">\n",
       "      <th></th>\n",
       "      <th>customer_id</th>\n",
       "      <th>senior_citizen</th>\n",
       "      <th>tenure</th>\n",
       "      <th>monthly_charges</th>\n",
       "      <th>total_charges</th>\n",
       "      <th>phone_service_Yes</th>\n",
       "      <th>online_security_No internet service</th>\n",
       "      <th>online_security_Yes</th>\n",
       "      <th>online_backup_No internet service</th>\n",
       "      <th>online_backup_Yes</th>\n",
       "      <th>...</th>\n",
       "      <th>streaming_movies_Yes</th>\n",
       "      <th>paperless_billing_Yes</th>\n",
       "      <th>churn_Yes</th>\n",
       "      <th>internet_service_type_Fiber optic</th>\n",
       "      <th>internet_service_type_None</th>\n",
       "      <th>contract_type_One year</th>\n",
       "      <th>contract_type_Two year</th>\n",
       "      <th>payment_type_Credit card (automatic)</th>\n",
       "      <th>payment_type_Electronic check</th>\n",
       "      <th>payment_type_Mailed check</th>\n",
       "    </tr>\n",
       "  </thead>\n",
       "  <tbody>\n",
       "    <tr>\n",
       "      <th>5919</th>\n",
       "      <td>8331-ZXFOE</td>\n",
       "      <td>0</td>\n",
       "      <td>58</td>\n",
       "      <td>71.10</td>\n",
       "      <td>4299.20</td>\n",
       "      <td>1</td>\n",
       "      <td>0</td>\n",
       "      <td>1</td>\n",
       "      <td>0</td>\n",
       "      <td>1</td>\n",
       "      <td>...</td>\n",
       "      <td>0</td>\n",
       "      <td>1</td>\n",
       "      <td>0</td>\n",
       "      <td>0</td>\n",
       "      <td>0</td>\n",
       "      <td>1</td>\n",
       "      <td>0</td>\n",
       "      <td>1</td>\n",
       "      <td>0</td>\n",
       "      <td>0</td>\n",
       "    </tr>\n",
       "    <tr>\n",
       "      <th>1915</th>\n",
       "      <td>2790-XUYMV</td>\n",
       "      <td>0</td>\n",
       "      <td>71</td>\n",
       "      <td>85.45</td>\n",
       "      <td>6028.95</td>\n",
       "      <td>1</td>\n",
       "      <td>0</td>\n",
       "      <td>1</td>\n",
       "      <td>0</td>\n",
       "      <td>1</td>\n",
       "      <td>...</td>\n",
       "      <td>0</td>\n",
       "      <td>1</td>\n",
       "      <td>0</td>\n",
       "      <td>1</td>\n",
       "      <td>0</td>\n",
       "      <td>1</td>\n",
       "      <td>0</td>\n",
       "      <td>1</td>\n",
       "      <td>0</td>\n",
       "      <td>0</td>\n",
       "    </tr>\n",
       "  </tbody>\n",
       "</table>\n",
       "<p>2 rows × 27 columns</p>\n",
       "</div>"
      ],
      "text/plain": [
       "     customer_id  senior_citizen  tenure  monthly_charges  total_charges  \\\n",
       "5919  8331-ZXFOE               0      58            71.10        4299.20   \n",
       "1915  2790-XUYMV               0      71            85.45        6028.95   \n",
       "\n",
       "      phone_service_Yes  online_security_No internet service  \\\n",
       "5919                  1                                    0   \n",
       "1915                  1                                    0   \n",
       "\n",
       "      online_security_Yes  online_backup_No internet service  \\\n",
       "5919                    1                                  0   \n",
       "1915                    1                                  0   \n",
       "\n",
       "      online_backup_Yes  ...  streaming_movies_Yes  paperless_billing_Yes  \\\n",
       "5919                  1  ...                     0                      1   \n",
       "1915                  1  ...                     0                      1   \n",
       "\n",
       "      churn_Yes  internet_service_type_Fiber optic  \\\n",
       "5919          0                                  0   \n",
       "1915          0                                  1   \n",
       "\n",
       "      internet_service_type_None  contract_type_One year  \\\n",
       "5919                           0                       1   \n",
       "1915                           0                       1   \n",
       "\n",
       "      contract_type_Two year  payment_type_Credit card (automatic)  \\\n",
       "5919                       0                                     1   \n",
       "1915                       0                                     1   \n",
       "\n",
       "      payment_type_Electronic check  payment_type_Mailed check  \n",
       "5919                              0                          0  \n",
       "1915                              0                          0  \n",
       "\n",
       "[2 rows x 27 columns]"
      ]
     },
     "execution_count": 86,
     "metadata": {},
     "output_type": "execute_result"
    }
   ],
   "source": [
    "train2.head(2)"
   ]
  },
  {
   "cell_type": "code",
   "execution_count": 87,
   "id": "9e038f17",
   "metadata": {},
   "outputs": [],
   "source": [
    "train_pay = train2[['churn_Yes', 'payment_type_Credit card (automatic)', 'payment_type_Electronic check', 'payment_type_Mailed check']]"
   ]
  },
  {
   "cell_type": "code",
   "execution_count": 88,
   "id": "aee7b8ab",
   "metadata": {},
   "outputs": [
    {
     "data": {
      "text/html": [
       "<div>\n",
       "<style scoped>\n",
       "    .dataframe tbody tr th:only-of-type {\n",
       "        vertical-align: middle;\n",
       "    }\n",
       "\n",
       "    .dataframe tbody tr th {\n",
       "        vertical-align: top;\n",
       "    }\n",
       "\n",
       "    .dataframe thead th {\n",
       "        text-align: right;\n",
       "    }\n",
       "</style>\n",
       "<table border=\"1\" class=\"dataframe\">\n",
       "  <thead>\n",
       "    <tr style=\"text-align: right;\">\n",
       "      <th></th>\n",
       "      <th>churn_Yes</th>\n",
       "      <th>payment_type_Credit card (automatic)</th>\n",
       "      <th>payment_type_Electronic check</th>\n",
       "      <th>payment_type_Mailed check</th>\n",
       "    </tr>\n",
       "  </thead>\n",
       "  <tbody>\n",
       "    <tr>\n",
       "      <th>5919</th>\n",
       "      <td>0</td>\n",
       "      <td>1</td>\n",
       "      <td>0</td>\n",
       "      <td>0</td>\n",
       "    </tr>\n",
       "    <tr>\n",
       "      <th>1915</th>\n",
       "      <td>0</td>\n",
       "      <td>1</td>\n",
       "      <td>0</td>\n",
       "      <td>0</td>\n",
       "    </tr>\n",
       "  </tbody>\n",
       "</table>\n",
       "</div>"
      ],
      "text/plain": [
       "      churn_Yes  payment_type_Credit card (automatic)  \\\n",
       "5919          0                                     1   \n",
       "1915          0                                     1   \n",
       "\n",
       "      payment_type_Electronic check  payment_type_Mailed check  \n",
       "5919                              0                          0  \n",
       "1915                              0                          0  "
      ]
     },
     "execution_count": 88,
     "metadata": {},
     "output_type": "execute_result"
    }
   ],
   "source": [
    "train_pay.head(2)"
   ]
  },
  {
   "cell_type": "code",
   "execution_count": 89,
   "id": "e485195f",
   "metadata": {},
   "outputs": [
    {
     "data": {
      "text/plain": [
       "Electronic check             2365\n",
       "Mailed check                 1612\n",
       "Bank transfer (automatic)    1544\n",
       "Credit card (automatic)      1522\n",
       "Name: payment_type, dtype: int64"
      ]
     },
     "execution_count": 89,
     "metadata": {},
     "output_type": "execute_result"
    }
   ],
   "source": [
    "telco.payment_type.value_counts()"
   ]
  },
  {
   "cell_type": "code",
   "execution_count": 90,
   "id": "a7c95538",
   "metadata": {},
   "outputs": [
    {
     "name": "stderr",
     "output_type": "stream",
     "text": [
      "/var/folders/pt/3m3r1rq55pdgzpmnqzkdjb240000gn/T/ipykernel_20469/835259088.py:1: SettingWithCopyWarning: \n",
      "A value is trying to be set on a copy of a slice from a DataFrame.\n",
      "Try using .loc[row_indexer,col_indexer] = value instead\n",
      "\n",
      "See the caveats in the documentation: https://pandas.pydata.org/pandas-docs/stable/user_guide/indexing.html#returning-a-view-versus-a-copy\n",
      "  train_pay['bank transfer auto'] = ((train_pay['payment_type_Credit card (automatic)'] == 0) & (train_pay['payment_type_Electronic check'] == 0) & (train_pay['payment_type_Mailed check'] == 0))\n"
     ]
    }
   ],
   "source": [
    "train_pay['bank transfer auto'] = ((train_pay['payment_type_Credit card (automatic)'] == 0) & (train_pay['payment_type_Electronic check'] == 0) & (train_pay['payment_type_Mailed check'] == 0))"
   ]
  },
  {
   "cell_type": "code",
   "execution_count": 91,
   "id": "8da764dc",
   "metadata": {},
   "outputs": [
    {
     "data": {
      "text/html": [
       "<div>\n",
       "<style scoped>\n",
       "    .dataframe tbody tr th:only-of-type {\n",
       "        vertical-align: middle;\n",
       "    }\n",
       "\n",
       "    .dataframe tbody tr th {\n",
       "        vertical-align: top;\n",
       "    }\n",
       "\n",
       "    .dataframe thead th {\n",
       "        text-align: right;\n",
       "    }\n",
       "</style>\n",
       "<table border=\"1\" class=\"dataframe\">\n",
       "  <thead>\n",
       "    <tr style=\"text-align: right;\">\n",
       "      <th></th>\n",
       "      <th>churn_Yes</th>\n",
       "      <th>payment_type_Credit card (automatic)</th>\n",
       "      <th>payment_type_Electronic check</th>\n",
       "      <th>payment_type_Mailed check</th>\n",
       "      <th>bank transfer auto</th>\n",
       "    </tr>\n",
       "  </thead>\n",
       "  <tbody>\n",
       "    <tr>\n",
       "      <th>5919</th>\n",
       "      <td>0</td>\n",
       "      <td>1</td>\n",
       "      <td>0</td>\n",
       "      <td>0</td>\n",
       "      <td>False</td>\n",
       "    </tr>\n",
       "    <tr>\n",
       "      <th>1915</th>\n",
       "      <td>0</td>\n",
       "      <td>1</td>\n",
       "      <td>0</td>\n",
       "      <td>0</td>\n",
       "      <td>False</td>\n",
       "    </tr>\n",
       "  </tbody>\n",
       "</table>\n",
       "</div>"
      ],
      "text/plain": [
       "      churn_Yes  payment_type_Credit card (automatic)  \\\n",
       "5919          0                                     1   \n",
       "1915          0                                     1   \n",
       "\n",
       "      payment_type_Electronic check  payment_type_Mailed check  \\\n",
       "5919                              0                          0   \n",
       "1915                              0                          0   \n",
       "\n",
       "      bank transfer auto  \n",
       "5919               False  \n",
       "1915               False  "
      ]
     },
     "execution_count": 91,
     "metadata": {},
     "output_type": "execute_result"
    }
   ],
   "source": [
    "train_pay.head(2)"
   ]
  },
  {
   "cell_type": "code",
   "execution_count": 92,
   "id": "8199ea78",
   "metadata": {},
   "outputs": [
    {
     "name": "stderr",
     "output_type": "stream",
     "text": [
      "/var/folders/pt/3m3r1rq55pdgzpmnqzkdjb240000gn/T/ipykernel_20469/3458198687.py:1: SettingWithCopyWarning: \n",
      "A value is trying to be set on a copy of a slice from a DataFrame.\n",
      "Try using .loc[row_indexer,col_indexer] = value instead\n",
      "\n",
      "See the caveats in the documentation: https://pandas.pydata.org/pandas-docs/stable/user_guide/indexing.html#returning-a-view-versus-a-copy\n",
      "  train_pay['bank transfer auto'] = train_pay['bank transfer auto'].astype(int)\n"
     ]
    }
   ],
   "source": [
    "train_pay['bank transfer auto'] = train_pay['bank transfer auto'].astype(int)"
   ]
  },
  {
   "cell_type": "code",
   "execution_count": 93,
   "id": "b26edbb8",
   "metadata": {},
   "outputs": [
    {
     "data": {
      "text/html": [
       "<div>\n",
       "<style scoped>\n",
       "    .dataframe tbody tr th:only-of-type {\n",
       "        vertical-align: middle;\n",
       "    }\n",
       "\n",
       "    .dataframe tbody tr th {\n",
       "        vertical-align: top;\n",
       "    }\n",
       "\n",
       "    .dataframe thead th {\n",
       "        text-align: right;\n",
       "    }\n",
       "</style>\n",
       "<table border=\"1\" class=\"dataframe\">\n",
       "  <thead>\n",
       "    <tr style=\"text-align: right;\">\n",
       "      <th></th>\n",
       "      <th>churn_Yes</th>\n",
       "      <th>payment_type_Credit card (automatic)</th>\n",
       "      <th>payment_type_Electronic check</th>\n",
       "      <th>payment_type_Mailed check</th>\n",
       "      <th>bank transfer auto</th>\n",
       "    </tr>\n",
       "  </thead>\n",
       "  <tbody>\n",
       "    <tr>\n",
       "      <th>5919</th>\n",
       "      <td>0</td>\n",
       "      <td>1</td>\n",
       "      <td>0</td>\n",
       "      <td>0</td>\n",
       "      <td>0</td>\n",
       "    </tr>\n",
       "    <tr>\n",
       "      <th>1915</th>\n",
       "      <td>0</td>\n",
       "      <td>1</td>\n",
       "      <td>0</td>\n",
       "      <td>0</td>\n",
       "      <td>0</td>\n",
       "    </tr>\n",
       "  </tbody>\n",
       "</table>\n",
       "</div>"
      ],
      "text/plain": [
       "      churn_Yes  payment_type_Credit card (automatic)  \\\n",
       "5919          0                                     1   \n",
       "1915          0                                     1   \n",
       "\n",
       "      payment_type_Electronic check  payment_type_Mailed check  \\\n",
       "5919                              0                          0   \n",
       "1915                              0                          0   \n",
       "\n",
       "      bank transfer auto  \n",
       "5919                   0  \n",
       "1915                   0  "
      ]
     },
     "execution_count": 93,
     "metadata": {},
     "output_type": "execute_result"
    }
   ],
   "source": [
    "train_pay.head(2)"
   ]
  },
  {
   "cell_type": "code",
   "execution_count": 94,
   "id": "35e5b348",
   "metadata": {},
   "outputs": [
    {
     "data": {
      "text/plain": [
       "<AxesSubplot:xlabel='payment_type_Credit card (automatic)'>"
      ]
     },
     "execution_count": 94,
     "metadata": {},
     "output_type": "execute_result"
    },
    {
     "data": {
      "image/png": "[encoded data removed]",
      "text/plain": [
       "<Figure size 432x288 with 1 Axes>"
      ]
     },
     "metadata": {
      "needs_background": "light"
     },
     "output_type": "display_data"
    }
   ],
   "source": [
    "cc_pay = pd.crosstab(train_pay['payment_type_Credit card (automatic)'], train_pay.churn_Yes)\n",
    "cc_pay.plot(kind='bar', stacked=True)"
   ]
  },
  {
   "cell_type": "code",
   "execution_count": 95,
   "id": "e403bac2",
   "metadata": {},
   "outputs": [
    {
     "data": {
      "text/plain": [
       "<AxesSubplot:xlabel='payment_type_Electronic check'>"
      ]
     },
     "execution_count": 95,
     "metadata": {},
     "output_type": "execute_result"
    },
    {
     "data": {
      "image/png": "[encoded data removed]",
      "text/plain": [
       "<Figure size 432x288 with 1 Axes>"
      ]
     },
     "metadata": {
      "needs_background": "light"
     },
     "output_type": "display_data"
    }
   ],
   "source": [
    "echeck_pay = pd.crosstab(train_pay['payment_type_Electronic check'], train_pay.churn_Yes)\n",
    "echeck_pay.plot(kind='bar', stacked=True)"
   ]
  },
  {
   "cell_type": "code",
   "execution_count": 96,
   "id": "8c8b4697",
   "metadata": {},
   "outputs": [
    {
     "data": {
      "text/plain": [
       "<AxesSubplot:xlabel='payment_type_Mailed check'>"
      ]
     },
     "execution_count": 96,
     "metadata": {},
     "output_type": "execute_result"
    },
    {
     "data": {
      "image/png": "[encoded data removed]",
      "text/plain": [
       "<Figure size 432x288 with 1 Axes>"
      ]
     },
     "metadata": {
      "needs_background": "light"
     },
     "output_type": "display_data"
    }
   ],
   "source": [
    "mcheck_pay = pd.crosstab(train_pay['payment_type_Mailed check'], train_pay.churn_Yes)\n",
    "mcheck_pay.plot(kind='bar', stacked=True)"
   ]
  },
  {
   "cell_type": "code",
   "execution_count": 97,
   "id": "d7049800",
   "metadata": {},
   "outputs": [
    {
     "data": {
      "text/plain": [
       "<AxesSubplot:xlabel='bank transfer auto'>"
      ]
     },
     "execution_count": 97,
     "metadata": {},
     "output_type": "execute_result"
    },
    {
     "data": {
      "image/png": "[encoded data removed]",
      "text/plain": [
       "<Figure size 432x288 with 1 Axes>"
      ]
     },
     "metadata": {
      "needs_background": "light"
     },
     "output_type": "display_data"
    }
   ],
   "source": [
    "bank_pay = pd.crosstab(train_pay['bank transfer auto'], train_pay.churn_Yes)\n",
    "bank_pay.plot(kind='bar', stacked=True)"
   ]
  },
  {
   "cell_type": "code",
   "execution_count": 98,
   "id": "ac4b88fc",
   "metadata": {},
   "outputs": [],
   "source": [
    "# The strongest impact on churn comes from customers using electronic check as payment type"
   ]
  },
  {
   "cell_type": "code",
   "execution_count": 99,
   "id": "995c5db7",
   "metadata": {},
   "outputs": [],
   "source": [
    "# H0: Electronic check payment and churn are independent of one another.\n",
    "# HA: Electronic check payment and churn are not independent of one another."
   ]
  },
  {
   "cell_type": "code",
   "execution_count": 100,
   "id": "1177599b",
   "metadata": {},
   "outputs": [
    {
     "name": "stdout",
     "output_type": "stream",
     "text": [
      "Observed\n",
      "\n",
      "[[2183  465]\n",
      " [ 708  581]]\n",
      "---\n",
      "Expected\n",
      "\n",
      "[[1944.46736093  703.53263907]\n",
      " [ 946.53263907  342.46736093]]\n",
      "---\n",
      "\n",
      "chi^2 =  334.9798\n",
      "p. = 7.911e-75\n"
     ]
    },
    {
     "data": {
      "text/html": [
       "<div>\n",
       "<style scoped>\n",
       "    .dataframe tbody tr th:only-of-type {\n",
       "        vertical-align: middle;\n",
       "    }\n",
       "\n",
       "    .dataframe tbody tr th {\n",
       "        vertical-align: top;\n",
       "    }\n",
       "\n",
       "    .dataframe thead th {\n",
       "        text-align: right;\n",
       "    }\n",
       "</style>\n",
       "<table border=\"1\" class=\"dataframe\">\n",
       "  <thead>\n",
       "    <tr style=\"text-align: right;\">\n",
       "      <th>churn_Yes</th>\n",
       "      <th>0</th>\n",
       "      <th>1</th>\n",
       "    </tr>\n",
       "    <tr>\n",
       "      <th>payment_type_Electronic check</th>\n",
       "      <th></th>\n",
       "      <th></th>\n",
       "    </tr>\n",
       "  </thead>\n",
       "  <tbody>\n",
       "    <tr>\n",
       "      <th>0</th>\n",
       "      <td>2183</td>\n",
       "      <td>465</td>\n",
       "    </tr>\n",
       "    <tr>\n",
       "      <th>1</th>\n",
       "      <td>708</td>\n",
       "      <td>581</td>\n",
       "    </tr>\n",
       "  </tbody>\n",
       "</table>\n",
       "</div>"
      ],
      "text/plain": [
       "churn_Yes                         0    1\n",
       "payment_type_Electronic check           \n",
       "0                              2183  465\n",
       "1                               708  581"
      ]
     },
     "execution_count": 100,
     "metadata": {},
     "output_type": "execute_result"
    }
   ],
   "source": [
    "chi2, p, degf, expected = stats.chi2_contingency(echeck_pay)\n",
    "print('Observed\\n')\n",
    "print(echeck_pay.values)\n",
    "print('---\\nExpected\\n')\n",
    "print(expected)\n",
    "print('---\\n')\n",
    "print(f'chi^2 = {chi2: .4f}')\n",
    "print(f'p. = {p:.4}')\n",
    "echeck_pay"
   ]
  },
  {
   "cell_type": "code",
   "execution_count": 101,
   "id": "52f1000d",
   "metadata": {},
   "outputs": [],
   "source": [
    "# Based on our above p value we can reject the null hypothesis and conclude that Electronic check payment and churn\n",
    "# are not independent of one another. Reinforcing our visualization approach to this factor."
   ]
  },
  {
   "cell_type": "markdown",
   "id": "63f19e5f",
   "metadata": {},
   "source": [
    "#### Question 8: How does tenure impact churn?"
   ]
  },
  {
   "cell_type": "code",
   "execution_count": 102,
   "id": "100a2cd9",
   "metadata": {},
   "outputs": [
    {
     "data": {
      "text/plain": [
       "1     351\n",
       "72    213\n",
       "2     141\n",
       "3     112\n",
       "4     104\n",
       "     ... \n",
       "43     30\n",
       "51     29\n",
       "39     29\n",
       "59     28\n",
       "36     24\n",
       "Name: tenure, Length: 72, dtype: int64"
      ]
     },
     "execution_count": 102,
     "metadata": {},
     "output_type": "execute_result"
    }
   ],
   "source": [
    "train.tenure.value_counts()"
   ]
  },
  {
   "cell_type": "code",
   "execution_count": 103,
   "id": "7be6aaf6",
   "metadata": {},
   "outputs": [],
   "source": [
    "ten_churn = train[['churn_Yes', 'tenure']]"
   ]
  },
  {
   "cell_type": "code",
   "execution_count": 104,
   "id": "838bcf0b",
   "metadata": {},
   "outputs": [],
   "source": [
    "ten_churn_cross = pd.crosstab(ten_churn.tenure, ten_churn.churn_Yes)"
   ]
  },
  {
   "cell_type": "code",
   "execution_count": 105,
   "id": "20890f65",
   "metadata": {},
   "outputs": [
    {
     "data": {
      "text/plain": [
       "<AxesSubplot:xlabel='tenure'>"
      ]
     },
     "execution_count": 105,
     "metadata": {},
     "output_type": "execute_result"
    },
    {
     "data": {
      "image/png": "[encoded data removed]",
      "text/plain": [
       "<Figure size 432x288 with 1 Axes>"
      ]
     },
     "metadata": {
      "needs_background": "light"
     },
     "output_type": "display_data"
    }
   ],
   "source": [
    "ten_churn_cross.plot()"
   ]
  },
  {
   "cell_type": "code",
   "execution_count": 106,
   "id": "548b8095",
   "metadata": {},
   "outputs": [],
   "source": [
    "# As seen there is an issue with churn for customers who have a shorter tenure duration. "
   ]
  },
  {
   "cell_type": "code",
   "execution_count": 107,
   "id": "9a49bffc",
   "metadata": {},
   "outputs": [],
   "source": [
    "# Let's use statistical testing to see if the churn for shorter tenure duration is significant\n",
    "churned = train[train.churn_Yes == 1]\n",
    "not_churned = train[train.churn_Yes == 0]\n",
    "# H0: The tenure duration for customers that churn >= the tenure for customers that do not churn (on average)\n",
    "# HA: The tenure duration for customers that churn < the tenure for customers that do not churn (on average)"
   ]
  },
  {
   "cell_type": "code",
   "execution_count": 108,
   "id": "72370ade",
   "metadata": {},
   "outputs": [
    {
     "data": {
      "text/plain": [
       "<AxesSubplot:>"
      ]
     },
     "execution_count": 108,
     "metadata": {},
     "output_type": "execute_result"
    },
    {
     "data": {
      "image/png": "[encoded data removed]",
      "text/plain": [
       "<Figure size 432x288 with 1 Axes>"
      ]
     },
     "metadata": {
      "needs_background": "light"
     },
     "output_type": "display_data"
    }
   ],
   "source": [
    "# Normal distribution: relatively (especially for not_churned)\n",
    "churned.tenure.hist()"
   ]
  },
  {
   "cell_type": "code",
   "execution_count": 109,
   "id": "3dbd5a1e",
   "metadata": {},
   "outputs": [
    {
     "data": {
      "text/plain": [
       "<AxesSubplot:>"
      ]
     },
     "execution_count": 109,
     "metadata": {},
     "output_type": "execute_result"
    },
    {
     "data": {
      "image/png": "[encoded data removed]",
      "text/plain": [
       "<Figure size 432x288 with 1 Axes>"
      ]
     },
     "metadata": {
      "needs_background": "light"
     },
     "output_type": "display_data"
    }
   ],
   "source": [
    "not_churned.tenure.hist()"
   ]
  },
  {
   "cell_type": "code",
   "execution_count": 110,
   "id": "0f255141",
   "metadata": {},
   "outputs": [
    {
     "name": "stdout",
     "output_type": "stream",
     "text": [
      "398.43204186374203\n",
      "584.5619257473691\n"
     ]
    }
   ],
   "source": [
    "# They are independent samples\n",
    "print(churned.tenure.var())\n",
    "print(not_churned.tenure.var())\n",
    "# They do not have equal variances"
   ]
  },
  {
   "cell_type": "code",
   "execution_count": 111,
   "id": "5a0d5c78",
   "metadata": {},
   "outputs": [
    {
     "data": {
      "text/plain": [
       "(-25.770004822356352, 1.1764392669761995e-128)"
      ]
     },
     "execution_count": 111,
     "metadata": {},
     "output_type": "execute_result"
    }
   ],
   "source": [
    "t, p = stats.ttest_ind(churned.tenure, not_churned.tenure, equal_var=False)\n",
    "t, p/2"
   ]
  },
  {
   "cell_type": "code",
   "execution_count": 112,
   "id": "dae4f78c",
   "metadata": {},
   "outputs": [],
   "source": [
    "# The t value (-) is the correct direction for our test and the p value is less than alpha. Therefore we can reject\n",
    "# the null hypothesis and conclude that on average the tenure duration for customers that churn is < the tenure\n",
    "# duration for customers that do not. "
   ]
  },
  {
   "cell_type": "markdown",
   "id": "3ca92d22",
   "metadata": {},
   "source": [
    "##### Question 9: How does cost impact churn?"
   ]
  },
  {
   "cell_type": "code",
   "execution_count": 113,
   "id": "9286dbe4",
   "metadata": {},
   "outputs": [
    {
     "data": {
      "text/plain": [
       "<matplotlib.legend.Legend at 0x7febb1bab1c0>"
      ]
     },
     "execution_count": 113,
     "metadata": {},
     "output_type": "execute_result"
    },
    {
     "data": {
      "image/png": "[encoded data removed]",
      "text/plain": [
       "<Figure size 432x288 with 1 Axes>"
      ]
     },
     "metadata": {
      "needs_background": "light"
     },
     "output_type": "display_data"
    }
   ],
   "source": [
    "# Let's look at some bivariate graphs to see how monthly_charges and churn interact\n",
    "sns.histplot(data = churned.monthly_charges, label = 'Churned', color = 'red')\n",
    "sns.histplot(data = not_churned.monthly_charges, label = 'Not Churned', color = 'yellow')\n",
    "plt.title('Churn by monthly charges')\n",
    "plt.legend()"
   ]
  },
  {
   "cell_type": "code",
   "execution_count": 114,
   "id": "9806b67c",
   "metadata": {},
   "outputs": [
    {
     "data": {
      "text/plain": [
       "<AxesSubplot:>"
      ]
     },
     "execution_count": 114,
     "metadata": {},
     "output_type": "execute_result"
    },
    {
     "data": {
      "image/png": "[encoded data removed]",
      "text/plain": [
       "<Figure size 432x288 with 1 Axes>"
      ]
     },
     "metadata": {
      "needs_background": "light"
     },
     "output_type": "display_data"
    }
   ],
   "source": [
    "# H0: The monthly charges for customers that churn <= the monthly charges for customers that do not churn (on average)\n",
    "# HA: The monthly charges for customers that churn > the monthly charges for customers that do not churn (on average)\n",
    "churned.monthly_charges.hist()"
   ]
  },
  {
   "cell_type": "code",
   "execution_count": 115,
   "id": "ec3e2fe7",
   "metadata": {},
   "outputs": [
    {
     "data": {
      "text/plain": [
       "<AxesSubplot:>"
      ]
     },
     "execution_count": 115,
     "metadata": {},
     "output_type": "execute_result"
    },
    {
     "data": {
      "image/png": "[encoded data removed]",
      "text/plain": [
       "<Figure size 432x288 with 1 Axes>"
      ]
     },
     "metadata": {
      "needs_background": "light"
     },
     "output_type": "display_data"
    }
   ],
   "source": [
    "not_churned.monthly_charges.hist()"
   ]
  },
  {
   "cell_type": "code",
   "execution_count": 116,
   "id": "f2e33c8e",
   "metadata": {},
   "outputs": [
    {
     "name": "stdout",
     "output_type": "stream",
     "text": [
      "604.8633241695393\n",
      "982.7932072180829\n"
     ]
    }
   ],
   "source": [
    "print(churned.monthly_charges.var())\n",
    "print(not_churned.monthly_charges.var())"
   ]
  },
  {
   "cell_type": "code",
   "execution_count": 117,
   "id": "93689be1",
   "metadata": {},
   "outputs": [
    {
     "data": {
      "text/plain": [
       "(14.089590985741236, 1.230065388468921e-43)"
      ]
     },
     "execution_count": 117,
     "metadata": {},
     "output_type": "execute_result"
    }
   ],
   "source": [
    "# They are independent data sets\n",
    "# They are relatively normally distributed, and have more than 30 inputs.\n",
    "# They do not have equal variances.\n",
    "t, p = stats.ttest_ind(churned.monthly_charges, not_churned.monthly_charges, equal_var=False)\n",
    "t, p/2"
   ]
  },
  {
   "cell_type": "code",
   "execution_count": 118,
   "id": "5a956836",
   "metadata": {},
   "outputs": [],
   "source": [
    "# Based on our given t value (+) and p value we can reject the null hypothesis and conclude that the monthly charges\n",
    "# for customers that churn is higher than for those that do not churn."
   ]
  },
  {
   "cell_type": "markdown",
   "id": "768675da",
   "metadata": {},
   "source": [
    "## Overall for exploration we find that our biggest indicators of churn are:\n",
    "### Fiber (Phone & Internet service)\n",
    "### No contract\n",
    "### Electronic check payment\n",
    "### Low tenure duration (tenure < 10)\n",
    "#### Some more minor but worth keeping: senior_citizen"
   ]
  },
  {
   "cell_type": "markdown",
   "id": "d7e78d26",
   "metadata": {},
   "source": [
    "## Further exploration options: If I were to continue exploration I would look at how the 'package' suit of add-on expenses may contribute to churn. "
   ]
  },
  {
   "cell_type": "code",
   "execution_count": 119,
   "id": "5e694993",
   "metadata": {},
   "outputs": [
    {
     "data": {
      "text/html": [
       "<div>\n",
       "<style scoped>\n",
       "    .dataframe tbody tr th:only-of-type {\n",
       "        vertical-align: middle;\n",
       "    }\n",
       "\n",
       "    .dataframe tbody tr th {\n",
       "        vertical-align: top;\n",
       "    }\n",
       "\n",
       "    .dataframe thead th {\n",
       "        text-align: right;\n",
       "    }\n",
       "</style>\n",
       "<table border=\"1\" class=\"dataframe\">\n",
       "  <thead>\n",
       "    <tr style=\"text-align: right;\">\n",
       "      <th></th>\n",
       "      <th>customer_id</th>\n",
       "      <th>senior_citizen</th>\n",
       "      <th>tenure</th>\n",
       "      <th>monthly_charges</th>\n",
       "      <th>total_charges</th>\n",
       "      <th>gender_Male</th>\n",
       "      <th>partner_Yes</th>\n",
       "      <th>dependents_Yes</th>\n",
       "      <th>phone_service_Yes</th>\n",
       "      <th>multiple_lines_No phone service</th>\n",
       "      <th>...</th>\n",
       "      <th>streaming_movies_Yes</th>\n",
       "      <th>paperless_billing_Yes</th>\n",
       "      <th>churn_Yes</th>\n",
       "      <th>internet_service_type_Fiber optic</th>\n",
       "      <th>internet_service_type_None</th>\n",
       "      <th>contract_type_One year</th>\n",
       "      <th>contract_type_Two year</th>\n",
       "      <th>payment_type_Credit card (automatic)</th>\n",
       "      <th>payment_type_Electronic check</th>\n",
       "      <th>payment_type_Mailed check</th>\n",
       "    </tr>\n",
       "  </thead>\n",
       "  <tbody>\n",
       "    <tr>\n",
       "      <th>5919</th>\n",
       "      <td>8331-ZXFOE</td>\n",
       "      <td>0</td>\n",
       "      <td>58</td>\n",
       "      <td>71.10</td>\n",
       "      <td>4299.20</td>\n",
       "      <td>0</td>\n",
       "      <td>0</td>\n",
       "      <td>0</td>\n",
       "      <td>1</td>\n",
       "      <td>0</td>\n",
       "      <td>...</td>\n",
       "      <td>0</td>\n",
       "      <td>1</td>\n",
       "      <td>0</td>\n",
       "      <td>0</td>\n",
       "      <td>0</td>\n",
       "      <td>1</td>\n",
       "      <td>0</td>\n",
       "      <td>1</td>\n",
       "      <td>0</td>\n",
       "      <td>0</td>\n",
       "    </tr>\n",
       "    <tr>\n",
       "      <th>1915</th>\n",
       "      <td>2790-XUYMV</td>\n",
       "      <td>0</td>\n",
       "      <td>71</td>\n",
       "      <td>85.45</td>\n",
       "      <td>6028.95</td>\n",
       "      <td>1</td>\n",
       "      <td>0</td>\n",
       "      <td>1</td>\n",
       "      <td>1</td>\n",
       "      <td>0</td>\n",
       "      <td>...</td>\n",
       "      <td>0</td>\n",
       "      <td>1</td>\n",
       "      <td>0</td>\n",
       "      <td>1</td>\n",
       "      <td>0</td>\n",
       "      <td>1</td>\n",
       "      <td>0</td>\n",
       "      <td>1</td>\n",
       "      <td>0</td>\n",
       "      <td>0</td>\n",
       "    </tr>\n",
       "  </tbody>\n",
       "</table>\n",
       "<p>2 rows × 32 columns</p>\n",
       "</div>"
      ],
      "text/plain": [
       "     customer_id  senior_citizen  tenure  monthly_charges  total_charges  \\\n",
       "5919  8331-ZXFOE               0      58            71.10        4299.20   \n",
       "1915  2790-XUYMV               0      71            85.45        6028.95   \n",
       "\n",
       "      gender_Male  partner_Yes  dependents_Yes  phone_service_Yes  \\\n",
       "5919            0            0               0                  1   \n",
       "1915            1            0               1                  1   \n",
       "\n",
       "      multiple_lines_No phone service  ...  streaming_movies_Yes  \\\n",
       "5919                                0  ...                     0   \n",
       "1915                                0  ...                     0   \n",
       "\n",
       "      paperless_billing_Yes  churn_Yes  internet_service_type_Fiber optic  \\\n",
       "5919                      1          0                                  0   \n",
       "1915                      1          0                                  1   \n",
       "\n",
       "      internet_service_type_None  contract_type_One year  \\\n",
       "5919                           0                       1   \n",
       "1915                           0                       1   \n",
       "\n",
       "      contract_type_Two year  payment_type_Credit card (automatic)  \\\n",
       "5919                       0                                     1   \n",
       "1915                       0                                     1   \n",
       "\n",
       "      payment_type_Electronic check  payment_type_Mailed check  \n",
       "5919                              0                          0  \n",
       "1915                              0                          0  \n",
       "\n",
       "[2 rows x 32 columns]"
      ]
     },
     "execution_count": 119,
     "metadata": {},
     "output_type": "execute_result"
    }
   ],
   "source": [
    "train.head(2)"
   ]
  },
  {
   "cell_type": "code",
   "execution_count": 120,
   "id": "9d3b264b",
   "metadata": {},
   "outputs": [],
   "source": [
    "# Prior to modeling, removing customer_id from our data"
   ]
  },
  {
   "cell_type": "code",
   "execution_count": 121,
   "id": "4b0c5c3d",
   "metadata": {},
   "outputs": [],
   "source": [
    "# train_cust = train[['customer_id']]"
   ]
  },
  {
   "cell_type": "code",
   "execution_count": 122,
   "id": "6c8a1538",
   "metadata": {},
   "outputs": [],
   "source": [
    "# validate_cust = validate[['customer_id']]\n",
    "# test_cust = test[['customer_id']]"
   ]
  },
  {
   "cell_type": "code",
   "execution_count": 123,
   "id": "40c1265a",
   "metadata": {},
   "outputs": [],
   "source": [
    "# train = train.drop(columns='customer_id')\n",
    "# validate = validate.drop(columns='customer_id')\n",
    "# test = test.drop(columns='customer_id')"
   ]
  },
  {
   "cell_type": "code",
   "execution_count": 124,
   "id": "eabd7bd2",
   "metadata": {},
   "outputs": [
    {
     "name": "stdout",
     "output_type": "stream",
     "text": [
      "<class 'pandas.core.frame.DataFrame'>\n",
      "Int64Index: 3937 entries, 5919 to 4192\n",
      "Data columns (total 32 columns):\n",
      " #   Column                                 Non-Null Count  Dtype  \n",
      "---  ------                                 --------------  -----  \n",
      " 0   customer_id                            3937 non-null   object \n",
      " 1   senior_citizen                         3937 non-null   int64  \n",
      " 2   tenure                                 3937 non-null   int64  \n",
      " 3   monthly_charges                        3937 non-null   float64\n",
      " 4   total_charges                          3937 non-null   float64\n",
      " 5   gender_Male                            3937 non-null   uint8  \n",
      " 6   partner_Yes                            3937 non-null   uint8  \n",
      " 7   dependents_Yes                         3937 non-null   uint8  \n",
      " 8   phone_service_Yes                      3937 non-null   uint8  \n",
      " 9   multiple_lines_No phone service        3937 non-null   uint8  \n",
      " 10  multiple_lines_Yes                     3937 non-null   uint8  \n",
      " 11  online_security_No internet service    3937 non-null   uint8  \n",
      " 12  online_security_Yes                    3937 non-null   uint8  \n",
      " 13  online_backup_No internet service      3937 non-null   uint8  \n",
      " 14  online_backup_Yes                      3937 non-null   uint8  \n",
      " 15  device_protection_No internet service  3937 non-null   uint8  \n",
      " 16  device_protection_Yes                  3937 non-null   uint8  \n",
      " 17  tech_support_No internet service       3937 non-null   uint8  \n",
      " 18  tech_support_Yes                       3937 non-null   uint8  \n",
      " 19  streaming_tv_No internet service       3937 non-null   uint8  \n",
      " 20  streaming_tv_Yes                       3937 non-null   uint8  \n",
      " 21  streaming_movies_No internet service   3937 non-null   uint8  \n",
      " 22  streaming_movies_Yes                   3937 non-null   uint8  \n",
      " 23  paperless_billing_Yes                  3937 non-null   uint8  \n",
      " 24  churn_Yes                              3937 non-null   uint8  \n",
      " 25  internet_service_type_Fiber optic      3937 non-null   uint8  \n",
      " 26  internet_service_type_None             3937 non-null   uint8  \n",
      " 27  contract_type_One year                 3937 non-null   uint8  \n",
      " 28  contract_type_Two year                 3937 non-null   uint8  \n",
      " 29  payment_type_Credit card (automatic)   3937 non-null   uint8  \n",
      " 30  payment_type_Electronic check          3937 non-null   uint8  \n",
      " 31  payment_type_Mailed check              3937 non-null   uint8  \n",
      "dtypes: float64(2), int64(2), object(1), uint8(27)\n",
      "memory usage: 417.4+ KB\n"
     ]
    }
   ],
   "source": [
    "train.info()"
   ]
  },
  {
   "cell_type": "code",
   "execution_count": 125,
   "id": "cf4a4775",
   "metadata": {},
   "outputs": [],
   "source": [
    "# train10 = train.drop(columns=['total_charges', 'gender_Male', 'partner_Yes', 'dependents_Yes', 'phone_service_Yes', 'multiple_lines_No phone service',\n",
    "#                              'multiple_lines_Yes', 'online_security_No internet service', 'online_security_Yes', 'online_backup_No internet service'])"
   ]
  },
  {
   "cell_type": "code",
   "execution_count": 126,
   "id": "0232b3bb",
   "metadata": {},
   "outputs": [],
   "source": [
    "# train10 = train10.drop(columns=['online_backup_Yes', 'device_protection_No internet service', 'device_protection_Yes',\n",
    "#                                'tech_support_No internet service', 'tech_support_Yes', 'streaming_tv_No internet service'])"
   ]
  },
  {
   "cell_type": "code",
   "execution_count": 127,
   "id": "63dc7a8f",
   "metadata": {},
   "outputs": [],
   "source": [
    "# train10 = train10.drop(columns=['streaming_tv_Yes', 'streaming_movies_No internet service', 'streaming_movies_Yes',\n",
    "#                                'paperless_billing_Yes', 'internet_service_type_None'])"
   ]
  },
  {
   "cell_type": "code",
   "execution_count": 128,
   "id": "1b4c63d0",
   "metadata": {},
   "outputs": [],
   "source": [
    "train10, validate10, test10, train_cust, validate_cust, test_cust = more_clean(train, validate, test)\n"
   ]
  },
  {
   "cell_type": "markdown",
   "id": "fe97d8c4",
   "metadata": {},
   "source": [
    "## Modeling:"
   ]
  },
  {
   "cell_type": "code",
   "execution_count": 129,
   "id": "9a265253",
   "metadata": {},
   "outputs": [
    {
     "data": {
      "text/plain": [
       "0    2891\n",
       "1    1046\n",
       "Name: churn_Yes, dtype: int64"
      ]
     },
     "execution_count": 129,
     "metadata": {},
     "output_type": "execute_result"
    }
   ],
   "source": [
    "# establish our baseline accuracy\n",
    "train10.churn_Yes.value_counts()"
   ]
  },
  {
   "cell_type": "code",
   "execution_count": 130,
   "id": "a26e988e",
   "metadata": {},
   "outputs": [
    {
     "data": {
      "text/plain": [
       "0.7343154686309372"
      ]
     },
     "execution_count": 130,
     "metadata": {},
     "output_type": "execute_result"
    }
   ],
   "source": [
    "baseline = (train.churn_Yes == 0).mean()\n",
    "baseline"
   ]
  },
  {
   "cell_type": "markdown",
   "id": "c2ad21bc",
   "metadata": {},
   "source": [
    "#### Baseline accuracy: 73.4%"
   ]
  },
  {
   "cell_type": "code",
   "execution_count": 131,
   "id": "26960947",
   "metadata": {},
   "outputs": [
    {
     "data": {
      "text/html": [
       "<div>\n",
       "<style scoped>\n",
       "    .dataframe tbody tr th:only-of-type {\n",
       "        vertical-align: middle;\n",
       "    }\n",
       "\n",
       "    .dataframe tbody tr th {\n",
       "        vertical-align: top;\n",
       "    }\n",
       "\n",
       "    .dataframe thead th {\n",
       "        text-align: right;\n",
       "    }\n",
       "</style>\n",
       "<table border=\"1\" class=\"dataframe\">\n",
       "  <thead>\n",
       "    <tr style=\"text-align: right;\">\n",
       "      <th></th>\n",
       "      <th>senior_citizen</th>\n",
       "      <th>tenure</th>\n",
       "      <th>monthly_charges</th>\n",
       "      <th>churn_Yes</th>\n",
       "      <th>internet_service_type_Fiber optic</th>\n",
       "      <th>contract_type_One year</th>\n",
       "      <th>contract_type_Two year</th>\n",
       "      <th>payment_type_Credit card (automatic)</th>\n",
       "      <th>payment_type_Electronic check</th>\n",
       "      <th>payment_type_Mailed check</th>\n",
       "    </tr>\n",
       "  </thead>\n",
       "  <tbody>\n",
       "    <tr>\n",
       "      <th>5919</th>\n",
       "      <td>0</td>\n",
       "      <td>58</td>\n",
       "      <td>71.10</td>\n",
       "      <td>0</td>\n",
       "      <td>0</td>\n",
       "      <td>1</td>\n",
       "      <td>0</td>\n",
       "      <td>1</td>\n",
       "      <td>0</td>\n",
       "      <td>0</td>\n",
       "    </tr>\n",
       "    <tr>\n",
       "      <th>1915</th>\n",
       "      <td>0</td>\n",
       "      <td>71</td>\n",
       "      <td>85.45</td>\n",
       "      <td>0</td>\n",
       "      <td>1</td>\n",
       "      <td>1</td>\n",
       "      <td>0</td>\n",
       "      <td>1</td>\n",
       "      <td>0</td>\n",
       "      <td>0</td>\n",
       "    </tr>\n",
       "  </tbody>\n",
       "</table>\n",
       "</div>"
      ],
      "text/plain": [
       "      senior_citizen  tenure  monthly_charges  churn_Yes  \\\n",
       "5919               0      58            71.10          0   \n",
       "1915               0      71            85.45          0   \n",
       "\n",
       "      internet_service_type_Fiber optic  contract_type_One year  \\\n",
       "5919                                  0                       1   \n",
       "1915                                  1                       1   \n",
       "\n",
       "      contract_type_Two year  payment_type_Credit card (automatic)  \\\n",
       "5919                       0                                     1   \n",
       "1915                       0                                     1   \n",
       "\n",
       "      payment_type_Electronic check  payment_type_Mailed check  \n",
       "5919                              0                          0  \n",
       "1915                              0                          0  "
      ]
     },
     "execution_count": 131,
     "metadata": {},
     "output_type": "execute_result"
    }
   ],
   "source": [
    "train10.head(2)"
   ]
  },
  {
   "cell_type": "code",
   "execution_count": 132,
   "id": "45289214",
   "metadata": {},
   "outputs": [],
   "source": [
    "# Our target variable is churn_Yes so we are going to separate our x and y accordingly\n",
    "x_train = train10.drop(columns='churn_Yes')\n",
    "y_train = train10.churn_Yes\n",
    "x_validate = validate10.drop(columns='churn_Yes')\n",
    "y_validate = validate10.churn_Yes\n",
    "x_test = test10.drop(columns='churn_Yes')\n",
    "y_test = test10.churn_Yes"
   ]
  },
  {
   "cell_type": "code",
   "execution_count": 133,
   "id": "c067d0e4",
   "metadata": {},
   "outputs": [],
   "source": [
    "clf = DecisionTreeClassifier(max_depth=3, random_state=123)"
   ]
  },
  {
   "cell_type": "code",
   "execution_count": 134,
   "id": "de30060c",
   "metadata": {},
   "outputs": [],
   "source": [
    "clf = clf.fit(x_train, y_train)"
   ]
  },
  {
   "cell_type": "code",
   "execution_count": 135,
   "id": "2849db6a",
   "metadata": {},
   "outputs": [
    {
     "data": {
      "text/plain": [
       "[Text(558.0, 951.3000000000001, 'tenure <= 15.5\\ngini = 0.39\\nsamples = 3937\\nvalue = [2891, 1046]\\nclass = No churn'),\n",
       " Text(279.0, 679.5, 'internet_service_type_Fiber optic <= 0.5\\ngini = 0.498\\nsamples = 1371\\nvalue = [733, 638]\\nclass = No churn'),\n",
       " Text(139.5, 407.70000000000005, 'tenure <= 3.5\\ngini = 0.416\\nsamples = 804\\nvalue = [567, 237]\\nclass = No churn'),\n",
       " Text(69.75, 135.89999999999998, 'gini = 0.491\\nsamples = 356\\nvalue = [202, 154]\\nclass = No churn'),\n",
       " Text(209.25, 135.89999999999998, 'gini = 0.302\\nsamples = 448\\nvalue = [365, 83]\\nclass = No churn'),\n",
       " Text(418.5, 407.70000000000005, 'tenure <= 1.5\\ngini = 0.414\\nsamples = 567\\nvalue = [166, 401]\\nclass = Churn'),\n",
       " Text(348.75, 135.89999999999998, 'gini = 0.206\\nsamples = 129\\nvalue = [15, 114]\\nclass = Churn'),\n",
       " Text(488.25, 135.89999999999998, 'gini = 0.452\\nsamples = 438\\nvalue = [151, 287]\\nclass = Churn'),\n",
       " Text(837.0, 679.5, 'internet_service_type_Fiber optic <= 0.5\\ngini = 0.267\\nsamples = 2566\\nvalue = [2158, 408]\\nclass = No churn'),\n",
       " Text(697.5, 407.70000000000005, 'contract_type_Two year <= 0.5\\ngini = 0.099\\nsamples = 1411\\nvalue = [1337, 74]\\nclass = No churn'),\n",
       " Text(627.75, 135.89999999999998, 'gini = 0.155\\nsamples = 742\\nvalue = [679, 63]\\nclass = No churn'),\n",
       " Text(767.25, 135.89999999999998, 'gini = 0.032\\nsamples = 669\\nvalue = [658, 11]\\nclass = No churn'),\n",
       " Text(976.5, 407.70000000000005, 'tenure <= 49.5\\ngini = 0.411\\nsamples = 1155\\nvalue = [821, 334]\\nclass = No churn'),\n",
       " Text(906.75, 135.89999999999998, 'gini = 0.484\\nsamples = 597\\nvalue = [352, 245]\\nclass = No churn'),\n",
       " Text(1046.25, 135.89999999999998, 'gini = 0.268\\nsamples = 558\\nvalue = [469, 89]\\nclass = No churn')]"
      ]
     },
     "execution_count": 135,
     "metadata": {},
     "output_type": "execute_result"
    },
    {
     "data": {
      "image/png": "[encoded data removed]",
      "text/plain": [
       "<Figure size 1440x1440 with 1 Axes>"
      ]
     },
     "metadata": {
      "needs_background": "light"
     },
     "output_type": "display_data"
    }
   ],
   "source": [
    "plt.figure(figsize=(20, 20))\n",
    "plot_tree(clf, feature_names=x_train.columns, class_names=['No churn', 'Churn'], rounded=True)"
   ]
  },
  {
   "cell_type": "code",
   "execution_count": 136,
   "id": "a8a1d659",
   "metadata": {},
   "outputs": [],
   "source": [
    "y_pred = clf.predict(x_train)\n",
    "y_pred_proba = clf.predict_proba(x_train)"
   ]
  },
  {
   "cell_type": "code",
   "execution_count": 137,
   "id": "9445e010",
   "metadata": {},
   "outputs": [
    {
     "name": "stdout",
     "output_type": "stream",
     "text": [
      "\n",
      "The accuracy for our model is  0.794)\n",
      "The True Positive Rate is 0.383, The False Positive Rate is 0.0574,\n",
      "The True Negative Rate is 0.943, and the False Negative Rate is 0.617\n",
      "\n",
      "              precision    recall  f1-score      support\n",
      "0              0.808605  0.942580  0.870468  2891.000000\n",
      "1              0.707231  0.383365  0.497210  1046.000000\n",
      "accuracy       0.794006  0.794006  0.794006     0.794006\n",
      "macro avg      0.757918  0.662973  0.683839  3937.000000\n",
      "weighted avg   0.781672  0.794006  0.771299  3937.000000\n"
     ]
    }
   ],
   "source": [
    "accuracy = clf.score(x_train, y_train)\n",
    "conf = confusion_matrix(y_train, y_pred)\n",
    "class_report = pd.DataFrame(classification_report(y_train, y_pred, output_dict=True)).T\n",
    "conf = confusion_matrix(y_train, y_pred)\n",
    "tpr = conf[1][1] / conf[1].sum()\n",
    "fpr = conf[0][1] / conf[0].sum()\n",
    "tnr = conf[0][0] / conf[0].sum()\n",
    "fnr = conf[1][0] / conf[1].sum()\n",
    "print(f'''\n",
    "The accuracy for our model is {accuracy: .4})\n",
    "The True Positive Rate is {tpr:.3}, The False Positive Rate is {fpr:.3},\n",
    "The True Negative Rate is {tnr:.3}, and the False Negative Rate is {fnr:.3}\n",
    "''')\n",
    "print(class_report)"
   ]
  },
  {
   "cell_type": "code",
   "execution_count": 138,
   "id": "1ef7b231",
   "metadata": {},
   "outputs": [],
   "source": [
    "# Some of our inputs seemed rather redundant (like total_charges and tenure), will make a new model dropping \n",
    "# some of these features. Also dropping some of the features we know are not largely important.\n",
    "# Added another max_depth (so 4)"
   ]
  },
  {
   "cell_type": "code",
   "execution_count": 139,
   "id": "84e4cf1d",
   "metadata": {},
   "outputs": [
    {
     "name": "stdout",
     "output_type": "stream",
     "text": [
      "<class 'pandas.core.frame.DataFrame'>\n",
      "Int64Index: 3937 entries, 5919 to 4192\n",
      "Data columns (total 9 columns):\n",
      " #   Column                                Non-Null Count  Dtype  \n",
      "---  ------                                --------------  -----  \n",
      " 0   senior_citizen                        3937 non-null   int64  \n",
      " 1   tenure                                3937 non-null   int64  \n",
      " 2   monthly_charges                       3937 non-null   float64\n",
      " 3   internet_service_type_Fiber optic     3937 non-null   uint8  \n",
      " 4   contract_type_One year                3937 non-null   uint8  \n",
      " 5   contract_type_Two year                3937 non-null   uint8  \n",
      " 6   payment_type_Credit card (automatic)  3937 non-null   uint8  \n",
      " 7   payment_type_Electronic check         3937 non-null   uint8  \n",
      " 8   payment_type_Mailed check             3937 non-null   uint8  \n",
      "dtypes: float64(1), int64(2), uint8(6)\n",
      "memory usage: 275.1 KB\n"
     ]
    }
   ],
   "source": [
    "x_train.info()"
   ]
  },
  {
   "cell_type": "code",
   "execution_count": 140,
   "id": "6b4de0ee",
   "metadata": {},
   "outputs": [],
   "source": [
    "clf2 = DecisionTreeClassifier(max_depth=4, random_state=123)"
   ]
  },
  {
   "cell_type": "code",
   "execution_count": 142,
   "id": "07d5db49",
   "metadata": {},
   "outputs": [],
   "source": [
    "clf2 = clf2.fit(x_train, y_train)"
   ]
  },
  {
   "cell_type": "code",
   "execution_count": 143,
   "id": "4a90a174",
   "metadata": {},
   "outputs": [
    {
     "data": {
      "text/plain": [
       "[Text(558.0, 978.48, 'tenure <= 15.5\\ngini = 0.39\\nsamples = 3937\\nvalue = [2891, 1046]\\nclass = No churn'),\n",
       " Text(279.0, 761.0400000000001, 'internet_service_type_Fiber optic <= 0.5\\ngini = 0.498\\nsamples = 1371\\nvalue = [733, 638]\\nclass = No churn'),\n",
       " Text(139.5, 543.6, 'tenure <= 3.5\\ngini = 0.416\\nsamples = 804\\nvalue = [567, 237]\\nclass = No churn'),\n",
       " Text(69.75, 326.1600000000001, 'monthly_charges <= 24.025\\ngini = 0.491\\nsamples = 356\\nvalue = [202, 154]\\nclass = No churn'),\n",
       " Text(34.875, 108.72000000000003, 'gini = 0.408\\nsamples = 147\\nvalue = [105, 42]\\nclass = No churn'),\n",
       " Text(104.625, 108.72000000000003, 'gini = 0.497\\nsamples = 209\\nvalue = [97, 112]\\nclass = Churn'),\n",
       " Text(209.25, 326.1600000000001, 'monthly_charges <= 20.925\\ngini = 0.302\\nsamples = 448\\nvalue = [365, 83]\\nclass = No churn'),\n",
       " Text(174.375, 108.72000000000003, 'gini = 0.111\\nsamples = 152\\nvalue = [143, 9]\\nclass = No churn'),\n",
       " Text(244.125, 108.72000000000003, 'gini = 0.375\\nsamples = 296\\nvalue = [222, 74]\\nclass = No churn'),\n",
       " Text(418.5, 543.6, 'tenure <= 1.5\\ngini = 0.414\\nsamples = 567\\nvalue = [166, 401]\\nclass = Churn'),\n",
       " Text(348.75, 326.1600000000001, 'senior_citizen <= 0.5\\ngini = 0.206\\nsamples = 129\\nvalue = [15, 114]\\nclass = Churn'),\n",
       " Text(313.875, 108.72000000000003, 'gini = 0.264\\nsamples = 96\\nvalue = [15, 81]\\nclass = Churn'),\n",
       " Text(383.625, 108.72000000000003, 'gini = 0.0\\nsamples = 33\\nvalue = [0, 33]\\nclass = Churn'),\n",
       " Text(488.25, 326.1600000000001, 'monthly_charges <= 74.125\\ngini = 0.452\\nsamples = 438\\nvalue = [151, 287]\\nclass = Churn'),\n",
       " Text(453.375, 108.72000000000003, 'gini = 0.499\\nsamples = 75\\nvalue = [39, 36]\\nclass = No churn'),\n",
       " Text(523.125, 108.72000000000003, 'gini = 0.427\\nsamples = 363\\nvalue = [112, 251]\\nclass = Churn'),\n",
       " Text(837.0, 761.0400000000001, 'internet_service_type_Fiber optic <= 0.5\\ngini = 0.267\\nsamples = 2566\\nvalue = [2158, 408]\\nclass = No churn'),\n",
       " Text(697.5, 543.6, 'contract_type_Two year <= 0.5\\ngini = 0.099\\nsamples = 1411\\nvalue = [1337, 74]\\nclass = No churn'),\n",
       " Text(627.75, 326.1600000000001, 'monthly_charges <= 24.875\\ngini = 0.155\\nsamples = 742\\nvalue = [679, 63]\\nclass = No churn'),\n",
       " Text(592.875, 108.72000000000003, 'gini = 0.03\\nsamples = 197\\nvalue = [194, 3]\\nclass = No churn'),\n",
       " Text(662.625, 108.72000000000003, 'gini = 0.196\\nsamples = 545\\nvalue = [485, 60]\\nclass = No churn'),\n",
       " Text(767.25, 326.1600000000001, 'senior_citizen <= 0.5\\ngini = 0.032\\nsamples = 669\\nvalue = [658, 11]\\nclass = No churn'),\n",
       " Text(732.375, 108.72000000000003, 'gini = 0.022\\nsamples = 632\\nvalue = [625, 7]\\nclass = No churn'),\n",
       " Text(802.125, 108.72000000000003, 'gini = 0.193\\nsamples = 37\\nvalue = [33, 4]\\nclass = No churn'),\n",
       " Text(976.5, 543.6, 'tenure <= 49.5\\ngini = 0.411\\nsamples = 1155\\nvalue = [821, 334]\\nclass = No churn'),\n",
       " Text(906.75, 326.1600000000001, 'contract_type_One year <= 0.5\\ngini = 0.484\\nsamples = 597\\nvalue = [352, 245]\\nclass = No churn'),\n",
       " Text(871.875, 108.72000000000003, 'gini = 0.495\\nsamples = 493\\nvalue = [270, 223]\\nclass = No churn'),\n",
       " Text(941.625, 108.72000000000003, 'gini = 0.334\\nsamples = 104\\nvalue = [82, 22]\\nclass = No churn'),\n",
       " Text(1046.25, 326.1600000000001, 'contract_type_Two year <= 0.5\\ngini = 0.268\\nsamples = 558\\nvalue = [469, 89]\\nclass = No churn'),\n",
       " Text(1011.375, 108.72000000000003, 'gini = 0.342\\nsamples = 333\\nvalue = [260, 73]\\nclass = No churn'),\n",
       " Text(1081.125, 108.72000000000003, 'gini = 0.132\\nsamples = 225\\nvalue = [209, 16]\\nclass = No churn')]"
      ]
     },
     "execution_count": 143,
     "metadata": {},
     "output_type": "execute_result"
    },
    {
     "data": {
      "image/png": "[encoded data removed]",
      "text/plain": [
       "<Figure size 1440x1440 with 1 Axes>"
      ]
     },
     "metadata": {
      "needs_background": "light"
     },
     "output_type": "display_data"
    }
   ],
   "source": [
    "plt.figure(figsize=(20, 20))\n",
    "plot_tree(clf2, feature_names=x_train.columns, class_names=['No churn', 'Churn'], rounded=True)"
   ]
  },
  {
   "cell_type": "code",
   "execution_count": 144,
   "id": "99a131a2",
   "metadata": {},
   "outputs": [],
   "source": [
    "y_pred2 = clf2.predict(x_train)\n",
    "y_pred_proba2 = clf2.predict_proba(x_train)"
   ]
  },
  {
   "cell_type": "code",
   "execution_count": 145,
   "id": "c1992c0f",
   "metadata": {},
   "outputs": [
    {
     "name": "stdout",
     "output_type": "stream",
     "text": [
      "\n",
      "The accuracy for our model is  0.7986)\n",
      "The True Positive Rate is 0.456, The False Positive Rate is 0.0775,\n",
      "The True Negative Rate is 0.923, and the False Negative Rate is 0.544\n",
      "\n"
     ]
    },
    {
     "data": {
      "text/html": [
       "<div>\n",
       "<style scoped>\n",
       "    .dataframe tbody tr th:only-of-type {\n",
       "        vertical-align: middle;\n",
       "    }\n",
       "\n",
       "    .dataframe tbody tr th {\n",
       "        vertical-align: top;\n",
       "    }\n",
       "\n",
       "    .dataframe thead th {\n",
       "        text-align: right;\n",
       "    }\n",
       "</style>\n",
       "<table border=\"1\" class=\"dataframe\">\n",
       "  <thead>\n",
       "    <tr style=\"text-align: right;\">\n",
       "      <th></th>\n",
       "      <th>precision</th>\n",
       "      <th>recall</th>\n",
       "      <th>f1-score</th>\n",
       "      <th>support</th>\n",
       "    </tr>\n",
       "  </thead>\n",
       "  <tbody>\n",
       "    <tr>\n",
       "      <th>0</th>\n",
       "      <td>0.824166</td>\n",
       "      <td>0.922518</td>\n",
       "      <td>0.870573</td>\n",
       "      <td>2891.000000</td>\n",
       "    </tr>\n",
       "    <tr>\n",
       "      <th>1</th>\n",
       "      <td>0.680456</td>\n",
       "      <td>0.456023</td>\n",
       "      <td>0.546079</td>\n",
       "      <td>1046.000000</td>\n",
       "    </tr>\n",
       "    <tr>\n",
       "      <th>accuracy</th>\n",
       "      <td>0.798578</td>\n",
       "      <td>0.798578</td>\n",
       "      <td>0.798578</td>\n",
       "      <td>0.798578</td>\n",
       "    </tr>\n",
       "    <tr>\n",
       "      <th>macro avg</th>\n",
       "      <td>0.752311</td>\n",
       "      <td>0.689271</td>\n",
       "      <td>0.708326</td>\n",
       "      <td>3937.000000</td>\n",
       "    </tr>\n",
       "    <tr>\n",
       "      <th>weighted avg</th>\n",
       "      <td>0.785984</td>\n",
       "      <td>0.798578</td>\n",
       "      <td>0.784360</td>\n",
       "      <td>3937.000000</td>\n",
       "    </tr>\n",
       "  </tbody>\n",
       "</table>\n",
       "</div>"
      ],
      "text/plain": [
       "              precision    recall  f1-score      support\n",
       "0              0.824166  0.922518  0.870573  2891.000000\n",
       "1              0.680456  0.456023  0.546079  1046.000000\n",
       "accuracy       0.798578  0.798578  0.798578     0.798578\n",
       "macro avg      0.752311  0.689271  0.708326  3937.000000\n",
       "weighted avg   0.785984  0.798578  0.784360  3937.000000"
      ]
     },
     "execution_count": 145,
     "metadata": {},
     "output_type": "execute_result"
    }
   ],
   "source": [
    "accuracy = clf2.score(x_train, y_train)\n",
    "conf = confusion_matrix(y_train, y_pred2)\n",
    "class_report = pd.DataFrame(classification_report(y_train, y_pred2, output_dict=True)).T\n",
    "conf = confusion_matrix(y_train, y_pred2)\n",
    "tpr = conf[1][1] / conf[1].sum()\n",
    "fpr = conf[0][1] / conf[0].sum()\n",
    "tnr = conf[0][0] / conf[0].sum()\n",
    "fnr = conf[1][0] / conf[1].sum()\n",
    "print(f'''\n",
    "The accuracy for our model is {accuracy: .4})\n",
    "The True Positive Rate is {tpr:.3}, The False Positive Rate is {fpr:.3},\n",
    "The True Negative Rate is {tnr:.3}, and the False Negative Rate is {fnr:.3}\n",
    "''')\n",
    "class_report"
   ]
  },
  {
   "cell_type": "code",
   "execution_count": 146,
   "id": "e30cd451",
   "metadata": {},
   "outputs": [],
   "source": [
    "y_pred2_val = clf2.predict(x_validate)"
   ]
  },
  {
   "cell_type": "code",
   "execution_count": 148,
   "id": "da604aa1",
   "metadata": {},
   "outputs": [
    {
     "name": "stdout",
     "output_type": "stream",
     "text": [
      "\n",
      "The accuracy for our model is  0.7767)\n",
      "The True Positive Rate is 0.439, The False Positive Rate is 0.101,\n",
      "The True Negative Rate is 0.899, and the False Negative Rate is 0.561\n",
      "\n"
     ]
    },
    {
     "data": {
      "text/html": [
       "<div>\n",
       "<style scoped>\n",
       "    .dataframe tbody tr th:only-of-type {\n",
       "        vertical-align: middle;\n",
       "    }\n",
       "\n",
       "    .dataframe tbody tr th {\n",
       "        vertical-align: top;\n",
       "    }\n",
       "\n",
       "    .dataframe thead th {\n",
       "        text-align: right;\n",
       "    }\n",
       "</style>\n",
       "<table border=\"1\" class=\"dataframe\">\n",
       "  <thead>\n",
       "    <tr style=\"text-align: right;\">\n",
       "      <th></th>\n",
       "      <th>precision</th>\n",
       "      <th>recall</th>\n",
       "      <th>f1-score</th>\n",
       "      <th>support</th>\n",
       "    </tr>\n",
       "  </thead>\n",
       "  <tbody>\n",
       "    <tr>\n",
       "      <th>0</th>\n",
       "      <td>0.815520</td>\n",
       "      <td>0.899112</td>\n",
       "      <td>0.855278</td>\n",
       "      <td>1239.000000</td>\n",
       "    </tr>\n",
       "    <tr>\n",
       "      <th>1</th>\n",
       "      <td>0.611801</td>\n",
       "      <td>0.438753</td>\n",
       "      <td>0.511025</td>\n",
       "      <td>449.000000</td>\n",
       "    </tr>\n",
       "    <tr>\n",
       "      <th>accuracy</th>\n",
       "      <td>0.776659</td>\n",
       "      <td>0.776659</td>\n",
       "      <td>0.776659</td>\n",
       "      <td>0.776659</td>\n",
       "    </tr>\n",
       "    <tr>\n",
       "      <th>macro avg</th>\n",
       "      <td>0.713661</td>\n",
       "      <td>0.668932</td>\n",
       "      <td>0.683151</td>\n",
       "      <td>1688.000000</td>\n",
       "    </tr>\n",
       "    <tr>\n",
       "      <th>weighted avg</th>\n",
       "      <td>0.761332</td>\n",
       "      <td>0.776659</td>\n",
       "      <td>0.763708</td>\n",
       "      <td>1688.000000</td>\n",
       "    </tr>\n",
       "  </tbody>\n",
       "</table>\n",
       "</div>"
      ],
      "text/plain": [
       "              precision    recall  f1-score      support\n",
       "0              0.815520  0.899112  0.855278  1239.000000\n",
       "1              0.611801  0.438753  0.511025   449.000000\n",
       "accuracy       0.776659  0.776659  0.776659     0.776659\n",
       "macro avg      0.713661  0.668932  0.683151  1688.000000\n",
       "weighted avg   0.761332  0.776659  0.763708  1688.000000"
      ]
     },
     "execution_count": 148,
     "metadata": {},
     "output_type": "execute_result"
    }
   ],
   "source": [
    "accuracy = clf2.score(x_validate, y_validate)\n",
    "conf = confusion_matrix(y_validate, y_pred2_val)\n",
    "class_report = pd.DataFrame(classification_report(y_validate, y_pred2_val, output_dict=True)).T\n",
    "conf = confusion_matrix(y_validate, y_pred2_val)\n",
    "tpr = conf[1][1] / conf[1].sum()\n",
    "fpr = conf[0][1] / conf[0].sum()\n",
    "tnr = conf[0][0] / conf[0].sum()\n",
    "fnr = conf[1][0] / conf[1].sum()\n",
    "print(f'''\n",
    "The accuracy for our model is {accuracy: .4})\n",
    "The True Positive Rate is {tpr:.3}, The False Positive Rate is {fpr:.3},\n",
    "The True Negative Rate is {tnr:.3}, and the False Negative Rate is {fnr:.3}\n",
    "''')\n",
    "class_report"
   ]
  },
  {
   "cell_type": "code",
   "execution_count": 149,
   "id": "d604f2b1",
   "metadata": {},
   "outputs": [],
   "source": [
    "# Not a lot of difference between the two (only real change is max_depth from 3 to 4), will try other models"
   ]
  },
  {
   "cell_type": "code",
   "execution_count": 150,
   "id": "dda90afb",
   "metadata": {},
   "outputs": [],
   "source": [
    "rf = RandomForestClassifier(bootstrap=True, class_weight=None, criterion='gini', min_samples_leaf=3,\n",
    "                           n_estimators=100, max_depth=3, random_state=123)"
   ]
  },
  {
   "cell_type": "code",
   "execution_count": 151,
   "id": "2370bea2",
   "metadata": {},
   "outputs": [
    {
     "data": {
      "text/plain": [
       "RandomForestClassifier(max_depth=3, min_samples_leaf=3, random_state=123)"
      ]
     },
     "execution_count": 151,
     "metadata": {},
     "output_type": "execute_result"
    }
   ],
   "source": [
    "rf.fit(x_train, y_train)"
   ]
  },
  {
   "cell_type": "code",
   "execution_count": 152,
   "id": "2f58d2c9",
   "metadata": {},
   "outputs": [
    {
     "name": "stdout",
     "output_type": "stream",
     "text": [
      "[0.01264968 0.34197707 0.09091719 0.24479627 0.05180407 0.14779964\n",
      " 0.00602793 0.09889075 0.00513741]\n"
     ]
    }
   ],
   "source": [
    "print(rf.feature_importances_)"
   ]
  },
  {
   "cell_type": "code",
   "execution_count": 153,
   "id": "38b4ce40",
   "metadata": {},
   "outputs": [],
   "source": [
    "y_pred = rf.predict(x_train)"
   ]
  },
  {
   "cell_type": "code",
   "execution_count": 154,
   "id": "063de10b",
   "metadata": {},
   "outputs": [],
   "source": [
    "y_pred_proba = rf.predict_proba(x_train)"
   ]
  },
  {
   "cell_type": "code",
   "execution_count": 155,
   "id": "5da215e9",
   "metadata": {},
   "outputs": [
    {
     "name": "stdout",
     "output_type": "stream",
     "text": [
      "\n",
      "The accuracy for our model is  0.795)\n",
      "The True Positive Rate is 0.365, The False Positive Rate is 0.0495,\n",
      "The True Negative Rate is 0.951, and the False Negative Rate is 0.635\n",
      "\n",
      "              precision    recall  f1-score      support\n",
      "0              0.805393  0.950536  0.871966  2891.000000\n",
      "1              0.727619  0.365201  0.486314  1046.000000\n",
      "accuracy       0.795022  0.795022  0.795022     0.795022\n",
      "macro avg      0.766506  0.657868  0.679140  3937.000000\n",
      "weighted avg   0.784729  0.795022  0.769504  3937.000000\n"
     ]
    }
   ],
   "source": [
    "accuracy = rf.score(x_train, y_train)\n",
    "conf = confusion_matrix(y_train, y_pred)\n",
    "class_report = pd.DataFrame(classification_report(y_train, y_pred, output_dict=True)).T\n",
    "conf = confusion_matrix(y_train, y_pred)\n",
    "tpr = conf[1][1] / conf[1].sum()\n",
    "fpr = conf[0][1] / conf[0].sum()\n",
    "tnr = conf[0][0] / conf[0].sum()\n",
    "fnr = conf[1][0] / conf[1].sum()\n",
    "print(f'''\n",
    "The accuracy for our model is {accuracy: .4})\n",
    "The True Positive Rate is {tpr:.3}, The False Positive Rate is {fpr:.3},\n",
    "The True Negative Rate is {tnr:.3}, and the False Negative Rate is {fnr:.3}\n",
    "''')\n",
    "print(class_report)"
   ]
  },
  {
   "cell_type": "code",
   "execution_count": 156,
   "id": "ec91222d",
   "metadata": {},
   "outputs": [],
   "source": [
    "rf2 = RandomForestClassifier(bootstrap=True, class_weight=None, criterion='gini', min_samples_leaf=2,\n",
    "                           n_estimators=100, max_depth=8, random_state=123)"
   ]
  },
  {
   "cell_type": "code",
   "execution_count": 157,
   "id": "3b82a068",
   "metadata": {},
   "outputs": [
    {
     "data": {
      "text/plain": [
       "RandomForestClassifier(max_depth=8, min_samples_leaf=2, random_state=123)"
      ]
     },
     "execution_count": 157,
     "metadata": {},
     "output_type": "execute_result"
    }
   ],
   "source": [
    "rf2.fit(x_train, y_train)"
   ]
  },
  {
   "cell_type": "code",
   "execution_count": 158,
   "id": "c96590b6",
   "metadata": {},
   "outputs": [
    {
     "name": "stdout",
     "output_type": "stream",
     "text": [
      "[0.02425182 0.3527216  0.21349097 0.16127714 0.06360124 0.09978741\n",
      " 0.01107776 0.06362434 0.01016771]\n"
     ]
    }
   ],
   "source": [
    "print(rf2.feature_importances_)"
   ]
  },
  {
   "cell_type": "code",
   "execution_count": 159,
   "id": "49eaf335",
   "metadata": {},
   "outputs": [],
   "source": [
    "y_pred = rf2.predict(x_train)"
   ]
  },
  {
   "cell_type": "code",
   "execution_count": 160,
   "id": "52055845",
   "metadata": {},
   "outputs": [],
   "source": [
    "y_pred_proba = rf2.predict_proba(x_train)"
   ]
  },
  {
   "cell_type": "code",
   "execution_count": 161,
   "id": "a70151ed",
   "metadata": {},
   "outputs": [
    {
     "name": "stdout",
     "output_type": "stream",
     "text": [
      "\n",
      "The accuracy for our model is  0.8344)\n",
      "The True Positive Rate is 0.596, The False Positive Rate is 0.0792,\n",
      "The True Negative Rate is 0.921, and the False Negative Rate is 0.404\n",
      "\n",
      "              precision    recall  f1-score      support\n",
      "0              0.862885  0.920789  0.890897  2891.000000\n",
      "1              0.731221  0.595602  0.656481  1046.000000\n",
      "accuracy       0.834392  0.834392  0.834392     0.834392\n",
      "macro avg      0.797053  0.758195  0.773689  3937.000000\n",
      "weighted avg   0.827904  0.834392  0.828616  3937.000000\n"
     ]
    }
   ],
   "source": [
    "accuracy = rf2.score(x_train, y_train)\n",
    "conf = confusion_matrix(y_train, y_pred)\n",
    "class_report = pd.DataFrame(classification_report(y_train, y_pred, output_dict=True)).T\n",
    "conf = confusion_matrix(y_train, y_pred)\n",
    "tpr = conf[1][1] / conf[1].sum()\n",
    "fpr = conf[0][1] / conf[0].sum()\n",
    "tnr = conf[0][0] / conf[0].sum()\n",
    "fnr = conf[1][0] / conf[1].sum()\n",
    "print(f'''\n",
    "The accuracy for our model is {accuracy: .4})\n",
    "The True Positive Rate is {tpr:.3}, The False Positive Rate is {fpr:.3},\n",
    "The True Negative Rate is {tnr:.3}, and the False Negative Rate is {fnr:.3}\n",
    "''')\n",
    "print(class_report)"
   ]
  },
  {
   "cell_type": "code",
   "execution_count": 162,
   "id": "f3e8b43a",
   "metadata": {},
   "outputs": [],
   "source": [
    "rf3 = RandomForestClassifier(bootstrap=True, class_weight=None, criterion='gini', min_samples_leaf=2,\n",
    "                           n_estimators=100, max_depth=10, random_state=123)"
   ]
  },
  {
   "cell_type": "code",
   "execution_count": 163,
   "id": "522dfbaf",
   "metadata": {},
   "outputs": [
    {
     "data": {
      "text/plain": [
       "RandomForestClassifier(max_depth=10, min_samples_leaf=2, random_state=123)"
      ]
     },
     "execution_count": 163,
     "metadata": {},
     "output_type": "execute_result"
    }
   ],
   "source": [
    "rf3.fit(x_train, y_train)"
   ]
  },
  {
   "cell_type": "code",
   "execution_count": 164,
   "id": "2a4ec4f8",
   "metadata": {},
   "outputs": [],
   "source": [
    "y_pred = rf3.predict(x_train)"
   ]
  },
  {
   "cell_type": "code",
   "execution_count": 165,
   "id": "45da5beb",
   "metadata": {},
   "outputs": [],
   "source": [
    "y_pred_proba = rf3.predict_proba(x_train)"
   ]
  },
  {
   "cell_type": "code",
   "execution_count": 166,
   "id": "4a50cac5",
   "metadata": {},
   "outputs": [
    {
     "name": "stdout",
     "output_type": "stream",
     "text": [
      "\n",
      "The accuracy for our model is  0.8621\n",
      "The True Positive Rate is 0.661, The False Positive Rate is 0.065,\n",
      "The True Negative Rate is 0.935, and the False Negative Rate is 0.339\n",
      "\n",
      "              precision    recall  f1-score      support\n",
      "0              0.883911  0.934971  0.908724  2891.000000\n",
      "1              0.786121  0.660612  0.717922  1046.000000\n",
      "accuracy       0.862078  0.862078  0.862078     0.862078\n",
      "macro avg      0.835016  0.797791  0.813323  3937.000000\n",
      "weighted avg   0.857930  0.862078  0.858031  3937.000000\n"
     ]
    }
   ],
   "source": [
    "accuracy = rf3.score(x_train, y_train)\n",
    "conf = confusion_matrix(y_train, y_pred)\n",
    "class_report = pd.DataFrame(classification_report(y_train, y_pred, output_dict=True)).T\n",
    "conf = confusion_matrix(y_train, y_pred)\n",
    "tpr = conf[1][1] / conf[1].sum()\n",
    "fpr = conf[0][1] / conf[0].sum()\n",
    "tnr = conf[0][0] / conf[0].sum()\n",
    "fnr = conf[1][0] / conf[1].sum()\n",
    "print(f'''\n",
    "The accuracy for our model is {accuracy: .4}\n",
    "The True Positive Rate is {tpr:.3}, The False Positive Rate is {fpr:.3},\n",
    "The True Negative Rate is {tnr:.3}, and the False Negative Rate is {fnr:.3}\n",
    "''')\n",
    "print(class_report)"
   ]
  },
  {
   "cell_type": "code",
   "execution_count": 167,
   "id": "122cad81",
   "metadata": {},
   "outputs": [
    {
     "data": {
      "text/plain": [
       "RandomForestClassifier(max_depth=10, min_samples_leaf=2, random_state=123)"
      ]
     },
     "execution_count": 167,
     "metadata": {},
     "output_type": "execute_result"
    }
   ],
   "source": [
    "rf3.fit(x_validate, y_validate)"
   ]
  },
  {
   "cell_type": "code",
   "execution_count": 168,
   "id": "cb9dbad5",
   "metadata": {},
   "outputs": [],
   "source": [
    "y_pred = rf3.predict(x_validate)"
   ]
  },
  {
   "cell_type": "code",
   "execution_count": 169,
   "id": "b7365f16",
   "metadata": {},
   "outputs": [],
   "source": [
    "y_pred_proba = rf3.predict_proba(x_validate)"
   ]
  },
  {
   "cell_type": "code",
   "execution_count": 170,
   "id": "5bcd5baf",
   "metadata": {},
   "outputs": [
    {
     "name": "stdout",
     "output_type": "stream",
     "text": [
      "\n",
      "The accuracy for our model is  0.8815)\n",
      "The True Positive Rate is 0.659, The False Positive Rate is 0.0379,\n",
      "The True Negative Rate is 0.962, and the False Negative Rate is 0.341\n",
      "\n",
      "              precision    recall  f1-score      support\n",
      "0              0.886245  0.962066  0.922601  1239.000000\n",
      "1              0.862974  0.659243  0.747475   449.000000\n",
      "accuracy       0.881517  0.881517  0.881517     0.881517\n",
      "macro avg      0.874610  0.810654  0.835038  1688.000000\n",
      "weighted avg   0.880055  0.881517  0.876018  1688.000000\n"
     ]
    }
   ],
   "source": [
    "accuracy = rf3.score(x_validate, y_validate)\n",
    "conf = confusion_matrix(y_validate, y_pred)\n",
    "class_report = pd.DataFrame(classification_report(y_validate, y_pred, output_dict=True)).T\n",
    "conf = confusion_matrix(y_validate, y_pred)\n",
    "tpr = conf[1][1] / conf[1].sum()\n",
    "fpr = conf[0][1] / conf[0].sum()\n",
    "tnr = conf[0][0] / conf[0].sum()\n",
    "fnr = conf[1][0] / conf[1].sum()\n",
    "print(f'''\n",
    "The accuracy for our model is {accuracy: .4})\n",
    "The True Positive Rate is {tpr:.3}, The False Positive Rate is {fpr:.3},\n",
    "The True Negative Rate is {tnr:.3}, and the False Negative Rate is {fnr:.3}\n",
    "''')\n",
    "print(class_report)"
   ]
  },
  {
   "cell_type": "code",
   "execution_count": 171,
   "id": "21ca4015",
   "metadata": {},
   "outputs": [],
   "source": [
    "# rf3 outperformed the others, due to a much larger max_depth and shortest min_samples_leaf metric.\n",
    "# The out of sample (validate) evaluation outperformed the in sample (train)."
   ]
  },
  {
   "cell_type": "code",
   "execution_count": 172,
   "id": "d7ca00fa",
   "metadata": {},
   "outputs": [],
   "source": [
    "knn = KNeighborsClassifier(n_neighbors=5, weights='uniform')"
   ]
  },
  {
   "cell_type": "code",
   "execution_count": 173,
   "id": "4284228c",
   "metadata": {},
   "outputs": [
    {
     "data": {
      "text/plain": [
       "KNeighborsClassifier()"
      ]
     },
     "execution_count": 173,
     "metadata": {},
     "output_type": "execute_result"
    }
   ],
   "source": [
    "knn.fit(x_train, y_train)"
   ]
  },
  {
   "cell_type": "code",
   "execution_count": 174,
   "id": "48f2ceba",
   "metadata": {},
   "outputs": [],
   "source": [
    "y_pred = knn.predict(x_train)"
   ]
  },
  {
   "cell_type": "code",
   "execution_count": 175,
   "id": "62c153b8",
   "metadata": {},
   "outputs": [],
   "source": [
    "y_pred_proba = knn.predict_proba(x_train)"
   ]
  },
  {
   "cell_type": "code",
   "execution_count": 176,
   "id": "940315ee",
   "metadata": {},
   "outputs": [
    {
     "name": "stdout",
     "output_type": "stream",
     "text": [
      "\n",
      "The accuracy for our model is  0.8296)\n",
      "The True Positive Rate is 0.596, The False Positive Rate is 0.0858,\n",
      "The True Negative Rate is 0.914, and the False Negative Rate is 0.404\n",
      "\n",
      "              precision    recall  f1-score      support\n",
      "0              0.862035  0.914217  0.887359  2891.000000\n",
      "1              0.715270  0.595602  0.649974  1046.000000\n",
      "accuracy       0.829566  0.829566  0.829566     0.829566\n",
      "macro avg      0.788653  0.754909  0.768667  3937.000000\n",
      "weighted avg   0.823042  0.829566  0.824290  3937.000000\n"
     ]
    }
   ],
   "source": [
    "accuracy = knn.score(x_train, y_train)\n",
    "conf = confusion_matrix(y_train, y_pred)\n",
    "class_report = pd.DataFrame(classification_report(y_train, y_pred, output_dict=True)).T\n",
    "conf = confusion_matrix(y_train, y_pred)\n",
    "tpr = conf[1][1] / conf[1].sum()\n",
    "fpr = conf[0][1] / conf[0].sum()\n",
    "tnr = conf[0][0] / conf[0].sum()\n",
    "fnr = conf[1][0] / conf[1].sum()\n",
    "print(f'''\n",
    "The accuracy for our model is {accuracy: .4})\n",
    "The True Positive Rate is {tpr:.3}, The False Positive Rate is {fpr:.3},\n",
    "The True Negative Rate is {tnr:.3}, and the False Negative Rate is {fnr:.3}\n",
    "''')\n",
    "print(class_report)"
   ]
  },
  {
   "cell_type": "code",
   "execution_count": 177,
   "id": "c30db340",
   "metadata": {},
   "outputs": [],
   "source": [
    "knn2 = KNeighborsClassifier(n_neighbors=10, weights='uniform')"
   ]
  },
  {
   "cell_type": "code",
   "execution_count": 178,
   "id": "73566574",
   "metadata": {},
   "outputs": [
    {
     "data": {
      "text/plain": [
       "KNeighborsClassifier(n_neighbors=10)"
      ]
     },
     "execution_count": 178,
     "metadata": {},
     "output_type": "execute_result"
    }
   ],
   "source": [
    "knn2.fit(x_train, y_train)"
   ]
  },
  {
   "cell_type": "code",
   "execution_count": 179,
   "id": "5aab42e5",
   "metadata": {},
   "outputs": [],
   "source": [
    "y_pred = knn2.predict(x_train)"
   ]
  },
  {
   "cell_type": "code",
   "execution_count": 180,
   "id": "ab163780",
   "metadata": {},
   "outputs": [],
   "source": [
    "y_pred_proba = knn2.predict_proba(x_train)"
   ]
  },
  {
   "cell_type": "code",
   "execution_count": 181,
   "id": "07e8b901",
   "metadata": {},
   "outputs": [
    {
     "name": "stdout",
     "output_type": "stream",
     "text": [
      "\n",
      "The accuracy for our model is  0.8146)\n",
      "The True Positive Rate is 0.461, The False Positive Rate is 0.0574,\n",
      "The True Negative Rate is 0.943, and the False Negative Rate is 0.539\n",
      "\n",
      "              precision    recall  f1-score     support\n",
      "0              0.828519  0.942580  0.881877  2891.00000\n",
      "1              0.743827  0.460803  0.569067  1046.00000\n",
      "accuracy       0.814580  0.814580  0.814580     0.81458\n",
      "macro avg      0.786173  0.701692  0.725472  3937.00000\n",
      "weighted avg   0.806018  0.814580  0.798768  3937.00000\n"
     ]
    }
   ],
   "source": [
    "accuracy = knn2.score(x_train, y_train)\n",
    "conf = confusion_matrix(y_train, y_pred)\n",
    "class_report = pd.DataFrame(classification_report(y_train, y_pred, output_dict=True)).T\n",
    "conf = confusion_matrix(y_train, y_pred)\n",
    "tpr = conf[1][1] / conf[1].sum()\n",
    "fpr = conf[0][1] / conf[0].sum()\n",
    "tnr = conf[0][0] / conf[0].sum()\n",
    "fnr = conf[1][0] / conf[1].sum()\n",
    "print(f'''\n",
    "The accuracy for our model is {accuracy: .4})\n",
    "The True Positive Rate is {tpr:.3}, The False Positive Rate is {fpr:.3},\n",
    "The True Negative Rate is {tnr:.3}, and the False Negative Rate is {fnr:.3}\n",
    "''')\n",
    "print(class_report)"
   ]
  },
  {
   "cell_type": "code",
   "execution_count": 182,
   "id": "d1e0770e",
   "metadata": {},
   "outputs": [],
   "source": [
    "# There is some potential here, perhaps if the data is further gleaned of the less important columns will \n",
    "# come back to KNN "
   ]
  },
  {
   "cell_type": "code",
   "execution_count": 185,
   "id": "f15ef6af",
   "metadata": {},
   "outputs": [
    {
     "data": {
      "text/html": [
       "<div>\n",
       "<style scoped>\n",
       "    .dataframe tbody tr th:only-of-type {\n",
       "        vertical-align: middle;\n",
       "    }\n",
       "\n",
       "    .dataframe tbody tr th {\n",
       "        vertical-align: top;\n",
       "    }\n",
       "\n",
       "    .dataframe thead th {\n",
       "        text-align: right;\n",
       "    }\n",
       "</style>\n",
       "<table border=\"1\" class=\"dataframe\">\n",
       "  <thead>\n",
       "    <tr style=\"text-align: right;\">\n",
       "      <th></th>\n",
       "      <th>senior_citizen</th>\n",
       "      <th>tenure</th>\n",
       "      <th>monthly_charges</th>\n",
       "      <th>internet_service_type_Fiber optic</th>\n",
       "      <th>contract_type_One year</th>\n",
       "      <th>contract_type_Two year</th>\n",
       "      <th>payment_type_Credit card (automatic)</th>\n",
       "      <th>payment_type_Electronic check</th>\n",
       "      <th>payment_type_Mailed check</th>\n",
       "    </tr>\n",
       "  </thead>\n",
       "  <tbody>\n",
       "    <tr>\n",
       "      <th>5919</th>\n",
       "      <td>0</td>\n",
       "      <td>58</td>\n",
       "      <td>71.10</td>\n",
       "      <td>0</td>\n",
       "      <td>1</td>\n",
       "      <td>0</td>\n",
       "      <td>1</td>\n",
       "      <td>0</td>\n",
       "      <td>0</td>\n",
       "    </tr>\n",
       "    <tr>\n",
       "      <th>1915</th>\n",
       "      <td>0</td>\n",
       "      <td>71</td>\n",
       "      <td>85.45</td>\n",
       "      <td>1</td>\n",
       "      <td>1</td>\n",
       "      <td>0</td>\n",
       "      <td>1</td>\n",
       "      <td>0</td>\n",
       "      <td>0</td>\n",
       "    </tr>\n",
       "  </tbody>\n",
       "</table>\n",
       "</div>"
      ],
      "text/plain": [
       "      senior_citizen  tenure  monthly_charges  \\\n",
       "5919               0      58            71.10   \n",
       "1915               0      71            85.45   \n",
       "\n",
       "      internet_service_type_Fiber optic  contract_type_One year  \\\n",
       "5919                                  0                       1   \n",
       "1915                                  1                       1   \n",
       "\n",
       "      contract_type_Two year  payment_type_Credit card (automatic)  \\\n",
       "5919                       0                                     1   \n",
       "1915                       0                                     1   \n",
       "\n",
       "      payment_type_Electronic check  payment_type_Mailed check  \n",
       "5919                              0                          0  \n",
       "1915                              0                          0  "
      ]
     },
     "execution_count": 185,
     "metadata": {},
     "output_type": "execute_result"
    }
   ],
   "source": [
    "x_train.head(2)"
   ]
  },
  {
   "cell_type": "code",
   "execution_count": null,
   "id": "aab50628",
   "metadata": {},
   "outputs": [],
   "source": [
    "# # Add a column to account for no contract\n",
    "# x_train['no_contract'] = ((x_train['contract_type_One year']) == 0 & (x_train['contract_type_Two year'] == 0))"
   ]
  },
  {
   "cell_type": "code",
   "execution_count": null,
   "id": "c9102893",
   "metadata": {},
   "outputs": [],
   "source": [
    "# x_validate['no_contract'] = ((x_validate['contract_type_One year']) == 0 & (x_validate['contract_type_Two year'] == 0))\n",
    "# x_test['no_contract'] = ((x_test['contract_type_One year']) == 0 & (x_test['contract_type_Two year'] == 0))"
   ]
  },
  {
   "cell_type": "code",
   "execution_count": null,
   "id": "632a5ea0",
   "metadata": {},
   "outputs": [],
   "source": [
    "# x_train.no_contract = x_train.no_contract.astype(int)\n",
    "# x_validate.no_contract = x_validate.no_contract.astype(int)\n",
    "# x_test.no_contract = x_test.no_contract.astype(int)"
   ]
  },
  {
   "cell_type": "code",
   "execution_count": null,
   "id": "e11edfe1",
   "metadata": {},
   "outputs": [],
   "source": [
    "# features1 = ['tenure', 'internet_service_type_Fiber optic', 'payment_type_Electronic check', 'no_contract']"
   ]
  },
  {
   "cell_type": "code",
   "execution_count": 186,
   "id": "286f748d",
   "metadata": {},
   "outputs": [],
   "source": [
    "logit1 = LogisticRegression(random_state=123)"
   ]
  },
  {
   "cell_type": "code",
   "execution_count": 187,
   "id": "4e5cc73d",
   "metadata": {},
   "outputs": [
    {
     "name": "stderr",
     "output_type": "stream",
     "text": [
      "/opt/homebrew/anaconda3/lib/python3.9/site-packages/sklearn/linear_model/_logistic.py:763: ConvergenceWarning: lbfgs failed to converge (status=1):\n",
      "STOP: TOTAL NO. of ITERATIONS REACHED LIMIT.\n",
      "\n",
      "Increase the number of iterations (max_iter) or scale the data as shown in:\n",
      "    https://scikit-learn.org/stable/modules/preprocessing.html\n",
      "Please also refer to the documentation for alternative solver options:\n",
      "    https://scikit-learn.org/stable/modules/linear_model.html#logistic-regression\n",
      "  n_iter_i = _check_optimize_result(\n"
     ]
    },
    {
     "data": {
      "text/plain": [
       "LogisticRegression(random_state=123)"
      ]
     },
     "execution_count": 187,
     "metadata": {},
     "output_type": "execute_result"
    }
   ],
   "source": [
    "logit1.fit(x_train, y_train)"
   ]
  },
  {
   "cell_type": "code",
   "execution_count": 188,
   "id": "74f8b433",
   "metadata": {},
   "outputs": [],
   "source": [
    "y_pred = logit1.predict(x_train)"
   ]
  },
  {
   "cell_type": "code",
   "execution_count": 189,
   "id": "ce226783",
   "metadata": {},
   "outputs": [
    {
     "name": "stdout",
     "output_type": "stream",
     "text": [
      "\n",
      "The accuracy for our model is  0.7948)\n",
      "The True Positive Rate is 0.503, The False Positive Rate is 0.0996,\n",
      "The True Negative Rate is 0.9, and the False Negative Rate is 0.497\n",
      "\n",
      "              precision    recall  f1-score      support\n",
      "0              0.833493  0.900380  0.865647  2891.000000\n",
      "1              0.646192  0.502868  0.565591  1046.000000\n",
      "accuracy       0.794768  0.794768  0.794768     0.794768\n",
      "macro avg      0.739843  0.701624  0.715619  3937.000000\n",
      "weighted avg   0.783730  0.794768  0.785927  3937.000000\n"
     ]
    }
   ],
   "source": [
    "accuracy = logit1.score(x_train, y_train)\n",
    "conf = confusion_matrix(y_train, y_pred)\n",
    "class_report = pd.DataFrame(classification_report(y_train, y_pred, output_dict=True)).T\n",
    "conf = confusion_matrix(y_train, y_pred)\n",
    "tpr = conf[1][1] / conf[1].sum()\n",
    "fpr = conf[0][1] / conf[0].sum()\n",
    "tnr = conf[0][0] / conf[0].sum()\n",
    "fnr = conf[1][0] / conf[1].sum()\n",
    "print(f'''\n",
    "The accuracy for our model is {accuracy: .4})\n",
    "The True Positive Rate is {tpr:.3}, The False Positive Rate is {fpr:.3},\n",
    "The True Negative Rate is {tnr:.3}, and the False Negative Rate is {fnr:.3}\n",
    "''')\n",
    "print(class_report)"
   ]
  },
  {
   "cell_type": "code",
   "execution_count": 190,
   "id": "8159a86a",
   "metadata": {},
   "outputs": [],
   "source": [
    "def evaluate_model(c):\n",
    "    model = LogisticRegression(C=c)\n",
    "    model.fit(x_train, y_train)\n",
    "    accuracy = model.score(x_validate, y_validate)\n",
    "    coefs = dict(zip(x_train.columns, model.coef_[0]))\n",
    "    return {'C': c, 'accuracy': accuracy, **coefs}"
   ]
  },
  {
   "cell_type": "code",
   "execution_count": 191,
   "id": "d9fd1f68",
   "metadata": {},
   "outputs": [
    {
     "name": "stderr",
     "output_type": "stream",
     "text": [
      "/opt/homebrew/anaconda3/lib/python3.9/site-packages/sklearn/linear_model/_logistic.py:763: ConvergenceWarning: lbfgs failed to converge (status=1):\n",
      "STOP: TOTAL NO. of ITERATIONS REACHED LIMIT.\n",
      "\n",
      "Increase the number of iterations (max_iter) or scale the data as shown in:\n",
      "    https://scikit-learn.org/stable/modules/preprocessing.html\n",
      "Please also refer to the documentation for alternative solver options:\n",
      "    https://scikit-learn.org/stable/modules/linear_model.html#logistic-regression\n",
      "  n_iter_i = _check_optimize_result(\n",
      "/opt/homebrew/anaconda3/lib/python3.9/site-packages/sklearn/linear_model/_logistic.py:763: ConvergenceWarning: lbfgs failed to converge (status=1):\n",
      "STOP: TOTAL NO. of ITERATIONS REACHED LIMIT.\n",
      "\n",
      "Increase the number of iterations (max_iter) or scale the data as shown in:\n",
      "    https://scikit-learn.org/stable/modules/preprocessing.html\n",
      "Please also refer to the documentation for alternative solver options:\n",
      "    https://scikit-learn.org/stable/modules/linear_model.html#logistic-regression\n",
      "  n_iter_i = _check_optimize_result(\n",
      "/opt/homebrew/anaconda3/lib/python3.9/site-packages/sklearn/linear_model/_logistic.py:763: ConvergenceWarning: lbfgs failed to converge (status=1):\n",
      "STOP: TOTAL NO. of ITERATIONS REACHED LIMIT.\n",
      "\n",
      "Increase the number of iterations (max_iter) or scale the data as shown in:\n",
      "    https://scikit-learn.org/stable/modules/preprocessing.html\n",
      "Please also refer to the documentation for alternative solver options:\n",
      "    https://scikit-learn.org/stable/modules/linear_model.html#logistic-regression\n",
      "  n_iter_i = _check_optimize_result(\n",
      "/opt/homebrew/anaconda3/lib/python3.9/site-packages/sklearn/linear_model/_logistic.py:763: ConvergenceWarning: lbfgs failed to converge (status=1):\n",
      "STOP: TOTAL NO. of ITERATIONS REACHED LIMIT.\n",
      "\n",
      "Increase the number of iterations (max_iter) or scale the data as shown in:\n",
      "    https://scikit-learn.org/stable/modules/preprocessing.html\n",
      "Please also refer to the documentation for alternative solver options:\n",
      "    https://scikit-learn.org/stable/modules/linear_model.html#logistic-regression\n",
      "  n_iter_i = _check_optimize_result(\n",
      "/opt/homebrew/anaconda3/lib/python3.9/site-packages/sklearn/linear_model/_logistic.py:763: ConvergenceWarning: lbfgs failed to converge (status=1):\n",
      "STOP: TOTAL NO. of ITERATIONS REACHED LIMIT.\n",
      "\n",
      "Increase the number of iterations (max_iter) or scale the data as shown in:\n",
      "    https://scikit-learn.org/stable/modules/preprocessing.html\n",
      "Please also refer to the documentation for alternative solver options:\n",
      "    https://scikit-learn.org/stable/modules/linear_model.html#logistic-regression\n",
      "  n_iter_i = _check_optimize_result(\n"
     ]
    }
   ],
   "source": [
    "models = [evaluate_model(c) for c in [.0001, .001, .01, .1, 1, 10, 100, 1000]]"
   ]
  },
  {
   "cell_type": "code",
   "execution_count": 192,
   "id": "489d3be5",
   "metadata": {},
   "outputs": [
    {
     "name": "stderr",
     "output_type": "stream",
     "text": [
      "/var/folders/pt/3m3r1rq55pdgzpmnqzkdjb240000gn/T/ipykernel_20469/2465912498.py:1: FutureWarning: this method is deprecated in favour of `Styler.format(precision=..)`\n",
      "  (pd.DataFrame(models).round(4)\n"
     ]
    },
    {
     "data": {
      "text/html": [
       "<style type=\"text/css\">\n",
       "</style>\n",
       "<table id=\"T_1cf6f_\">\n",
       "  <caption>Effect of difference C values on accuracy (t=.5) and the resulting coefficients.</caption>\n",
       "  <thead>\n",
       "    <tr>\n",
       "      <th class=\"blank\" >&nbsp;</th>\n",
       "      <th class=\"blank level0\" >&nbsp;</th>\n",
       "      <th class=\"col_heading level0 col0\" >senior_citizen</th>\n",
       "      <th class=\"col_heading level0 col1\" >tenure</th>\n",
       "      <th class=\"col_heading level0 col2\" >monthly_charges</th>\n",
       "      <th class=\"col_heading level0 col3\" >internet_service_type_Fiber optic</th>\n",
       "      <th class=\"col_heading level0 col4\" >contract_type_One year</th>\n",
       "      <th class=\"col_heading level0 col5\" >contract_type_Two year</th>\n",
       "      <th class=\"col_heading level0 col6\" >payment_type_Credit card (automatic)</th>\n",
       "      <th class=\"col_heading level0 col7\" >payment_type_Electronic check</th>\n",
       "      <th class=\"col_heading level0 col8\" >payment_type_Mailed check</th>\n",
       "    </tr>\n",
       "    <tr>\n",
       "      <th class=\"index_name level0\" >C</th>\n",
       "      <th class=\"index_name level1\" >accuracy</th>\n",
       "      <th class=\"blank col0\" >&nbsp;</th>\n",
       "      <th class=\"blank col1\" >&nbsp;</th>\n",
       "      <th class=\"blank col2\" >&nbsp;</th>\n",
       "      <th class=\"blank col3\" >&nbsp;</th>\n",
       "      <th class=\"blank col4\" >&nbsp;</th>\n",
       "      <th class=\"blank col5\" >&nbsp;</th>\n",
       "      <th class=\"blank col6\" >&nbsp;</th>\n",
       "      <th class=\"blank col7\" >&nbsp;</th>\n",
       "      <th class=\"blank col8\" >&nbsp;</th>\n",
       "    </tr>\n",
       "  </thead>\n",
       "  <tbody>\n",
       "    <tr>\n",
       "      <th id=\"T_1cf6f_level0_row0\" class=\"row_heading level0 row0\" >0.0001</th>\n",
       "      <th id=\"T_1cf6f_level1_row0\" class=\"row_heading level1 row0\" >0.7749</th>\n",
       "      <td id=\"T_1cf6f_row0_col0\" class=\"data row0 col0\" >0.006</td>\n",
       "      <td id=\"T_1cf6f_row0_col1\" class=\"data row0 col1\" >-0.052</td>\n",
       "      <td id=\"T_1cf6f_row0_col2\" class=\"data row0 col2\" >0.032</td>\n",
       "      <td id=\"T_1cf6f_row0_col3\" class=\"data row0 col3\" >0.006</td>\n",
       "      <td id=\"T_1cf6f_row0_col4\" class=\"data row0 col4\" >-0.005</td>\n",
       "      <td id=\"T_1cf6f_row0_col5\" class=\"data row0 col5\" >-0.005</td>\n",
       "      <td id=\"T_1cf6f_row0_col6\" class=\"data row0 col6\" >-0.002</td>\n",
       "      <td id=\"T_1cf6f_row0_col7\" class=\"data row0 col7\" >0.009</td>\n",
       "      <td id=\"T_1cf6f_row0_col8\" class=\"data row0 col8\" >-0.004</td>\n",
       "    </tr>\n",
       "    <tr>\n",
       "      <th id=\"T_1cf6f_level0_row1\" class=\"row_heading level0 row1\" >0.001</th>\n",
       "      <th id=\"T_1cf6f_level1_row1\" class=\"row_heading level1 row1\" >0.7755</th>\n",
       "      <td id=\"T_1cf6f_row1_col0\" class=\"data row1 col0\" >0.053</td>\n",
       "      <td id=\"T_1cf6f_row1_col1\" class=\"data row1 col1\" >-0.053</td>\n",
       "      <td id=\"T_1cf6f_row1_col2\" class=\"data row1 col2\" >0.032</td>\n",
       "      <td id=\"T_1cf6f_row1_col3\" class=\"data row1 col3\" >0.054</td>\n",
       "      <td id=\"T_1cf6f_row1_col4\" class=\"data row1 col4\" >-0.042</td>\n",
       "      <td id=\"T_1cf6f_row1_col5\" class=\"data row1 col5\" >-0.046</td>\n",
       "      <td id=\"T_1cf6f_row1_col6\" class=\"data row1 col6\" >-0.018</td>\n",
       "      <td id=\"T_1cf6f_row1_col7\" class=\"data row1 col7\" >0.069</td>\n",
       "      <td id=\"T_1cf6f_row1_col8\" class=\"data row1 col8\" >-0.036</td>\n",
       "    </tr>\n",
       "    <tr>\n",
       "      <th id=\"T_1cf6f_level0_row2\" class=\"row_heading level0 row2\" >0.01</th>\n",
       "      <th id=\"T_1cf6f_level1_row2\" class=\"row_heading level1 row2\" >0.7796</th>\n",
       "      <td id=\"T_1cf6f_row2_col0\" class=\"data row2 col0\" >0.265</td>\n",
       "      <td id=\"T_1cf6f_row2_col1\" class=\"data row2 col1\" >-0.048</td>\n",
       "      <td id=\"T_1cf6f_row2_col2\" class=\"data row2 col2\" >0.024</td>\n",
       "      <td id=\"T_1cf6f_row2_col3\" class=\"data row2 col3\" >0.337</td>\n",
       "      <td id=\"T_1cf6f_row2_col4\" class=\"data row2 col4\" >-0.273</td>\n",
       "      <td id=\"T_1cf6f_row2_col5\" class=\"data row2 col5\" >-0.331</td>\n",
       "      <td id=\"T_1cf6f_row2_col6\" class=\"data row2 col6\" >-0.059</td>\n",
       "      <td id=\"T_1cf6f_row2_col7\" class=\"data row2 col7\" >0.274</td>\n",
       "      <td id=\"T_1cf6f_row2_col8\" class=\"data row2 col8\" >-0.138</td>\n",
       "    </tr>\n",
       "    <tr>\n",
       "      <th id=\"T_1cf6f_level0_row3\" class=\"row_heading level0 row3\" >0.1</th>\n",
       "      <th id=\"T_1cf6f_level1_row3\" class=\"row_heading level1 row3\" >0.7808</th>\n",
       "      <td id=\"T_1cf6f_row3_col0\" class=\"data row3 col0\" >0.404</td>\n",
       "      <td id=\"T_1cf6f_row3_col1\" class=\"data row3 col1\" >-0.038</td>\n",
       "      <td id=\"T_1cf6f_row3_col2\" class=\"data row3 col2\" >0.015</td>\n",
       "      <td id=\"T_1cf6f_row3_col3\" class=\"data row3 col3\" >0.775</td>\n",
       "      <td id=\"T_1cf6f_row3_col4\" class=\"data row3 col4\" >-0.712</td>\n",
       "      <td id=\"T_1cf6f_row3_col5\" class=\"data row3 col5\" >-1.076</td>\n",
       "      <td id=\"T_1cf6f_row3_col6\" class=\"data row3 col6\" >-0.061</td>\n",
       "      <td id=\"T_1cf6f_row3_col7\" class=\"data row3 col7\" >0.355</td>\n",
       "      <td id=\"T_1cf6f_row3_col8\" class=\"data row3 col8\" >-0.168</td>\n",
       "    </tr>\n",
       "    <tr>\n",
       "      <th id=\"T_1cf6f_level0_row4\" class=\"row_heading level0 row4\" >1.0</th>\n",
       "      <th id=\"T_1cf6f_level1_row4\" class=\"row_heading level1 row4\" >0.7761</th>\n",
       "      <td id=\"T_1cf6f_row4_col0\" class=\"data row4 col0\" >0.421</td>\n",
       "      <td id=\"T_1cf6f_row4_col1\" class=\"data row4 col1\" >-0.035</td>\n",
       "      <td id=\"T_1cf6f_row4_col2\" class=\"data row4 col2\" >0.012</td>\n",
       "      <td id=\"T_1cf6f_row4_col3\" class=\"data row4 col3\" >0.918</td>\n",
       "      <td id=\"T_1cf6f_row4_col4\" class=\"data row4 col4\" >-0.878</td>\n",
       "      <td id=\"T_1cf6f_row4_col5\" class=\"data row4 col5\" >-1.503</td>\n",
       "      <td id=\"T_1cf6f_row4_col6\" class=\"data row4 col6\" >-0.055</td>\n",
       "      <td id=\"T_1cf6f_row4_col7\" class=\"data row4 col7\" >0.332</td>\n",
       "      <td id=\"T_1cf6f_row4_col8\" class=\"data row4 col8\" >-0.199</td>\n",
       "    </tr>\n",
       "    <tr>\n",
       "      <th id=\"T_1cf6f_level0_row5\" class=\"row_heading level0 row5\" >10.0</th>\n",
       "      <th id=\"T_1cf6f_level1_row5\" class=\"row_heading level1 row5\" >0.7755</th>\n",
       "      <td id=\"T_1cf6f_row5_col0\" class=\"data row5 col0\" >0.408</td>\n",
       "      <td id=\"T_1cf6f_row5_col1\" class=\"data row5 col1\" >-0.034</td>\n",
       "      <td id=\"T_1cf6f_row5_col2\" class=\"data row5 col2\" >0.011</td>\n",
       "      <td id=\"T_1cf6f_row5_col3\" class=\"data row5 col3\" >0.917</td>\n",
       "      <td id=\"T_1cf6f_row5_col4\" class=\"data row5 col4\" >-0.911</td>\n",
       "      <td id=\"T_1cf6f_row5_col5\" class=\"data row5 col5\" >-1.561</td>\n",
       "      <td id=\"T_1cf6f_row5_col6\" class=\"data row5 col6\" >-0.062</td>\n",
       "      <td id=\"T_1cf6f_row5_col7\" class=\"data row5 col7\" >0.344</td>\n",
       "      <td id=\"T_1cf6f_row5_col8\" class=\"data row5 col8\" >-0.168</td>\n",
       "    </tr>\n",
       "    <tr>\n",
       "      <th id=\"T_1cf6f_level0_row6\" class=\"row_heading level0 row6\" >100.0</th>\n",
       "      <th id=\"T_1cf6f_level1_row6\" class=\"row_heading level1 row6\" >0.7761</th>\n",
       "      <td id=\"T_1cf6f_row6_col0\" class=\"data row6 col0\" >0.409</td>\n",
       "      <td id=\"T_1cf6f_row6_col1\" class=\"data row6 col1\" >-0.034</td>\n",
       "      <td id=\"T_1cf6f_row6_col2\" class=\"data row6 col2\" >0.011</td>\n",
       "      <td id=\"T_1cf6f_row6_col3\" class=\"data row6 col3\" >0.921</td>\n",
       "      <td id=\"T_1cf6f_row6_col4\" class=\"data row6 col4\" >-0.909</td>\n",
       "      <td id=\"T_1cf6f_row6_col5\" class=\"data row6 col5\" >-1.583</td>\n",
       "      <td id=\"T_1cf6f_row6_col6\" class=\"data row6 col6\" >-0.055</td>\n",
       "      <td id=\"T_1cf6f_row6_col7\" class=\"data row6 col7\" >0.345</td>\n",
       "      <td id=\"T_1cf6f_row6_col8\" class=\"data row6 col8\" >-0.178</td>\n",
       "    </tr>\n",
       "    <tr>\n",
       "      <th id=\"T_1cf6f_level0_row7\" class=\"row_heading level0 row7\" >1000.0</th>\n",
       "      <th id=\"T_1cf6f_level1_row7\" class=\"row_heading level1 row7\" >0.7767</th>\n",
       "      <td id=\"T_1cf6f_row7_col0\" class=\"data row7 col0\" >0.421</td>\n",
       "      <td id=\"T_1cf6f_row7_col1\" class=\"data row7 col1\" >-0.034</td>\n",
       "      <td id=\"T_1cf6f_row7_col2\" class=\"data row7 col2\" >0.011</td>\n",
       "      <td id=\"T_1cf6f_row7_col3\" class=\"data row7 col3\" >0.924</td>\n",
       "      <td id=\"T_1cf6f_row7_col4\" class=\"data row7 col4\" >-0.901</td>\n",
       "      <td id=\"T_1cf6f_row7_col5\" class=\"data row7 col5\" >-1.573</td>\n",
       "      <td id=\"T_1cf6f_row7_col6\" class=\"data row7 col6\" >-0.060</td>\n",
       "      <td id=\"T_1cf6f_row7_col7\" class=\"data row7 col7\" >0.342</td>\n",
       "      <td id=\"T_1cf6f_row7_col8\" class=\"data row7 col8\" >-0.180</td>\n",
       "    </tr>\n",
       "  </tbody>\n",
       "</table>\n"
      ],
      "text/plain": [
       "<pandas.io.formats.style.Styler at 0x7febc40a0970>"
      ]
     },
     "execution_count": 192,
     "metadata": {},
     "output_type": "execute_result"
    }
   ],
   "source": [
    "(pd.DataFrame(models).round(4)\n",
    "  .set_index(['C', 'accuracy'])\n",
    "  .style\n",
    "  .set_caption('Effect of difference C values on accuracy (t=.5) and the resulting coefficients.')\n",
    "  .set_precision(3)\n",
    ")"
   ]
  },
  {
   "cell_type": "code",
   "execution_count": null,
   "id": "428bf500",
   "metadata": {},
   "outputs": [],
   "source": [
    "# features2 = ['senior_citizen', 'phone_service_Yes', 'online_security_Yes', 'tech_support_Yes', 'paperless_billing_Yes',\n",
    "#             'internet_service_type_Fiber optic', 'contract_type_One year', 'contract_type_Two year']"
   ]
  },
  {
   "cell_type": "code",
   "execution_count": 193,
   "id": "116971b7",
   "metadata": {},
   "outputs": [],
   "source": [
    "logit2 = LogisticRegression(random_state=123)"
   ]
  },
  {
   "cell_type": "code",
   "execution_count": null,
   "id": "7018012a",
   "metadata": {},
   "outputs": [],
   "source": [
    "# logit2.fit(x_train[features2], y_train)"
   ]
  },
  {
   "cell_type": "code",
   "execution_count": null,
   "id": "441d51cd",
   "metadata": {},
   "outputs": [],
   "source": [
    "# y_pred = logit2.predict(x_train[features2])"
   ]
  },
  {
   "cell_type": "code",
   "execution_count": null,
   "id": "37c70a5e",
   "metadata": {},
   "outputs": [],
   "source": [
    "# accuracy = logit2.score(x_train[features2], y_train)\n",
    "# conf = confusion_matrix(y_train, y_pred)\n",
    "# class_report = pd.DataFrame(classification_report(y_train, y_pred, output_dict=True)).T\n",
    "# conf = confusion_matrix(y_train, y_pred)\n",
    "# tpr = conf[1][1] / conf[1].sum()\n",
    "# fpr = conf[0][1] / conf[0].sum()\n",
    "# tnr = conf[0][0] / conf[0].sum()\n",
    "# fnr = conf[1][0] / conf[1].sum()\n",
    "# print(f'''\n",
    "# The accuracy for our model is {accuracy: .4})\n",
    "# The True Positive Rate is {tpr:.3}, The False Positive Rate is {fpr:.3},\n",
    "# The True Negative Rate is {tnr:.3}, and the False Negative Rate is {fnr:.3}\n",
    "# ''')\n",
    "# print(class_report)"
   ]
  },
  {
   "cell_type": "code",
   "execution_count": null,
   "id": "f6d15d54",
   "metadata": {},
   "outputs": [],
   "source": []
  }
 ],
 "metadata": {
  "kernelspec": {
   "display_name": "Python 3.9.7 64-bit ('base': conda)",
   "language": "python",
   "name": "python397jvsc74a57bd038cca0c38332a56087b24af0bc80247f4fced29cb4f7f437d91dc159adec9c4e"
  },
  "language_info": {
   "codemirror_mode": {
    "name": "ipython",
    "version": 3
   },
   "file_extension": ".py",
   "mimetype": "text/x-python",
   "name": "python",
   "nbconvert_exporter": "python",
   "pygments_lexer": "ipython3",
   "version": "3.9.7"
  }
 },
 "nbformat": 4,
 "nbformat_minor": 5
}
